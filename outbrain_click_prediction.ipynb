{
  "cells": [
    {
      "cell_type": "markdown",
      "metadata": {
        "id": "9y7m0sbgA8d1"
      },
      "source": [
        "# Outbrain Click Prediction\n",
        "\n",
        "https://www.kaggle.com/c/outbrain-click-prediction\n"
      ]
    },
    {
      "cell_type": "markdown",
      "source": [
        "# Data preprocessing using Apache Hadoop, PySpark and Parquet\n"
      ],
      "metadata": {
        "id": "gjT6L-kB4uss"
      }
    },
    {
      "cell_type": "code",
      "execution_count": null,
      "metadata": {
        "id": "gtklKZrrA8d7"
      },
      "outputs": [],
      "source": [
        "! hdfs dfs -mkdir /user/outbrain-click-prediction/\n",
        "! hdfs dfs -mkdir /user/outbrain-click-prediction/data/"
      ]
    },
    {
      "cell_type": "code",
      "execution_count": null,
      "metadata": {
        "jupyter": {
          "outputs_hidden": true
        },
        "id": "cFv-TmCCA8d9",
        "outputId": "fea1a295-8d87-40e2-f196-d8509422e0b2"
      },
      "outputs": [
        {
          "name": "stdout",
          "output_type": "stream",
          "text": [
            "Downloading clicks_test.csv.zip to outbrain-click-prediction\n",
            " 99%|███████████████████████████████████████▌| 134M/135M [00:05<00:00, 32.6MB/s]\n",
            "100%|████████████████████████████████████████| 135M/135M [00:05<00:00, 27.7MB/s]\n",
            "Archive:  outbrain-click-prediction/clicks_test.csv.zip\n",
            "  inflating: outbrain-click-prediction/clicks_test.csv  \n"
          ]
        }
      ],
      "source": [
        "!kaggle competitions download -f clicks_test.csv.zip -c outbrain-click-prediction -p outbrain-click-prediction/\n",
        "!unzip outbrain-click-prediction/clicks_test.csv.zip -d outbrain-click-prediction/\n",
        "!rm outbrain-click-prediction/clicks_test.csv.zip\n",
        "!hdfs dfs -put outbrain-click-prediction/clicks_test.csv /user/outbrain-click-prediction/data/"
      ]
    },
    {
      "cell_type": "code",
      "execution_count": null,
      "metadata": {
        "id": "s8WiaTiFA8d-",
        "outputId": "b6e510ce-962d-43d0-af9a-7953c2a10ab3"
      },
      "outputs": [
        {
          "name": "stdout",
          "output_type": "stream",
          "text": [
            "Downloading clicks_train.csv.zip to outbrain-click-prediction\n",
            "100%|████████████████████████████████████████| 390M/390M [00:15<00:00, 32.5MB/s]\n",
            "100%|████████████████████████████████████████| 390M/390M [00:15<00:00, 26.4MB/s]\n",
            "Archive:  outbrain-click-prediction/clicks_train.csv.zip\n",
            "  inflating: outbrain-click-prediction/clicks_train.csv  \n"
          ]
        }
      ],
      "source": [
        "!kaggle competitions download -f clicks_train.csv.zip -c outbrain-click-prediction -p outbrain-click-prediction/\n",
        "!unzip outbrain-click-prediction/clicks_train.csv.zip -d outbrain-click-prediction/\n",
        "!rm outbrain-click-prediction/clicks_train.csv.zip\n",
        "!hdfs dfs -put outbrain-click-prediction/clicks_train.csv /user/outbrain-click-prediction/data/"
      ]
    },
    {
      "cell_type": "code",
      "execution_count": null,
      "metadata": {
        "id": "dJNCbUW5A8d-",
        "outputId": "c891de7d-5248-4849-c6d8-f2951ad6438a"
      },
      "outputs": [
        {
          "name": "stdout",
          "output_type": "stream",
          "text": [
            "Downloading documents_categories.csv.zip to outbrain-click-prediction\n",
            " 99%|█████████████████████████████████████▌| 32.0M/32.3M [00:01<00:00, 30.6MB/s]\n",
            "100%|██████████████████████████████████████| 32.3M/32.3M [00:01<00:00, 18.3MB/s]\n",
            "Archive:  outbrain-click-prediction/documents_categories.csv.zip\n",
            "  inflating: outbrain-click-prediction/documents_categories.csv  \n"
          ]
        }
      ],
      "source": [
        "!kaggle competitions download -f documents_categories.csv.zip -c outbrain-click-prediction -p outbrain-click-prediction/\n",
        "!unzip outbrain-click-prediction/documents_categories.csv.zip -d outbrain-click-prediction/\n",
        "!rm outbrain-click-prediction/documents_categories.csv.zip\n",
        "!hdfs dfs -put outbrain-click-prediction/documents_categories.csv /user/outbrain-click-prediction/data/"
      ]
    },
    {
      "cell_type": "code",
      "execution_count": null,
      "metadata": {
        "id": "2TSbHfVLA8d_",
        "outputId": "f8aecab5-1b81-4e25-cfd5-118f1efa0f02"
      },
      "outputs": [
        {
          "name": "stdout",
          "output_type": "stream",
          "text": [
            "Downloading documents_entities.csv.zip to outbrain-click-prediction\n",
            "100%|████████████████████████████████████████| 126M/126M [00:04<00:00, 33.1MB/s]\n",
            "100%|████████████████████████████████████████| 126M/126M [00:04<00:00, 27.3MB/s]\n",
            "Archive:  outbrain-click-prediction/documents_entities.csv.zip\n",
            "  inflating: outbrain-click-prediction/documents_entities.csv  \n"
          ]
        }
      ],
      "source": [
        "!kaggle competitions download -f documents_entities.csv.zip -c outbrain-click-prediction -p outbrain-click-prediction/\n",
        "!unzip outbrain-click-prediction/documents_entities.csv.zip -d outbrain-click-prediction/\n",
        "!rm outbrain-click-prediction/documents_entities.csv.zip\n",
        "!hdfs dfs -put outbrain-click-prediction/documents_entities.csv /user/outbrain-click-prediction/data/"
      ]
    },
    {
      "cell_type": "code",
      "execution_count": null,
      "metadata": {
        "id": "743ICeSBA8d_",
        "outputId": "58b636cb-cefb-45c5-adb7-3312602cac4a"
      },
      "outputs": [
        {
          "name": "stdout",
          "output_type": "stream",
          "text": [
            "Downloading documents_meta.csv.zip to outbrain-click-prediction\n",
            " 97%|████████████████████████████████████▋ | 15.0M/15.5M [00:01<00:00, 21.9MB/s]\n",
            "100%|██████████████████████████████████████| 15.5M/15.5M [00:01<00:00, 12.6MB/s]\n",
            "Archive:  outbrain-click-prediction/documents_meta.csv.zip\n",
            "  inflating: outbrain-click-prediction/documents_meta.csv  \n"
          ]
        }
      ],
      "source": [
        "!kaggle competitions download -f documents_meta.csv.zip -c outbrain-click-prediction -p outbrain-click-prediction/\n",
        "!unzip outbrain-click-prediction/documents_meta.csv.zip -d outbrain-click-prediction/\n",
        "!rm outbrain-click-prediction/documents_meta.csv.zip\n",
        "!hdfs dfs -put outbrain-click-prediction/documents_meta.csv /user/outbrain-click-prediction/data/"
      ]
    },
    {
      "cell_type": "code",
      "execution_count": null,
      "metadata": {
        "id": "w60Yl_URA8d_",
        "outputId": "13fe36d9-51b4-4a06-a634-589ca62abfea"
      },
      "outputs": [
        {
          "name": "stdout",
          "output_type": "stream",
          "text": [
            "Downloading documents_topics.csv.zip to outbrain-click-prediction\n",
            " 99%|███████████████████████████████████████▋| 120M/121M [00:04<00:00, 33.1MB/s]\n",
            "100%|████████████████████████████████████████| 121M/121M [00:04<00:00, 27.7MB/s]\n",
            "Archive:  outbrain-click-prediction/documents_topics.csv.zip\n",
            "  inflating: outbrain-click-prediction/documents_topics.csv  \n"
          ]
        }
      ],
      "source": [
        "!kaggle competitions download -f documents_topics.csv.zip -c outbrain-click-prediction -p outbrain-click-prediction/\n",
        "!unzip outbrain-click-prediction/documents_topics.csv.zip -d outbrain-click-prediction/\n",
        "!rm outbrain-click-prediction/documents_topics.csv.zip\n",
        "!hdfs dfs -put outbrain-click-prediction/documents_topics.csv /user/outbrain-click-prediction/data/"
      ]
    },
    {
      "cell_type": "code",
      "execution_count": null,
      "metadata": {
        "id": "OCY9SvvZA8eA",
        "outputId": "cba15fec-db18-43f0-87c1-a9c7f315f3b7"
      },
      "outputs": [
        {
          "name": "stdout",
          "output_type": "stream",
          "text": [
            "Downloading events.csv.zip to outbrain-click-prediction\n",
            " 99%|███████████████████████████████████████▊| 475M/478M [00:15<00:00, 33.3MB/s]\n",
            "100%|████████████████████████████████████████| 478M/478M [00:16<00:00, 31.3MB/s]\n",
            "Archive:  outbrain-click-prediction/events.csv.zip\n",
            "  inflating: outbrain-click-prediction/events.csv  \n"
          ]
        }
      ],
      "source": [
        "!kaggle competitions download -f events.csv.zip -c outbrain-click-prediction -p outbrain-click-prediction/\n",
        "!unzip outbrain-click-prediction/events.csv.zip -d outbrain-click-prediction/\n",
        "!rm outbrain-click-prediction/events.csv.zip\n",
        "!hdfs dfs -put outbrain-click-prediction/events.csv /user/outbrain-click-prediction/data/"
      ]
    },
    {
      "cell_type": "code",
      "execution_count": null,
      "metadata": {
        "id": "tjknqEvqA8eA",
        "outputId": "ece67862-65c4-4820-ddc6-6863ad1e5fc8"
      },
      "outputs": [
        {
          "name": "stdout",
          "output_type": "stream",
          "text": [
            "Archive:  outbrain-click-prediction/page_views.csv.zip\n",
            "  inflating: outbrain-click-prediction/page_views.csv  \n"
          ]
        }
      ],
      "source": [
        "#!kaggle competitions download -f page_views.csv.zip -c outbrain-click-prediction -p outbrain-click-prediction/\n",
        "!unzip outbrain-click-prediction/page_views.csv.zip -d outbrain-click-prediction/\n",
        "!rm outbrain-click-prediction/page_views.csv.zip\n",
        "!hdfs dfs -put outbrain-click-prediction/page_views.csv /user/outbrain-click-prediction/data/"
      ]
    },
    {
      "cell_type": "code",
      "execution_count": null,
      "metadata": {
        "id": "Id5ET8fpA8eA",
        "outputId": "0bc4a711-66c3-4ba2-bd48-65cb5ce70c83"
      },
      "outputs": [
        {
          "name": "stdout",
          "output_type": "stream",
          "text": [
            "Archive:  outbrain-click-prediction/page_views_sample.csv.zip\n",
            "  inflating: outbrain-click-prediction/page_views_sample.csv  \n"
          ]
        }
      ],
      "source": [
        "#!kaggle competitions download -f page_views_sample.csv.zip -c outbrain-click-prediction -p outbrain-click-prediction/\n",
        "!unzip outbrain-click-prediction/page_views_sample.csv.zip -d outbrain-click-prediction/\n",
        "!rm outbrain-click-prediction/page_views_sample.csv.zip\n",
        "!hdfs dfs -put outbrain-click-prediction/page_views_sample.csv /user/outbrain-click-prediction/data/"
      ]
    },
    {
      "cell_type": "code",
      "execution_count": null,
      "metadata": {
        "id": "bAoTjJqSA8eB",
        "outputId": "c42d3b2f-eaaa-4498-fa14-3b3eef6883dd"
      },
      "outputs": [
        {
          "name": "stdout",
          "output_type": "stream",
          "text": [
            "Archive:  outbrain-click-prediction/promoted_content.csv.zip\n",
            "  inflating: outbrain-click-prediction/promoted_content.csv  \n"
          ]
        }
      ],
      "source": [
        "#!kaggle competitions download -f promoted_content.csv.zip -c outbrain-click-prediction -p outbrain-click-prediction/\n",
        "!unzip outbrain-click-prediction/promoted_content.csv.zip -d outbrain-click-prediction/\n",
        "!rm outbrain-click-prediction/promoted_content.csv.zip\n",
        "!hdfs dfs -put outbrain-click-prediction/promoted_content.csv /user/outbrain-click-prediction/data/"
      ]
    },
    {
      "cell_type": "code",
      "execution_count": null,
      "metadata": {
        "id": "_-rUBeLjA8eB"
      },
      "outputs": [],
      "source": [
        "#!kaggle competitions download -f sample_submission.csv.zip -c outbrain-click-prediction -p outbrain-click-prediction/\n",
        "#!unzip outbrain-click-prediction/sample_submission.csv.zip -d outbrain-click-prediction/\n",
        "#!rm outbrain-click-prediction/sample_submission.csv.zip\n",
        "!hdfs dfs -put outbrain-click-prediction/sample_submission.csv /user/outbrain-click-prediction/data/"
      ]
    },
    {
      "cell_type": "code",
      "execution_count": null,
      "metadata": {
        "id": "FLyQsGn5A8eB",
        "outputId": "73be23dd-4b42-440f-ed61-e31e789855ac"
      },
      "outputs": [
        {
          "name": "stdout",
          "output_type": "stream",
          "text": [
            "Found 11 items\r\n",
            "-rw-r--r--   1 ubuntu hadoop   506953370 2024-03-19 13:21 /user/outbrain-click-prediction/data/clicks_test.csv\r\n",
            "-rw-r--r--   1 ubuntu hadoop  1486734654 2024-03-19 13:30 /user/outbrain-click-prediction/data/clicks_train.csv\r\n",
            "-rw-r--r--   1 ubuntu hadoop   118017029 2024-03-19 13:30 /user/outbrain-click-prediction/data/documents_categories.csv\r\n",
            "-rw-r--r--   1 ubuntu hadoop   324096832 2024-03-19 13:30 /user/outbrain-click-prediction/data/documents_entities.csv\r\n",
            "-rw-r--r--   1 ubuntu hadoop    89380566 2024-03-19 13:30 /user/outbrain-click-prediction/data/documents_meta.csv\r\n",
            "-rw-r--r--   1 ubuntu hadoop   339473038 2024-03-19 13:31 /user/outbrain-click-prediction/data/documents_topics.csv\r\n",
            "-rw-r--r--   1 ubuntu hadoop  1208549589 2024-03-19 13:31 /user/outbrain-click-prediction/data/events.csv\r\n",
            "-rw-r--r--   1 ubuntu hadoop 94931571958 2024-03-19 18:40 /user/outbrain-click-prediction/data/page_views.csv\r\n",
            "-rw-r--r--   1 ubuntu hadoop   454346554 2024-03-19 18:41 /user/outbrain-click-prediction/data/page_views_sample.csv\r\n",
            "-rw-r--r--   1 ubuntu hadoop    13886609 2024-03-19 18:41 /user/outbrain-click-prediction/data/promoted_content.csv\r\n",
            "-rw-r--r--   1 ubuntu hadoop   273136709 2024-03-19 13:32 /user/outbrain-click-prediction/data/sample_submission.csv\r\n"
          ]
        }
      ],
      "source": [
        "! hdfs dfs -ls /user/outbrain-click-prediction/data/"
      ]
    },
    {
      "cell_type": "code",
      "execution_count": null,
      "metadata": {
        "id": "XZqVouyOA8eB",
        "outputId": "30828024-f68e-44c7-c1da-ccace291deb9"
      },
      "outputs": [
        {
          "name": "stdout",
          "output_type": "stream",
          "text": [
            "clicks_test.csv\t\t  documents_meta.csv\tpage_views_sample.csv\r\n",
            "clicks_train.csv\t  documents_topics.csv\tpromoted_content.csv\r\n",
            "documents_categories.csv  events.csv\t\tsample_submission.csv\r\n",
            "documents_entities.csv\t  page_views.csv\r\n"
          ]
        }
      ],
      "source": [
        "!ls outbrain-click-prediction/"
      ]
    },
    {
      "cell_type": "code",
      "execution_count": null,
      "metadata": {
        "id": "FLy97fCKA8eC"
      },
      "outputs": [],
      "source": [
        "import findspark\n",
        "findspark.init()"
      ]
    },
    {
      "cell_type": "code",
      "execution_count": null,
      "metadata": {
        "id": "TCcZw16QA8eC"
      },
      "outputs": [],
      "source": [
        "import pyspark\n",
        "sc = pyspark.SparkContext(appName=\"outbrain-click-prediction\")"
      ]
    },
    {
      "cell_type": "code",
      "execution_count": null,
      "metadata": {
        "id": "6a9fI1M2A8eC"
      },
      "outputs": [],
      "source": [
        "from pyspark.sql import SparkSession, Row\n",
        "se = SparkSession(sc)"
      ]
    },
    {
      "cell_type": "code",
      "execution_count": null,
      "metadata": {
        "id": "yVvCgQ9-A8eC",
        "outputId": "215782d5-3f78-4a4e-96cb-c15ba36f89ed"
      },
      "outputs": [
        {
          "name": "stdout",
          "output_type": "stream",
          "text": [
            "clicks_test\n",
            "rows: 32225162\n",
            "root\n",
            " |-- display_id: integer (nullable = true)\n",
            " |-- ad_id: integer (nullable = true)\n",
            "\n"
          ]
        }
      ],
      "source": [
        "clicks_test_df = se.read.csv('/user/outbrain-click-prediction/data/clicks_test.csv', header=True, inferSchema=True, sep=',')\n",
        "print('clicks_test')\n",
        "print('rows:', clicks_test_df.count())\n",
        "clicks_test_df.write.parquet(\"/user/outbrain-click-prediction/parquet/clicks_test.parquet\")\n",
        "clicks_test_df = se.read.parquet(\"/user/outbrain-click-prediction/parquet/clicks_test.parquet\")\n",
        "clicks_test_df.registerTempTable('clicks_test')\n",
        "clicks_test_df.printSchema()"
      ]
    },
    {
      "cell_type": "code",
      "execution_count": null,
      "metadata": {
        "id": "1UbGg9F_A8eD",
        "outputId": "ae61e4b3-7839-4e75-bbec-4c6c9b54d1d8"
      },
      "outputs": [
        {
          "name": "stdout",
          "output_type": "stream",
          "text": [
            "clicks_train\n",
            "rows: 87141731\n",
            "root\n",
            " |-- display_id: integer (nullable = true)\n",
            " |-- ad_id: integer (nullable = true)\n",
            " |-- clicked: integer (nullable = true)\n",
            "\n"
          ]
        }
      ],
      "source": [
        "clicks_train_df = se.read.csv('/user/outbrain-click-prediction/data/clicks_train.csv', header=True, inferSchema=True, sep=',')\n",
        "print('clicks_train')\n",
        "print('rows:', clicks_train_df.count())\n",
        "clicks_train_df.write.parquet(\"/user/outbrain-click-prediction/parquet/clicks_train.parquet\")\n",
        "clicks_train_df = se.read.parquet(\"/user/outbrain-click-prediction/parquet/clicks_train.parquet\")\n",
        "clicks_train_df.registerTempTable('clicks_train')\n",
        "clicks_train_df.printSchema()"
      ]
    },
    {
      "cell_type": "code",
      "execution_count": null,
      "metadata": {
        "id": "UWrcn3i3A8eD"
      },
      "outputs": [],
      "source": [
        "documents_categories_df = se.read.csv('/user/outbrain-click-prediction/data/documents_categories.csv', header=True, inferSchema=True, sep=',')\n",
        "print('documents_categories')\n",
        "print('rows:', documents_categories_df.count())\n",
        "documents_categories_df.write.parquet(\"/user/outbrain-click-prediction/parquet/documents_categories.parquet\")\n",
        "documents_categories_df = se.read.parquet(\"/user/outbrain-click-prediction/parquet/documents_categories.parquet\")\n",
        "documents_categories_df.registerTempTable('documents_categories')\n",
        "documents_categories_df.printSchema()"
      ]
    },
    {
      "cell_type": "code",
      "execution_count": null,
      "metadata": {
        "id": "dgxh2JC3A8eD"
      },
      "outputs": [],
      "source": [
        "documents_entities_df = se.read.csv('/user/outbrain-click-prediction/data/documents_entities.csv', header=True, inferSchema=True, sep=',')\n",
        "print('documents_entities')\n",
        "print('rows:', documents_entities_df.count())\n",
        "documents_entities_df.write.parquet(\"/user/outbrain-click-prediction/parquet/documents_entities.parquet\")\n",
        "documents_entities_df = se.read.parquet(\"/user/outbrain-click-prediction/parquet/documents_entities.parquet\")\n",
        "documents_entities_df.registerTempTable('documents_entities')\n",
        "documents_entities_df.printSchema()"
      ]
    },
    {
      "cell_type": "code",
      "execution_count": null,
      "metadata": {
        "id": "OvZU5zvAA8eD"
      },
      "outputs": [],
      "source": [
        "documents_meta_df = se.read.csv('/user/outbrain-click-prediction/data/documents_meta.csv', header=True, inferSchema=True, sep=',')\n",
        "print('documents_meta')\n",
        "print('rows:', documents_meta_df.count())\n",
        "documents_meta_df.write.parquet(\"/user/outbrain-click-prediction/parquet/documents_meta.parquet\")\n",
        "documents_meta_df = se.read.parquet(\"/user/outbrain-click-prediction/parquet/documents_meta.parquet\")\n",
        "documents_meta_df.registerTempTable('documents_meta')\n",
        "documents_meta_df.printSchema()"
      ]
    },
    {
      "cell_type": "code",
      "execution_count": null,
      "metadata": {
        "id": "ROHLGH5RA8eD"
      },
      "outputs": [],
      "source": [
        "documents_topics_df = se.read.csv('/user/outbrain-click-prediction/data/documents_topics.csv', header=True, inferSchema=True, sep=',')\n",
        "print('documents_topics')\n",
        "print('rows:', documents_topics_df.count())\n",
        "documents_topics_df.write.parquet(\"/user/outbrain-click-prediction/parquet/documents_topics.parquet\")\n",
        "documents_topics_df = se.read.parquet(\"/user/outbrain-click-prediction/parquet/documents_topics.parquet\")\n",
        "documents_topics_df.registerTempTable('documents_topics')\n",
        "documents_topics_df.printSchema()"
      ]
    },
    {
      "cell_type": "code",
      "execution_count": null,
      "metadata": {
        "id": "jUUQIH1eA8eD",
        "outputId": "51a208fe-6118-4093-fb73-8cd5afcab579"
      },
      "outputs": [
        {
          "name": "stdout",
          "output_type": "stream",
          "text": [
            "events\n",
            "rows: 23120126\n",
            "root\n",
            " |-- display_id: integer (nullable = true)\n",
            " |-- uuid: string (nullable = true)\n",
            " |-- document_id: integer (nullable = true)\n",
            " |-- timestamp: integer (nullable = true)\n",
            " |-- platform: string (nullable = true)\n",
            " |-- geo_location: string (nullable = true)\n",
            "\n"
          ]
        }
      ],
      "source": [
        "events_df = se.read.csv('/user/outbrain-click-prediction/data/events.csv', header=True, inferSchema=True, sep=',')\n",
        "print('events')\n",
        "print('rows:', events_df.count())\n",
        "events_df.write.parquet(\"/user/outbrain-click-prediction/parquet/events.parquet\")\n",
        "events_df = se.read.parquet(\"/user/outbrain-click-prediction/parquet/events.parquet\")\n",
        "events_df.registerTempTable('events')\n",
        "events_df.printSchema()"
      ]
    },
    {
      "cell_type": "code",
      "execution_count": null,
      "metadata": {
        "id": "VpagndhPA8eE",
        "outputId": "95101f7e-a057-4779-98be-b78f0f0d1890"
      },
      "outputs": [
        {
          "name": "stdout",
          "output_type": "stream",
          "text": [
            "page_views\n",
            "rows: 2034275448\n",
            "root\n",
            " |-- uuid: string (nullable = true)\n",
            " |-- document_id: integer (nullable = true)\n",
            " |-- timestamp: integer (nullable = true)\n",
            " |-- platform: integer (nullable = true)\n",
            " |-- geo_location: string (nullable = true)\n",
            " |-- traffic_source: integer (nullable = true)\n",
            "\n"
          ]
        }
      ],
      "source": [
        "page_views_df = se.read.csv('/user/outbrain-click-prediction/data/page_views.csv', header=True, inferSchema=True, sep=',')\n",
        "print('page_views')\n",
        "print('rows:', page_views_df.count())\n",
        "page_views_df.write.parquet(\"/user/outbrain-click-prediction/parquet/page_views.parquet\")\n",
        "page_views_df = se.read.parquet(\"/user/outbrain-click-prediction/parquet/page_views.parquet\")\n",
        "page_views_df.registerTempTable('page_views')\n",
        "page_views_df.printSchema()"
      ]
    },
    {
      "cell_type": "code",
      "execution_count": null,
      "metadata": {
        "id": "qNpQ3VF4A8eE",
        "outputId": "675c654a-51ae-44d3-b8ad-1c0fab20f8aa"
      },
      "outputs": [
        {
          "name": "stdout",
          "output_type": "stream",
          "text": [
            "promoted_content\n",
            "rows: 559583\n",
            "root\n",
            " |-- ad_id: integer (nullable = true)\n",
            " |-- document_id: integer (nullable = true)\n",
            " |-- campaign_id: integer (nullable = true)\n",
            " |-- advertiser_id: integer (nullable = true)\n",
            "\n"
          ]
        }
      ],
      "source": [
        "promoted_content_df = se.read.csv('/user/outbrain-click-prediction/data/promoted_content.csv', header=True, inferSchema=True, sep=',')\n",
        "print('promoted_content')\n",
        "print('rows:', promoted_content_df.count())\n",
        "promoted_content_df.write.parquet(\"/user/outbrain-click-prediction/parquet/promoted_content.parquet\")\n",
        "promoted_content_df = se.read.parquet(\"/user/outbrain-click-prediction/parquet/promoted_content.parquet\")\n",
        "promoted_content_df.registerTempTable('promoted_content')\n",
        "promoted_content_df.printSchema()"
      ]
    },
    {
      "cell_type": "markdown",
      "metadata": {
        "id": "XgphnODlA8eE"
      },
      "source": [
        "# Extract useful features for model training with SQL\n",
        "\n",
        "Use *display_id, ad_id, promo_document_id,\tcampaign_id,\tadvertiser_id,\tuuid,\tdocument_id,\tplatform,\tgeo_location,\tcountry,\tstate,\tdma* features for model training."
      ]
    },
    {
      "cell_type": "code",
      "execution_count": null,
      "metadata": {
        "id": "nqnCFluDA8eE"
      },
      "outputs": [],
      "source": [
        "se.sql(\"\"\"\n",
        "    SELECT * FROM (\n",
        "    SELECT\n",
        "        display_id,\n",
        "        ad_id,\n",
        "        clicked,\n",
        "        1 as train\n",
        "    FROM clicks_train\n",
        "    )\n",
        "    UNION ALL\n",
        "    SELECT * FROM (\n",
        "    SELECT\n",
        "        display_id,\n",
        "        ad_id,\n",
        "        0 as clicked,\n",
        "        0 as train\n",
        "    FROM clicks_test\n",
        "    )\n",
        "\"\"\").registerTempTable('clicks')"
      ]
    },
    {
      "cell_type": "code",
      "execution_count": null,
      "metadata": {
        "id": "aNfwWi9UA8eE",
        "outputId": "6f9fdeab-fbbd-438b-f8f4-a15faf40e876"
      },
      "outputs": [
        {
          "data": {
            "text/plain": [
              "<function __main__.to_dma(raw_string) -> str>"
            ]
          },
          "execution_count": 243,
          "metadata": {},
          "output_type": "execute_result"
        }
      ],
      "source": [
        "def to_country(raw_string) -> str:\n",
        "    try:\n",
        "        return raw_string.split(\">\")[0]\n",
        "    except:\n",
        "        return \"\"\n",
        "\n",
        "def to_state(raw_string) -> str:\n",
        "    try:\n",
        "        return raw_string.split(\">\")[1]\n",
        "    except:\n",
        "        return \"\"\n",
        "\n",
        "def to_dma(raw_string) -> str:\n",
        "    try:\n",
        "        return raw_string.split(\">\")[2]\n",
        "    except:\n",
        "        return \"\"\n",
        "\n",
        "se.udf.register(\"to_country\", to_country)\n",
        "se.udf.register(\"to_state\", to_state)\n",
        "se.udf.register(\"to_dma\", to_dma)"
      ]
    },
    {
      "cell_type": "code",
      "execution_count": null,
      "metadata": {
        "id": "yTHhm4Q1A8eF",
        "outputId": "bc341e7e-1965-4452-b9a7-711301c38a4f"
      },
      "outputs": [
        {
          "data": {
            "text/html": [
              "<div>\n",
              "<style scoped>\n",
              "    .dataframe tbody tr th:only-of-type {\n",
              "        vertical-align: middle;\n",
              "    }\n",
              "\n",
              "    .dataframe tbody tr th {\n",
              "        vertical-align: top;\n",
              "    }\n",
              "\n",
              "    .dataframe thead th {\n",
              "        text-align: right;\n",
              "    }\n",
              "</style>\n",
              "<table border=\"1\" class=\"dataframe\">\n",
              "  <thead>\n",
              "    <tr style=\"text-align: right;\">\n",
              "      <th></th>\n",
              "      <th>display_id</th>\n",
              "      <th>ad_id</th>\n",
              "      <th>clicked</th>\n",
              "      <th>train</th>\n",
              "      <th>promo_document_id</th>\n",
              "      <th>campaign_id</th>\n",
              "      <th>advertiser_id</th>\n",
              "      <th>uuid</th>\n",
              "      <th>document_id</th>\n",
              "      <th>platform</th>\n",
              "      <th>geo_location</th>\n",
              "      <th>country</th>\n",
              "      <th>state</th>\n",
              "      <th>dma</th>\n",
              "    </tr>\n",
              "  </thead>\n",
              "  <tbody>\n",
              "    <tr>\n",
              "      <th>0</th>\n",
              "      <td>148</td>\n",
              "      <td>89351</td>\n",
              "      <td>1</td>\n",
              "      <td>1</td>\n",
              "      <td>990613</td>\n",
              "      <td>7617</td>\n",
              "      <td>2181</td>\n",
              "      <td>9adce6a5363308</td>\n",
              "      <td>1205772</td>\n",
              "      <td>2</td>\n",
              "      <td>US&gt;LA&gt;612</td>\n",
              "      <td>US</td>\n",
              "      <td>LA</td>\n",
              "      <td>612</td>\n",
              "    </tr>\n",
              "    <tr>\n",
              "      <th>1</th>\n",
              "      <td>148</td>\n",
              "      <td>152140</td>\n",
              "      <td>0</td>\n",
              "      <td>1</td>\n",
              "      <td>1060089</td>\n",
              "      <td>19032</td>\n",
              "      <td>1593</td>\n",
              "      <td>9adce6a5363308</td>\n",
              "      <td>1205772</td>\n",
              "      <td>2</td>\n",
              "      <td>US&gt;LA&gt;612</td>\n",
              "      <td>US</td>\n",
              "      <td>LA</td>\n",
              "      <td>612</td>\n",
              "    </tr>\n",
              "    <tr>\n",
              "      <th>2</th>\n",
              "      <td>148</td>\n",
              "      <td>152656</td>\n",
              "      <td>0</td>\n",
              "      <td>1</td>\n",
              "      <td>1086755</td>\n",
              "      <td>10511</td>\n",
              "      <td>2151</td>\n",
              "      <td>9adce6a5363308</td>\n",
              "      <td>1205772</td>\n",
              "      <td>2</td>\n",
              "      <td>US&gt;LA&gt;612</td>\n",
              "      <td>US</td>\n",
              "      <td>LA</td>\n",
              "      <td>612</td>\n",
              "    </tr>\n",
              "    <tr>\n",
              "      <th>3</th>\n",
              "      <td>148</td>\n",
              "      <td>326768</td>\n",
              "      <td>0</td>\n",
              "      <td>1</td>\n",
              "      <td>1379561</td>\n",
              "      <td>23374</td>\n",
              "      <td>2348</td>\n",
              "      <td>9adce6a5363308</td>\n",
              "      <td>1205772</td>\n",
              "      <td>2</td>\n",
              "      <td>US&gt;LA&gt;612</td>\n",
              "      <td>US</td>\n",
              "      <td>LA</td>\n",
              "      <td>612</td>\n",
              "    </tr>\n",
              "    <tr>\n",
              "      <th>4</th>\n",
              "      <td>463</td>\n",
              "      <td>28270</td>\n",
              "      <td>0</td>\n",
              "      <td>1</td>\n",
              "      <td>845272</td>\n",
              "      <td>4346</td>\n",
              "      <td>1913</td>\n",
              "      <td>85d999a1dd5483</td>\n",
              "      <td>1787133</td>\n",
              "      <td>1</td>\n",
              "      <td>US&gt;SD&gt;764</td>\n",
              "      <td>US</td>\n",
              "      <td>SD</td>\n",
              "      <td>764</td>\n",
              "    </tr>\n",
              "  </tbody>\n",
              "</table>\n",
              "</div>"
            ],
            "text/plain": [
              "   display_id   ad_id  clicked  train  promo_document_id  campaign_id  \\\n",
              "0         148   89351        1      1             990613         7617   \n",
              "1         148  152140        0      1            1060089        19032   \n",
              "2         148  152656        0      1            1086755        10511   \n",
              "3         148  326768        0      1            1379561        23374   \n",
              "4         463   28270        0      1             845272         4346   \n",
              "\n",
              "   advertiser_id            uuid  document_id platform geo_location country  \\\n",
              "0           2181  9adce6a5363308      1205772        2    US>LA>612      US   \n",
              "1           1593  9adce6a5363308      1205772        2    US>LA>612      US   \n",
              "2           2151  9adce6a5363308      1205772        2    US>LA>612      US   \n",
              "3           2348  9adce6a5363308      1205772        2    US>LA>612      US   \n",
              "4           1913  85d999a1dd5483      1787133        1    US>SD>764      US   \n",
              "\n",
              "  state  dma  \n",
              "0    LA  612  \n",
              "1    LA  612  \n",
              "2    LA  612  \n",
              "3    LA  612  \n",
              "4    SD  764  "
            ]
          },
          "execution_count": 244,
          "metadata": {},
          "output_type": "execute_result"
        }
      ],
      "source": [
        "all_data = se.sql(\"\"\"\n",
        "    SELECT\n",
        "        clicks.display_id as display_id,\n",
        "        clicks.ad_id as ad_id,\n",
        "        clicks.clicked as clicked,\n",
        "        clicks.train as train,\n",
        "        IFNULL(promoted_content.document_id, -1) as promo_document_id,\n",
        "        IFNULL(promoted_content.campaign_id, -1) as campaign_id,\n",
        "        IFNULL(promoted_content.advertiser_id, -1) as advertiser_id,\n",
        "        IFNULL(events.uuid, -1) as uuid,\n",
        "        IFNULL(events.document_id, -1) as document_id,\n",
        "        IFNULL(events.platform, -1) as platform,\n",
        "        IFNULL(events.geo_location, \"\") as geo_location,\n",
        "        to_country(events.geo_location) as country,\n",
        "        to_state(events.geo_location) as state,\n",
        "        to_dma(events.geo_location) as dma\n",
        "    FROM clicks\n",
        "    INNER JOIN promoted_content ON clicks.ad_id = promoted_content.ad_id\n",
        "    INNER JOIN events ON clicks.display_id = events.display_id\n",
        "\"\"\")\n",
        "all_data.registerTempTable('all_data')\n",
        "all_data.limit(5).toPandas()"
      ]
    },
    {
      "cell_type": "code",
      "execution_count": null,
      "metadata": {
        "id": "-nUIGF73A8eF",
        "outputId": "d1e6cfe7-8b4b-4da2-eef6-3dc1a66efcf9"
      },
      "outputs": [
        {
          "name": "stdout",
          "output_type": "stream",
          "text": [
            "Deleted /user/outbrain-click-prediction/parquet/all_data.parquet\r\n"
          ]
        }
      ],
      "source": [
        "!hdfs dfs -rm -f -r /user/outbrain-click-prediction/parquet/all_data.parquet"
      ]
    },
    {
      "cell_type": "code",
      "execution_count": null,
      "metadata": {
        "id": "ea0aIThiA8eF"
      },
      "outputs": [],
      "source": [
        "all_data.write.parquet(\"/user/outbrain-click-prediction/parquet/all_data.parquet\")"
      ]
    },
    {
      "cell_type": "code",
      "execution_count": null,
      "metadata": {
        "id": "sZHj5PXLA8eG"
      },
      "outputs": [],
      "source": [
        "train_data = se.sql(\"\"\"\n",
        "    SELECT\n",
        "        *\n",
        "    FROM all_data\n",
        "    WHERE train = 1\n",
        "\"\"\")"
      ]
    },
    {
      "cell_type": "code",
      "execution_count": null,
      "metadata": {
        "id": "lT9EE-KEA8eG"
      },
      "outputs": [],
      "source": [
        "test_data = se.sql(\"\"\"\n",
        "    SELECT\n",
        "        *\n",
        "    FROM all_data\n",
        "    WHERE train = 0\n",
        "\"\"\")"
      ]
    },
    {
      "cell_type": "code",
      "execution_count": null,
      "metadata": {
        "id": "7yIOi991A8eG",
        "outputId": "acdbcd06-7f27-4cee-fe17-da38da726731"
      },
      "outputs": [
        {
          "name": "stdout",
          "output_type": "stream",
          "text": [
            "Deleted /user/outbrain-click-prediction/parquet/train_data.parquet\r\n"
          ]
        }
      ],
      "source": [
        "!hdfs dfs -rm -f -r /user/outbrain-click-prediction/parquet/train_data.parquet"
      ]
    },
    {
      "cell_type": "code",
      "execution_count": null,
      "metadata": {
        "id": "5HdTUlj5A8eG"
      },
      "outputs": [],
      "source": [
        "train_data.write.parquet(\"/user/outbrain-click-prediction/parquet/train_data.parquet\")"
      ]
    },
    {
      "cell_type": "code",
      "execution_count": null,
      "metadata": {
        "id": "ILc_jVdiA8eH",
        "outputId": "72e39e70-a057-4132-be7e-56740d1ae44c"
      },
      "outputs": [
        {
          "name": "stdout",
          "output_type": "stream",
          "text": [
            "Deleted /user/outbrain-click-prediction/parquet/test_data.parquet\r\n"
          ]
        }
      ],
      "source": [
        "!hdfs dfs -rm -f -r /user/outbrain-click-prediction/parquet/test_data.parquet"
      ]
    },
    {
      "cell_type": "code",
      "execution_count": null,
      "metadata": {
        "id": "aCmxb3mKA8eH"
      },
      "outputs": [],
      "source": [
        "test_data.write.parquet(\"/user/outbrain-click-prediction/parquet/test_data.parquet\")"
      ]
    },
    {
      "cell_type": "code",
      "execution_count": null,
      "metadata": {
        "id": "Wf8lOYE-A8eH"
      },
      "outputs": [],
      "source": [
        "train_data_parquet = se.read.parquet(\"/user/outbrain-click-prediction/parquet/train_data.parquet\")"
      ]
    },
    {
      "cell_type": "code",
      "execution_count": null,
      "metadata": {
        "id": "IKRSfHT9A8eI"
      },
      "outputs": [],
      "source": [
        "test_data_parquet = se.read.parquet(\"/user/outbrain-click-prediction/parquet/test_data.parquet\")"
      ]
    },
    {
      "cell_type": "code",
      "execution_count": null,
      "metadata": {
        "id": "HXBCJIgeA8eJ",
        "outputId": "f57aff00-8d77-46f1-c207-8490a481a979"
      },
      "outputs": [
        {
          "name": "stdout",
          "output_type": "stream",
          "text": [
            "--2024-03-21 19:39:25--  http://finance.yendor.com/ML/VW/Binaries/vw-8.20190624\n",
            "Resolving finance.yendor.com (finance.yendor.com)... 69.163.152.190\n",
            "Connecting to finance.yendor.com (finance.yendor.com)|69.163.152.190|:80... connected.\n",
            "HTTP request sent, awaiting response... 301 Moved Permanently\n",
            "Location: https://finance.yendor.com/ML/VW/Binaries/vw-8.20190624 [following]\n",
            "--2024-03-21 19:39:26--  https://finance.yendor.com/ML/VW/Binaries/vw-8.20190624\n",
            "Connecting to finance.yendor.com (finance.yendor.com)|69.163.152.190|:443... connected.\n",
            "HTTP request sent, awaiting response... 200 OK\n",
            "Length: 9467376 (9.0M)\n",
            "Saving to: ‘/usr/bin/vw’\n",
            "\n",
            "/usr/bin/vw         100%[===================>]   9.03M  4.92MB/s    in 1.8s    \n",
            "\n",
            "2024-03-21 19:39:28 (4.92 MB/s) - ‘/usr/bin/vw’ saved [9467376/9467376]\n",
            "\n"
          ]
        }
      ],
      "source": [
        "! sudo wget http://finance.yendor.com/ML/VW/Binaries/vw-8.20190624 -O /usr/bin/vw\n",
        "! sudo chmod +x /usr/bin/vw\n",
        "! sudo chown ubuntu /usr/bin/vw"
      ]
    },
    {
      "cell_type": "code",
      "execution_count": null,
      "metadata": {
        "id": "xlyY5GA8A8eJ",
        "outputId": "9b4fe9e1-e8ac-444d-9a11-d3c9f9f244f2"
      },
      "outputs": [
        {
          "name": "stdout",
          "output_type": "stream",
          "text": [
            "Hit:1 http://mirror.yandex.ru/ubuntu focal InRelease\n",
            "Hit:2 http://dataproc.storage.yandexcloud.net/ci/trunk/225-54615002560eee21 focal InRelease\n",
            "Get:3 http://mirror.yandex.ru/ubuntu focal-updates InRelease [114 kB]          \n",
            "Hit:4 http://mirror.yandex.ru/ubuntu focal-backports InRelease                 \n",
            "Hit:5 http://mirror.yandex.ru/mirrors/postgresql focal-pgdg InRelease          \n",
            "Get:6 http://security.ubuntu.com/ubuntu focal-security InRelease [114 kB]      \n",
            "Hit:7 https://repos.influxdata.com/ubuntu focal InRelease                      \n",
            "Hit:8 https://repo.saltproject.io/py3/ubuntu/20.04/amd64/3002 focal InRelease  \n",
            "Get:9 http://mirror.yandex.ru/ubuntu focal-updates/main amd64 Packages [3,187 kB]\n",
            "Get:10 http://mirror.yandex.ru/ubuntu focal-updates/main i386 Packages [951 kB]\n",
            "Get:11 http://mirror.yandex.ru/ubuntu focal-updates/main Translation-en [508 kB]\n",
            "Hit:12 https://packages.fluentbit.io/ubuntu/focal focal InRelease              \n",
            "Get:13 http://security.ubuntu.com/ubuntu focal-security/main amd64 Packages [2,810 kB]\n",
            "Get:14 http://security.ubuntu.com/ubuntu focal-security/main i386 Packages [726 kB]\n",
            "Get:15 http://security.ubuntu.com/ubuntu focal-security/main Translation-en [426 kB]\n",
            "Fetched 8,835 kB in 2s (4,445 kB/s)                                    \n",
            "Reading package lists... Done\n",
            "N: Skipping acquire of configured file 'main/binary-i386/Packages' as repository 'https://packages.fluentbit.io/ubuntu/focal focal InRelease' doesn't support architecture 'i386'\n",
            "Reading package lists... Done\n",
            "Building dependency tree       \n",
            "Reading state information... Done\n",
            "graphviz is already the newest version (2.42.2-3build2).\n",
            "0 upgraded, 0 newly installed, 0 to remove and 52 not upgraded.\n"
          ]
        }
      ],
      "source": [
        "! sudo apt-get update -y && sudo apt-get install graphviz -y"
      ]
    },
    {
      "cell_type": "code",
      "execution_count": null,
      "metadata": {
        "id": "qrkSXoX7A8eJ",
        "outputId": "010ce042-6e40-4fe1-eab0-60db7675c4be"
      },
      "outputs": [
        {
          "name": "stdout",
          "output_type": "stream",
          "text": [
            "Requirement already satisfied: numpy in ./.local/lib/python3.8/site-packages (1.24.4)\n",
            "Requirement already satisfied: pandas in ./.local/lib/python3.8/site-packages (2.0.3)\n",
            "Requirement already satisfied: scikit-learn in ./.local/lib/python3.8/site-packages (1.3.2)\n",
            "Requirement already satisfied: dateparser in ./.local/lib/python3.8/site-packages (1.2.0)\n",
            "Requirement already satisfied: pandarallel in ./.local/lib/python3.8/site-packages (1.6.5)\n",
            "Requirement already satisfied: ipywidgets in ./.local/lib/python3.8/site-packages (8.1.2)\n",
            "Requirement already satisfied: catboost in ./.local/lib/python3.8/site-packages (1.2.3)\n",
            "Requirement already satisfied: graphviz in ./.local/lib/python3.8/site-packages (0.20.2)\n",
            "Requirement already satisfied: python-dateutil>=2.8.2 in ./.local/lib/python3.8/site-packages (from pandas) (2.9.0.post0)\n",
            "Requirement already satisfied: pytz>=2020.1 in ./.local/lib/python3.8/site-packages (from pandas) (2024.1)\n",
            "Requirement already satisfied: tzdata>=2022.1 in ./.local/lib/python3.8/site-packages (from pandas) (2024.1)\n",
            "Requirement already satisfied: threadpoolctl>=2.0.0 in ./.local/lib/python3.8/site-packages (from scikit-learn) (3.4.0)\n",
            "Requirement already satisfied: scipy>=1.5.0 in ./.local/lib/python3.8/site-packages (from scikit-learn) (1.10.1)\n",
            "Requirement already satisfied: joblib>=1.1.1 in ./.local/lib/python3.8/site-packages (from scikit-learn) (1.3.2)\n",
            "Requirement already satisfied: regex!=2019.02.19,!=2021.8.27 in ./.local/lib/python3.8/site-packages (from dateparser) (2023.12.25)\n",
            "Requirement already satisfied: tzlocal in ./.local/lib/python3.8/site-packages (from dateparser) (5.2)\n",
            "Requirement already satisfied: psutil in ./.local/lib/python3.8/site-packages (from pandarallel) (5.9.8)\n",
            "Requirement already satisfied: dill>=0.3.1 in ./.local/lib/python3.8/site-packages (from pandarallel) (0.3.8)\n",
            "Requirement already satisfied: jupyterlab-widgets~=3.0.10 in ./.local/lib/python3.8/site-packages (from ipywidgets) (3.0.10)\n",
            "Requirement already satisfied: widgetsnbextension~=4.0.10 in ./.local/lib/python3.8/site-packages (from ipywidgets) (4.0.10)\n",
            "Requirement already satisfied: ipython>=6.1.0 in ./.local/lib/python3.8/site-packages (from ipywidgets) (8.12.3)\n",
            "Requirement already satisfied: comm>=0.1.3 in ./.local/lib/python3.8/site-packages (from ipywidgets) (0.2.2)\n",
            "Requirement already satisfied: traitlets>=4.3.1 in ./.local/lib/python3.8/site-packages (from ipywidgets) (5.9.0)\n",
            "Requirement already satisfied: plotly in ./.local/lib/python3.8/site-packages (from catboost) (5.20.0)\n",
            "Requirement already satisfied: six in ./.local/lib/python3.8/site-packages (from catboost) (1.16.0)\n",
            "Requirement already satisfied: matplotlib in ./.local/lib/python3.8/site-packages (from catboost) (3.7.5)\n",
            "Requirement already satisfied: backports.zoneinfo; python_version < \"3.9\" in ./.local/lib/python3.8/site-packages (from tzlocal->dateparser) (0.2.1)\n",
            "Requirement already satisfied: backcall in ./.local/lib/python3.8/site-packages (from ipython>=6.1.0->ipywidgets) (0.2.0)\n",
            "Requirement already satisfied: decorator in ./.local/lib/python3.8/site-packages (from ipython>=6.1.0->ipywidgets) (5.1.1)\n",
            "Requirement already satisfied: prompt-toolkit!=3.0.37,<3.1.0,>=3.0.30 in ./.local/lib/python3.8/site-packages (from ipython>=6.1.0->ipywidgets) (3.0.43)\n",
            "Requirement already satisfied: pickleshare in ./.local/lib/python3.8/site-packages (from ipython>=6.1.0->ipywidgets) (0.7.5)\n",
            "Requirement already satisfied: jedi>=0.16 in ./.local/lib/python3.8/site-packages (from ipython>=6.1.0->ipywidgets) (0.19.1)\n",
            "Requirement already satisfied: stack-data in ./.local/lib/python3.8/site-packages (from ipython>=6.1.0->ipywidgets) (0.6.3)\n",
            "Requirement already satisfied: typing-extensions; python_version < \"3.10\" in ./.local/lib/python3.8/site-packages (from ipython>=6.1.0->ipywidgets) (4.10.0)\n",
            "Requirement already satisfied: pygments>=2.4.0 in ./.local/lib/python3.8/site-packages (from ipython>=6.1.0->ipywidgets) (2.17.2)\n",
            "Requirement already satisfied: pexpect>4.3; sys_platform != \"win32\" in ./.local/lib/python3.8/site-packages (from ipython>=6.1.0->ipywidgets) (4.9.0)\n",
            "Requirement already satisfied: matplotlib-inline in ./.local/lib/python3.8/site-packages (from ipython>=6.1.0->ipywidgets) (0.1.6)\n",
            "Requirement already satisfied: tenacity>=6.2.0 in ./.local/lib/python3.8/site-packages (from plotly->catboost) (8.2.3)\n",
            "Requirement already satisfied: packaging in ./.local/lib/python3.8/site-packages (from plotly->catboost) (24.0)\n",
            "Requirement already satisfied: fonttools>=4.22.0 in ./.local/lib/python3.8/site-packages (from matplotlib->catboost) (4.50.0)\n",
            "Requirement already satisfied: pyparsing>=2.3.1 in ./.local/lib/python3.8/site-packages (from matplotlib->catboost) (3.1.2)\n",
            "Requirement already satisfied: cycler>=0.10 in ./.local/lib/python3.8/site-packages (from matplotlib->catboost) (0.12.1)\n",
            "Requirement already satisfied: pillow>=6.2.0 in ./.local/lib/python3.8/site-packages (from matplotlib->catboost) (10.2.0)\n",
            "Requirement already satisfied: contourpy>=1.0.1 in ./.local/lib/python3.8/site-packages (from matplotlib->catboost) (1.1.1)\n",
            "Requirement already satisfied: kiwisolver>=1.0.1 in ./.local/lib/python3.8/site-packages (from matplotlib->catboost) (1.4.5)\n",
            "Requirement already satisfied: importlib-resources>=3.2.0; python_version < \"3.10\" in ./.local/lib/python3.8/site-packages (from matplotlib->catboost) (6.3.2)\n",
            "Requirement already satisfied: wcwidth in ./.local/lib/python3.8/site-packages (from prompt-toolkit!=3.0.37,<3.1.0,>=3.0.30->ipython>=6.1.0->ipywidgets) (0.2.13)\n",
            "Requirement already satisfied: parso<0.9.0,>=0.8.3 in ./.local/lib/python3.8/site-packages (from jedi>=0.16->ipython>=6.1.0->ipywidgets) (0.8.3)\n",
            "Requirement already satisfied: asttokens>=2.1.0 in ./.local/lib/python3.8/site-packages (from stack-data->ipython>=6.1.0->ipywidgets) (2.4.1)\n",
            "Requirement already satisfied: executing>=1.2.0 in ./.local/lib/python3.8/site-packages (from stack-data->ipython>=6.1.0->ipywidgets) (2.0.1)\n",
            "Requirement already satisfied: pure-eval in ./.local/lib/python3.8/site-packages (from stack-data->ipython>=6.1.0->ipywidgets) (0.2.2)\n",
            "Requirement already satisfied: ptyprocess>=0.5 in ./.local/lib/python3.8/site-packages (from pexpect>4.3; sys_platform != \"win32\"->ipython>=6.1.0->ipywidgets) (0.7.0)\n",
            "Requirement already satisfied: zipp>=3.1.0; python_version < \"3.10\" in ./.local/lib/python3.8/site-packages (from importlib-resources>=3.2.0; python_version < \"3.10\"->matplotlib->catboost) (3.18.1)\n"
          ]
        }
      ],
      "source": [
        "! pip install numpy pandas scikit-learn dateparser pandarallel ipywidgets catboost graphviz"
      ]
    },
    {
      "cell_type": "code",
      "execution_count": null,
      "metadata": {
        "id": "8fky9WsKA8eK",
        "outputId": "412c6b76-180a-4c73-bbc8-425d79319cc2"
      },
      "outputs": [
        {
          "name": "stdout",
          "output_type": "stream",
          "text": [
            "Processing ./.cache/pip/wheels/c7/e9/78/48eb140b79de41c4d9440938ef5f9e3186c979183fe57829b3/pandarallel-1.6.5-py3-none-any.whl\n",
            "Collecting dill>=0.3.1\n",
            "  Using cached dill-0.3.8-py3-none-any.whl (116 kB)\n",
            "Collecting psutil\n",
            "  Using cached psutil-5.9.8-cp36-abi3-manylinux_2_12_x86_64.manylinux2010_x86_64.manylinux_2_17_x86_64.manylinux2014_x86_64.whl (288 kB)\n",
            "Collecting pandas>=1\n",
            "  Using cached pandas-2.0.3-cp38-cp38-manylinux_2_17_x86_64.manylinux2014_x86_64.whl (12.4 MB)\n",
            "Collecting numpy>=1.20.3; python_version < \"3.10\"\n",
            "  Using cached numpy-1.24.4-cp38-cp38-manylinux_2_17_x86_64.manylinux2014_x86_64.whl (17.3 MB)\n",
            "Collecting tzdata>=2022.1\n",
            "  Using cached tzdata-2024.1-py2.py3-none-any.whl (345 kB)\n",
            "Collecting pytz>=2020.1\n",
            "  Using cached pytz-2024.1-py2.py3-none-any.whl (505 kB)\n",
            "Collecting python-dateutil>=2.8.2\n",
            "  Using cached python_dateutil-2.9.0.post0-py2.py3-none-any.whl (229 kB)\n",
            "Collecting six>=1.5\n",
            "  Using cached six-1.16.0-py2.py3-none-any.whl (11 kB)\n",
            "Installing collected packages: dill, psutil, numpy, tzdata, pytz, six, python-dateutil, pandas, pandarallel\n",
            "  Attempting uninstall: dill\n",
            "    Found existing installation: dill 0.3.8\n",
            "    Uninstalling dill-0.3.8:\n",
            "      Successfully uninstalled dill-0.3.8\n",
            "  Attempting uninstall: psutil\n",
            "    Found existing installation: psutil 5.9.8\n",
            "    Uninstalling psutil-5.9.8:\n",
            "      Successfully uninstalled psutil-5.9.8\n",
            "  Attempting uninstall: numpy\n",
            "    Found existing installation: numpy 1.24.4\n",
            "    Uninstalling numpy-1.24.4:\n",
            "      Successfully uninstalled numpy-1.24.4\n",
            "\u001b[33m  WARNING: The scripts f2py, f2py3 and f2py3.8 are installed in '/home/ubuntu/.local/bin' which is not on PATH.\n",
            "  Consider adding this directory to PATH or, if you prefer to suppress this warning, use --no-warn-script-location.\u001b[0m\n",
            "  Attempting uninstall: tzdata\n",
            "    Found existing installation: tzdata 2024.1\n",
            "    Uninstalling tzdata-2024.1:\n",
            "      Successfully uninstalled tzdata-2024.1\n",
            "  Attempting uninstall: pytz\n",
            "    Found existing installation: pytz 2024.1\n",
            "    Uninstalling pytz-2024.1:\n",
            "      Successfully uninstalled pytz-2024.1\n",
            "  Attempting uninstall: six\n",
            "    Found existing installation: six 1.16.0\n",
            "    Uninstalling six-1.16.0:\n",
            "      Successfully uninstalled six-1.16.0\n",
            "  Attempting uninstall: python-dateutil\n",
            "    Found existing installation: python-dateutil 2.9.0.post0\n",
            "    Uninstalling python-dateutil-2.9.0.post0:\n",
            "      Successfully uninstalled python-dateutil-2.9.0.post0\n",
            "  Attempting uninstall: pandas\n",
            "    Found existing installation: pandas 2.0.3\n",
            "    Uninstalling pandas-2.0.3:\n",
            "      Successfully uninstalled pandas-2.0.3\n",
            "  Attempting uninstall: pandarallel\n",
            "    Found existing installation: pandarallel 1.6.5\n",
            "    Uninstalling pandarallel-1.6.5:\n",
            "      Successfully uninstalled pandarallel-1.6.5\n",
            "Successfully installed dill-0.3.8 numpy-1.24.4 pandarallel-1.6.5 pandas-2.0.3 psutil-5.9.8 python-dateutil-2.9.0.post0 pytz-2024.1 six-1.16.0 tzdata-2024.1\n"
          ]
        }
      ],
      "source": [
        "!pip install --upgrade --force-reinstall pandarallel"
      ]
    },
    {
      "cell_type": "code",
      "execution_count": null,
      "metadata": {
        "id": "pJAjKId6A8eK",
        "outputId": "3b1e65a1-7ed7-435d-e35b-ec4be5b3a7c0"
      },
      "outputs": [
        {
          "name": "stdout",
          "output_type": "stream",
          "text": [
            "Requirement already satisfied: psutil in ./.local/lib/python3.8/site-packages (5.9.8)\r\n"
          ]
        }
      ],
      "source": [
        "! pip install psutil"
      ]
    },
    {
      "cell_type": "code",
      "execution_count": null,
      "metadata": {
        "id": "VeWI6FkHA8eK",
        "outputId": "3ebbb194-e2d0-4dbc-df1e-574ca7db4dd9"
      },
      "outputs": [
        {
          "name": "stdout",
          "output_type": "stream",
          "text": [
            "Enabling notebook extension jupyter-js-widgets/extension...\r\n",
            "      - Validating: \u001b[32mOK\u001b[0m\r\n"
          ]
        }
      ],
      "source": [
        "! /opt/conda/bin/jupyter nbextension enable --py widgetsnbextension"
      ]
    },
    {
      "cell_type": "code",
      "execution_count": null,
      "metadata": {
        "id": "3fOrmZqSA8eK",
        "outputId": "26ae74dc-b440-4d97-fa23-0fc5e9e58a10"
      },
      "outputs": [
        {
          "name": "stdout",
          "output_type": "stream",
          "text": [
            "Num weight bits = 18\r\n",
            "learning rate = 0.5\r\n",
            "initial_t = 0\r\n",
            "power_t = 0.5\r\n",
            "using no cache\r\n",
            "Reading datafile = \r\n",
            "num sources = 1\r\n",
            "driver:\r\n",
            "  --onethread           Disable parse thread\r\n",
            "VW options:\r\n",
            "  --ring_size arg (=256, ) size of example ring\r\n",
            "  --strict_parse           throw on malformed examples\r\n",
            "Update options:\r\n",
            "  -l [ --learning_rate ] arg Set learning rate\r\n",
            "  --power_t arg              t power value\r\n",
            "  --decay_learning_rate arg  Set Decay factor for learning_rate between passes\r\n",
            "  --initial_t arg            initial t value\r\n"
          ]
        }
      ],
      "source": [
        "! vw --help | head"
      ]
    },
    {
      "cell_type": "markdown",
      "source": [
        "# Convert to Vowpal Wabbit format"
      ],
      "metadata": {
        "id": "v81d12nG7HR4"
      }
    },
    {
      "cell_type": "code",
      "execution_count": null,
      "metadata": {
        "id": "H3t6rD_XA8eK"
      },
      "outputs": [],
      "source": [
        "import pandas as pd\n",
        "import numpy as np\n",
        "import re\n",
        "import dateparser\n",
        "from sklearn.model_selection import train_test_split\n",
        "from sklearn.metrics import accuracy_score\n",
        "from sklearn.metrics import precision_score\n",
        "from sklearn.metrics import recall_score\n",
        "from sklearn.metrics import log_loss\n",
        "from sklearn.metrics import roc_auc_score\n",
        "from sklearn.metrics import average_precision_score\n",
        "from sklearn.feature_extraction.text import CountVectorizer"
      ]
    },
    {
      "cell_type": "code",
      "execution_count": null,
      "metadata": {
        "id": "RcX8i9k_A8eL",
        "outputId": "add21115-1c7d-4a65-bb32-22e71d84d770"
      },
      "outputs": [
        {
          "name": "stdout",
          "output_type": "stream",
          "text": [
            "INFO: Pandarallel will run on 2 workers.\n",
            "INFO: Pandarallel will use standard multiprocessing data transfer (pipe) to transfer data between the main process and workers.\n"
          ]
        }
      ],
      "source": [
        "from pandarallel import pandarallel\n",
        "pandarallel.initialize(use_memory_fs=False, progress_bar=True)"
      ]
    },
    {
      "cell_type": "code",
      "execution_count": null,
      "metadata": {
        "id": "DuXxu1OkA8eL"
      },
      "outputs": [],
      "source": [
        "df = train_data_parquet"
      ]
    },
    {
      "cell_type": "code",
      "execution_count": null,
      "metadata": {
        "id": "27r5c5hkA8eL"
      },
      "outputs": [],
      "source": [
        "df_test = test_data_parquet"
      ]
    },
    {
      "cell_type": "code",
      "execution_count": null,
      "metadata": {
        "id": "YLmL4qzpA8eL"
      },
      "outputs": [],
      "source": [
        "df_train, df_val = df.randomSplit([0.95, 0.05], seed=42)"
      ]
    },
    {
      "cell_type": "code",
      "execution_count": null,
      "metadata": {
        "id": "ljXWRO3lA8eL"
      },
      "outputs": [],
      "source": [
        "def convert_to_vw_train(data):\n",
        "    target = data['clicked'] * 2 - 1\n",
        "    display_id = data['display_id']\n",
        "    ad_id = data['ad_id']\n",
        "    promo_document_id = data['promo_document_id']\n",
        "    campaign_id = data['campaign_id']\n",
        "    advertiser_id = data['advertiser_id']\n",
        "    document_id = data['document_id']\n",
        "    platform = data['platform']\n",
        "    geo_location = data['geo_location']\n",
        "    country = data['country']\n",
        "    state = data['state']\n",
        "    dma = data['dma']\n",
        "    uuid = data['uuid']\n",
        "\n",
        "    template = f\"{target} |a {display_id} |b {ad_id} |c {promo_document_id} |d {campaign_id} |e {advertiser_id} |f {document_id} |g {platform} |h {country} |i {state} |j {dma} |k {uuid} |l {geo_location}\"\n",
        "    return template\n",
        "\n",
        "def convert_to_vw_test(data):\n",
        "    display_id = data['display_id']\n",
        "    ad_id = data['ad_id']\n",
        "    promo_document_id = data['promo_document_id']\n",
        "    campaign_id = data['campaign_id']\n",
        "    advertiser_id = data['advertiser_id']\n",
        "    document_id = data['document_id']\n",
        "    platform = data['platform']\n",
        "    geo_location = data['geo_location']\n",
        "    country = data['country']\n",
        "    state = data['state']\n",
        "    dma = data['dma']\n",
        "    uuid = data['uuid']\n",
        "\n",
        "    template = f\"1 |a {display_id} |b {ad_id} |c {promo_document_id} |d {campaign_id} |e {advertiser_id} |f {document_id} |g {platform} |h {country} |i {state} |j {dma} |k {uuid} |l {geo_location}\"\n",
        "    return template"
      ]
    },
    {
      "cell_type": "code",
      "execution_count": null,
      "metadata": {
        "id": "j0xEvJlHA8eL",
        "outputId": "cbf7d77f-44b8-4fdd-bf71-af9e749d9374"
      },
      "outputs": [
        {
          "data": {
            "text/plain": [
              "Row(display_id=15, ad_id=52086, clicked=0, train=1, promo_document_id=974579, campaign_id=5914, advertiser_id=2251, uuid='24c64dc30891c0', document_id=1777136, platform='2', geo_location='GB', country='GB', state='', dma='')"
            ]
          },
          "execution_count": 259,
          "metadata": {},
          "output_type": "execute_result"
        }
      ],
      "source": [
        "example = df_train.first()\n",
        "example"
      ]
    },
    {
      "cell_type": "code",
      "execution_count": null,
      "metadata": {
        "id": "WlhuvHXbA8eM",
        "outputId": "35c8015b-8b9f-4b51-99bf-0d1a26a818ab"
      },
      "outputs": [
        {
          "data": {
            "text/plain": [
              "'-1 |a 15 |b 52086 |c 974579 |d 5914 |e 2251 |f 1777136 |g 2 |h GB |i  |j  |k 24c64dc30891c0 |l GB'"
            ]
          },
          "execution_count": 260,
          "metadata": {},
          "output_type": "execute_result"
        }
      ],
      "source": [
        "convert_to_vw_train(example)"
      ]
    },
    {
      "cell_type": "code",
      "execution_count": null,
      "metadata": {
        "id": "g8hA-qpLA8eM",
        "outputId": "56ef6823-879c-43d1-9363-72a9d71754b7"
      },
      "outputs": [
        {
          "data": {
            "text/plain": [
              "'1 |a 15 |b 52086 |c 974579 |d 5914 |e 2251 |f 1777136 |g 2 |h GB |i  |j  |k 24c64dc30891c0 |l GB'"
            ]
          },
          "execution_count": 261,
          "metadata": {},
          "output_type": "execute_result"
        }
      ],
      "source": [
        "convert_to_vw_test(example)"
      ]
    },
    {
      "cell_type": "code",
      "execution_count": null,
      "metadata": {
        "id": "RC3Wn757A8eM"
      },
      "outputs": [],
      "source": [
        "! hdfs dfs -mkdir /user/outbrain-click-prediction/vw/"
      ]
    },
    {
      "cell_type": "code",
      "execution_count": null,
      "metadata": {
        "id": "qVtGL8IfA8eM",
        "outputId": "72c052ed-f717-4c74-ec3d-2eabe9847f59"
      },
      "outputs": [
        {
          "name": "stdout",
          "output_type": "stream",
          "text": [
            "Deleted /user/outbrain-click-prediction/vw/train.vw\r\n"
          ]
        }
      ],
      "source": [
        "! hdfs dfs -rm -f -r /user/outbrain-click-prediction/vw/train.vw"
      ]
    },
    {
      "cell_type": "code",
      "execution_count": null,
      "metadata": {
        "id": "oqWv4ClfA8eM",
        "outputId": "e4337ccd-9cb2-47c2-ce33-142314918edd"
      },
      "outputs": [
        {
          "name": "stdout",
          "output_type": "stream",
          "text": [
            "Deleted /user/outbrain-click-prediction/vw/val.vw\r\n"
          ]
        }
      ],
      "source": [
        "! hdfs dfs -rm -f -r /user/outbrain-click-prediction/vw/val.vw"
      ]
    },
    {
      "cell_type": "code",
      "execution_count": null,
      "metadata": {
        "id": "aSrjW2BsA8eM",
        "outputId": "66d2ecce-5639-4ed9-d163-5a67250e6a43"
      },
      "outputs": [
        {
          "name": "stdout",
          "output_type": "stream",
          "text": [
            "Deleted /user/outbrain-click-prediction/vw/test.vw\r\n"
          ]
        }
      ],
      "source": [
        "! hdfs dfs -rm -f -r /user/outbrain-click-prediction/vw/test.vw"
      ]
    },
    {
      "cell_type": "code",
      "execution_count": null,
      "metadata": {
        "id": "9sDLi8sjA8eM"
      },
      "outputs": [],
      "source": [
        "df_train.rdd.map(convert_to_vw_train).saveAsTextFile('/user/outbrain-click-prediction/vw/train.vw')\n",
        "df_val.rdd.map(convert_to_vw_train).saveAsTextFile('/user/outbrain-click-prediction/vw/val.vw')"
      ]
    },
    {
      "cell_type": "code",
      "execution_count": null,
      "metadata": {
        "id": "LyFebnNJA8eM"
      },
      "outputs": [],
      "source": [
        "df_test.rdd.map(convert_to_vw_test).saveAsTextFile('/user/outbrain-click-prediction/vw/test.vw')"
      ]
    },
    {
      "cell_type": "code",
      "execution_count": null,
      "metadata": {
        "id": "qu-GbDD1A8eN"
      },
      "outputs": [],
      "source": [
        "! hdfs dfs -cat /user/outbrain-click-prediction/vw/train.vw/* > outbrain_train.vw\n",
        "! hdfs dfs -cat /user/outbrain-click-prediction/vw/val.vw/* > outbrain_val.vw"
      ]
    },
    {
      "cell_type": "code",
      "execution_count": null,
      "metadata": {
        "id": "rGUz_X5OA8eN"
      },
      "outputs": [],
      "source": [
        "! hdfs dfs -cat /user/outbrain-click-prediction/vw/test.vw/* > outbrain_test.vw"
      ]
    },
    {
      "cell_type": "code",
      "execution_count": null,
      "metadata": {
        "id": "ZIi09BgCA8eN",
        "outputId": "df0ad2d3-3f8d-4f83-a39a-4ca71681bb5c"
      },
      "outputs": [
        {
          "name": "stdout",
          "output_type": "stream",
          "text": [
            "-1 |a 15 |b 52086 |c 974579 |d 5914 |e 2251 |f 1777136 |g 2 |h GB |i  |j  |k 24c64dc30891c0 |l GB\r\n",
            "1 |a 15 |b 153016 |c 1360929 |d 19440 |e 1559 |f 1777136 |g 2 |h GB |i  |j  |k 24c64dc30891c0 |l GB\r\n",
            "-1 |a 15 |b 191589 |c 1405567 |d 22682 |e 1713 |f 1777136 |g 2 |h GB |i  |j  |k 24c64dc30891c0 |l GB\r\n",
            "-1 |a 15 |b 335983 |c 1783820 |d 255 |e 15 |f 1777136 |g 2 |h GB |i  |j  |k 24c64dc30891c0 |l GB\r\n",
            "-1 |a 19 |b 39872 |c 500812 |d 5622 |e 901 |f 1155107 |g 3 |h US |i HI |j 744 |k c419799a427c72 |l US>HI>744\r\n",
            "1 |a 19 |b 111036 |c 1173249 |d 14307 |e 2616 |f 1155107 |g 3 |h US |i HI |j 744 |k c419799a427c72 |l US>HI>744\r\n",
            "-1 |a 43 |b 46128 |c 952658 |d 6275 |e 2111 |f 1149225 |g 1 |h US |i NC |j 560 |k 9379d02dad352a |l US>NC>560\r\n",
            "-1 |a 43 |b 149541 |c 1106570 |d 11201 |e 2670 |f 1149225 |g 1 |h US |i NC |j 560 |k 9379d02dad352a |l US>NC>560\r\n",
            "-1 |a 43 |b 157391 |c 1277591 |d 18401 |e 912 |f 1149225 |g 1 |h US |i NC |j 560 |k 9379d02dad352a |l US>NC>560\r\n",
            "-1 |a 43 |b 211592 |c 1535449 |d 24176 |e 2352 |f 1149225 |g 1 |h US |i NC |j 560 |k 9379d02dad352a |l US>NC>560\r\n"
          ]
        }
      ],
      "source": [
        "! head outbrain_train.vw"
      ]
    },
    {
      "cell_type": "code",
      "execution_count": null,
      "metadata": {
        "id": "ageY2dsqA8eN",
        "outputId": "1f4adbcb-b559-47b2-8f77-4ab19cf1d7c6"
      },
      "outputs": [
        {
          "name": "stdout",
          "output_type": "stream",
          "text": [
            "1 |a 16874633 |b 36252 |c 1151028 |d 674 |e 769 |f 1773558 |g 3 |h US |i CA |j 807 |k e2e42cb9d6de2f |l US>CA>807\r\n",
            "1 |a 16874633 |b 80177 |c 1044021 |d 10586 |e 2494 |f 1773558 |g 3 |h US |i CA |j 807 |k e2e42cb9d6de2f |l US>CA>807\r\n",
            "1 |a 16874633 |b 80180 |c 1044020 |d 10585 |e 2494 |f 1773558 |g 3 |h US |i CA |j 807 |k e2e42cb9d6de2f |l US>CA>807\r\n",
            "1 |a 16874633 |b 158356 |c 1391981 |d 20054 |e 1684 |f 1773558 |g 3 |h US |i CA |j 807 |k e2e42cb9d6de2f |l US>CA>807\r\n",
            "1 |a 16874633 |b 172435 |c 1432967 |d 21133 |e 1683 |f 1773558 |g 3 |h US |i CA |j 807 |k e2e42cb9d6de2f |l US>CA>807\r\n",
            "1 |a 16874633 |b 302078 |c 1704744 |d 2202 |e 1014 |f 1773558 |g 3 |h US |i CA |j 807 |k e2e42cb9d6de2f |l US>CA>807\r\n",
            "1 |a 16874720 |b 42262 |c 907915 |d 30 |e 27 |f 1764241 |g 1 |h US |i OH |j 535 |k ce2288104c287d |l US>OH>535\r\n",
            "1 |a 16874720 |b 133751 |c 925820 |d 17158 |e 3001 |f 1764241 |g 1 |h US |i OH |j 535 |k ce2288104c287d |l US>OH>535\r\n",
            "1 |a 16874720 |b 173005 |c 1031141 |d 21149 |e 1703 |f 1764241 |g 1 |h US |i OH |j 535 |k ce2288104c287d |l US>OH>535\r\n",
            "1 |a 16874720 |b 239982 |c 1447332 |d 25665 |e 53 |f 1764241 |g 1 |h US |i OH |j 535 |k ce2288104c287d |l US>OH>535\r\n"
          ]
        }
      ],
      "source": [
        "! head outbrain_test.vw"
      ]
    },
    {
      "cell_type": "markdown",
      "source": [
        "# Functions for metrics calculation"
      ],
      "metadata": {
        "id": "94MMSX5W7gtN"
      }
    },
    {
      "cell_type": "code",
      "execution_count": null,
      "metadata": {
        "id": "OGSlDGulA8eN"
      },
      "outputs": [],
      "source": [
        "def calc_class_metrics(predictions_filename, answers_filename):\n",
        "    def read_target_from_vw(vw_record):\n",
        "        return int((float(vw_record.split(' ')[0]) + 1) / 2)\n",
        "\n",
        "    with open(predictions_filename, 'r') as f:\n",
        "        y_pred = np.array([int(float(value) > 0.5) for value in f.readlines()])\n",
        "\n",
        "    with open(answers_filename, 'r') as f:\n",
        "        y_expected = np.array([read_target_from_vw(value) for value in f.readlines()])\n",
        "\n",
        "    return accuracy_score(y_expected, y_pred), precision_score(y_expected, y_pred), recall_score(y_expected, y_pred)"
      ]
    },
    {
      "cell_type": "code",
      "execution_count": null,
      "metadata": {
        "id": "U4cJHPm4A8eN"
      },
      "outputs": [],
      "source": [
        "def calc_log_loss(predictions_filename, answers_filename):\n",
        "    def read_target_from_vw(vw_record):\n",
        "        return int((float(vw_record.split(' ')[0]) + 1) / 2)\n",
        "\n",
        "    with open(predictions_filename, 'r') as f:\n",
        "        y_pred = np.array([float(value) for value in f.readlines()])\n",
        "\n",
        "    with open(answers_filename, 'r') as f:\n",
        "        y_expected = np.array([read_target_from_vw(value) for value in f.readlines()])\n",
        "\n",
        "    return log_loss(y_expected, y_pred)"
      ]
    },
    {
      "cell_type": "code",
      "execution_count": null,
      "metadata": {
        "id": "phNh79XHA8eN"
      },
      "outputs": [],
      "source": [
        "def calc_roc_auc_score(predictions_filename, answers_filename):\n",
        "    def read_target_from_vw(vw_record):\n",
        "        return int((float(vw_record.split(' ')[0]) + 1) / 2)\n",
        "\n",
        "    with open(predictions_filename, 'r') as f:\n",
        "        y_pred = np.array([float(value) for value in f.readlines()])\n",
        "\n",
        "    with open(answers_filename, 'r') as f:\n",
        "        y_expected = np.array([read_target_from_vw(value) for value in f.readlines()])\n",
        "\n",
        "    return roc_auc_score(y_expected, y_pred)"
      ]
    },
    {
      "cell_type": "code",
      "execution_count": null,
      "metadata": {
        "id": "ubyZVHPSA8eN"
      },
      "outputs": [],
      "source": [
        "def calc_average_precision_score(predictions_filename, answers_filename):\n",
        "    def read_target_from_vw(vw_record):\n",
        "        return int((float(vw_record.split(' ')[0]) + 1) / 2)\n",
        "\n",
        "    with open(predictions_filename, 'r') as f:\n",
        "        y_pred = np.array([float(value) for value in f.readlines()])\n",
        "\n",
        "    with open(answers_filename, 'r') as f:\n",
        "        y_expected = np.array([read_target_from_vw(value) for value in f.readlines()])\n",
        "\n",
        "    return average_precision_score(y_expected, y_pred)"
      ]
    },
    {
      "cell_type": "markdown",
      "source": [
        "# Model training using Vowpal Wabbit library\n",
        "\n",
        "Use FTRL-Proximal online learning algorithm for binomial logistic regression from Vowpal Wabbit library.\n",
        "\n",
        "Use obtained features as well as multiple features interactions.\n"
      ],
      "metadata": {
        "id": "r6UODeaIOeEq"
      }
    },
    {
      "cell_type": "markdown",
      "source": [
        "## Experiment 1"
      ],
      "metadata": {
        "id": "neno2NPs8oia"
      }
    },
    {
      "cell_type": "code",
      "execution_count": null,
      "metadata": {
        "id": "NDbbRfHJA8eN",
        "outputId": "4b817527-0171-494a-ce60-05fb7a4d6d75"
      },
      "outputs": [
        {
          "name": "stdout",
          "output_type": "stream",
          "text": [
            "creating features for following interactions: cd ce cf cg ch ci de df dg dh di ef eg eh ei fg fh fi gh gi hi \n",
            "final_regressor = outbrain_1.model.bin\n",
            "Enabling FTRL based optimization\n",
            "Algorithm used: Proximal-FTRL\n",
            "ftrl_alpha = 0.01\n",
            "ftrl_beta = 0.1\n",
            "Num weight bits = 28\n",
            "learning rate = 0.5\n",
            "initial_t = 0\n",
            "power_t = 0.5\n",
            "decay_learning_rate = 1\n",
            "creating cache_file = outbrain_train.vw.cache\n",
            "Reading datafile = outbrain_train.vw\n",
            "num sources = 1\n",
            "average  since         example        example  current  current  current\n",
            "loss     last          counter         weight    label  predict features\n",
            "0.693147 0.693147            1            1.0  -1.0000   0.0000       26\n",
            "0.714414 0.735682            2            2.0   1.0000  -0.0833       26\n",
            "0.692613 0.670811            4            4.0  -1.0000  -0.0707       26\n",
            "0.691984 0.691356            8            8.0  -1.0000  -0.1302       34\n",
            "0.685096 0.678207           16           16.0  -1.0000  -0.0666       33\n",
            "0.666410 0.647724           32           32.0  -1.0000  -0.3967       34\n",
            "0.654273 0.642137           64           64.0  -1.0000   0.0053       33\n",
            "0.630414 0.606555          128          128.0  -1.0000  -0.4496       34\n",
            "0.606306 0.582198          256          256.0  -1.0000  -0.5745       34\n",
            "0.585284 0.564262          512          512.0  -1.0000  -0.5909       33\n",
            "0.554985 0.524686         1024         1024.0  -1.0000  -1.2908       34\n",
            "0.534572 0.514159         2048         2048.0   1.0000  -0.8879       26\n",
            "0.515260 0.495948         4096         4096.0  -1.0000  -0.8794       34\n",
            "0.499675 0.484090         8192         8192.0  -1.0000  -0.6977       33\n",
            "0.492267 0.484859        16384        16384.0  -1.0000  -0.9887       33\n",
            "0.491832 0.491397        32768        32768.0   1.0000  -0.6025       26\n",
            "0.486386 0.480940        65536        65536.0  -1.0000  -1.5621       34\n",
            "0.475091 0.463797       131072       131072.0  -1.0000  -1.1453       34\n",
            "0.462032 0.448972       262144       262144.0   1.0000  -0.3488       34\n",
            "0.457625 0.453219       524288       524288.0  -1.0000  -1.6754       34\n",
            "0.452596 0.447566      1048576      1048576.0  -1.0000  -2.1809       33\n",
            "0.450380 0.448165      2097152      2097152.0  -1.0000  -3.5739       34\n",
            "0.447761 0.445143      4194304      4194304.0   1.0000  -1.6267       33\n",
            "0.444408 0.441055      8388608      8388608.0   1.0000  -1.5396       34\n",
            "0.441290 0.438171     16777216     16777216.0  -1.0000  -2.0300       34\n",
            "0.438441 0.435592     33554432     33554432.0  -1.0000  -1.7937       33\n",
            "0.435676 0.432911     67108864     67108864.0  -1.0000  -3.1508       34\n",
            "0.435878 0.435878    134217728    134217728.0  -1.0000  -1.9779       34 h\n",
            "\n",
            "finished run\n",
            "number of examples per pass = 74502882\n",
            "passes used = 2\n",
            "weighted example sum = 149005764.000000\n",
            "weighted label sum = -91301304.000000\n",
            "average loss = 0.435566 h\n",
            "best constant = -1.426583\n",
            "best constant's loss = 0.491446\n",
            "total feature number = 4977934598\n",
            "CPU times: user 1min 2s, sys: 10.3 s, total: 1min 12s\n",
            "Wall time: 1h 10min 10s\n"
          ]
        }
      ],
      "source": [
        "%%time\n",
        "\n",
        "! vw --final_regressor outbrain_1.model.bin outbrain_train.vw \\\n",
        "    --loss_function logistic \\\n",
        "    --bit_precision 28 \\\n",
        "    --ftrl --ftrl_alpha 0.01 --ftrl_beta  0.1 \\\n",
        "    --passes 2 \\\n",
        "    --interactions cd ce cf cg ch ci de df dg dh di ef eg eh ei fg fh fi gh gi hi \\\n",
        "    --cache -k"
      ]
    },
    {
      "cell_type": "code",
      "execution_count": null,
      "metadata": {
        "id": "xbkN3Xa4A8eN",
        "outputId": "0d70e7ea-890b-4cd1-abc4-ff8b78283f48"
      },
      "outputs": [
        {
          "name": "stdout",
          "output_type": "stream",
          "text": [
            "creating features for following interactions: cd ce cf cg ch ci de df dg dh di ef eg eh ei fg fh fi gh gi hi \n",
            "only testing\n",
            "predictions = outbrain_prob_predictions_1.txt\n",
            "Enabling FTRL based optimization\n",
            "Algorithm used: Proximal-FTRL\n",
            "ftrl_alpha = 0.005\n",
            "ftrl_beta = 0.1\n",
            "Num weight bits = 28\n",
            "learning rate = 0.5\n",
            "initial_t = 0\n",
            "power_t = 0.5\n",
            "using no cache\n",
            "Reading datafile = outbrain_val.vw\n",
            "num sources = 1\n",
            "average  since         example        example  current  current  current\n",
            "loss     last          counter         weight    label  predict features\n",
            "11.507630 11.507630            1            1.0   1.0000   0.0838       34\n",
            "5.910791 0.313952            2            2.0  -1.0000   0.1736       34\n",
            "3.179089 0.447388            4            4.0  -1.0000   0.1252       33\n",
            "2.857078 2.535066            8            8.0  -1.0000   0.0447       34\n",
            "2.092799 1.328520           16           16.0  -1.0000   0.1186       33\n",
            "1.841364 1.589928           32           32.0  -1.0000   0.1607       33\n",
            "2.048785 2.256207           64           64.0  -1.0000   0.1359       34\n",
            "2.112482 2.176179          128          128.0  -1.0000   0.1331       34\n",
            "1.944565 1.776647          256          256.0  -1.0000   0.2852       33\n",
            "2.223637 2.502709          512          512.0   1.0000   0.1218       34\n",
            "2.109217 1.994798         1024         1024.0  -1.0000   0.2048       33\n",
            "2.062848 2.016479         2048         2048.0  -1.0000   0.2070       34\n",
            "2.109283 2.155718         4096         4096.0  -1.0000   0.0488       34\n",
            "2.189265 2.269248         8192         8192.0  -1.0000   0.1155       34\n",
            "2.245918 2.302570        16384        16384.0   1.0000   0.5030       34\n",
            "2.190963 2.136007        32768        32768.0  -1.0000   0.2026       34\n",
            "2.213944 2.236926        65536        65536.0  -1.0000   0.2111       34\n",
            "2.200829 2.187713       131072       131072.0  -1.0000   0.0732       34\n",
            "2.198079 2.195329       262144       262144.0  -1.0000   0.1350       34\n",
            "2.198163 2.198247       524288       524288.0  -1.0000   0.0467       34\n",
            "2.192431 2.186699      1048576      1048576.0   1.0000   0.1942       34\n",
            "2.189393 2.186355      2097152      2097152.0  -1.0000   0.4208       26\n",
            "2.187703 2.186014      4194304      4194304.0  -1.0000   0.0695       33\n",
            "\n",
            "finished run\n",
            "number of examples = 4360752\n",
            "weighted example sum = 4360752.000000\n",
            "weighted label sum = -2670432.000000\n",
            "average loss = 2.188227\n",
            "best constant = -0.612379\n",
            "best constant's loss = 0.624992\n",
            "total feature number = 145674933\n",
            "CPU times: user 1.25 s, sys: 221 ms, total: 1.47 s\n",
            "Wall time: 1min 21s\n"
          ]
        }
      ],
      "source": [
        "%%time\n",
        "\n",
        "! vw outbrain_val.vw \\\n",
        "    --link=logistic \\\n",
        "    --testonly \\\n",
        "    --initial_regressor outbrain_1.model.bin \\\n",
        "    --predictions outbrain_prob_predictions_1.txt"
      ]
    },
    {
      "cell_type": "code",
      "execution_count": null,
      "metadata": {
        "id": "x45tYmQPA8eO",
        "outputId": "6d7d04dc-fd4c-4c06-d43a-e7278c8d782c"
      },
      "outputs": [
        {
          "data": {
            "text/plain": [
              "(0.8133957170689826, 0.5979051262719098, 0.11353589852808936)"
            ]
          },
          "execution_count": 319,
          "metadata": {},
          "output_type": "execute_result"
        }
      ],
      "source": [
        "calc_class_metrics('outbrain_prob_predictions_1.txt', 'outbrain_val.vw')"
      ]
    },
    {
      "cell_type": "code",
      "execution_count": null,
      "metadata": {
        "id": "DpXudpT8A8eO",
        "outputId": "8d062f69-e048-44c2-ad21-1212893446d3"
      },
      "outputs": [
        {
          "data": {
            "text/plain": [
              "0.43540522535225584"
            ]
          },
          "execution_count": 320,
          "metadata": {},
          "output_type": "execute_result"
        }
      ],
      "source": [
        "calc_log_loss('outbrain_prob_predictions_1.txt', 'outbrain_val.vw')"
      ]
    },
    {
      "cell_type": "code",
      "execution_count": null,
      "metadata": {
        "id": "aoTCA7S6A8eO",
        "outputId": "f8573a8c-8ab8-4a78-a5f6-e411765b0648"
      },
      "outputs": [
        {
          "data": {
            "text/plain": [
              "0.7314229857813105"
            ]
          },
          "execution_count": 321,
          "metadata": {},
          "output_type": "execute_result"
        }
      ],
      "source": [
        "calc_roc_auc_score('outbrain_prob_predictions_1.txt', 'outbrain_val.vw')"
      ]
    },
    {
      "cell_type": "code",
      "execution_count": null,
      "metadata": {
        "id": "2nO8CF-9A8eO",
        "outputId": "5778297d-6a4b-47ec-b91c-f00063696d8e"
      },
      "outputs": [
        {
          "data": {
            "text/plain": [
              "0.4086517728352075"
            ]
          },
          "execution_count": 322,
          "metadata": {},
          "output_type": "execute_result"
        }
      ],
      "source": [
        "calc_average_precision_score('outbrain_prob_predictions_1.txt', 'outbrain_val.vw')"
      ]
    },
    {
      "cell_type": "code",
      "execution_count": null,
      "metadata": {
        "id": "f4nrytePA8eO",
        "outputId": "4c44b530-9464-4397-d99d-d646842ac654"
      },
      "outputs": [
        {
          "name": "stdout",
          "output_type": "stream",
          "text": [
            "creating features for following interactions: cd ce cf cg ch ci de df dg dh di ef eg eh ei fg fh fi gh gi hi \n",
            "only testing\n",
            "predictions = outbrain_test_predictions_1.txt\n",
            "Enabling FTRL based optimization\n",
            "Algorithm used: Proximal-FTRL\n",
            "ftrl_alpha = 0.005\n",
            "ftrl_beta = 0.1\n",
            "Num weight bits = 28\n",
            "learning rate = 0.5\n",
            "initial_t = 0\n",
            "power_t = 0.5\n",
            "using no cache\n",
            "Reading datafile = outbrain_test.vw\n",
            "num sources = 1\n",
            "average  since         example        example  current  current  current\n",
            "loss     last          counter         weight    label  predict features\n",
            "17.635736 17.635736            1            1.0   1.0000   0.0392       34\n",
            "14.350313 11.064890            2            2.0   1.0000   0.0890       34\n",
            "12.414830 10.479346            4            4.0   1.0000   0.0774       34\n",
            "8.063322 3.711813            8            8.0   1.0000   0.2584       34\n",
            "10.171615 12.279908           16           16.0   1.0000   0.1943       34\n",
            "9.163008 8.154402           32           32.0   1.0000   0.1079       34\n",
            "8.285758 7.408508           64           64.0   1.0000   0.1256       34\n",
            "8.332806 8.379855          128          128.0   1.0000   0.1238       26\n",
            "7.795494 7.258182          256          256.0   1.0000   0.3280       34\n",
            "7.330482 6.865470          512          512.0   1.0000   0.3068       26\n",
            "7.224632 7.118783         1024         1024.0   1.0000   0.1766       34\n",
            "7.573698 7.922763         2048         2048.0   1.0000   0.1247       34\n",
            "7.860501 8.147304         4096         4096.0   1.0000   0.2454       34\n",
            "7.802018 7.743535         8192         8192.0   1.0000   0.0555       33\n",
            "7.900383 7.998749        16384        16384.0   1.0000   0.0592       34\n",
            "7.906756 7.913128        32768        32768.0   1.0000   0.1570       34\n",
            "7.947105 7.987455        65536        65536.0   1.0000   0.5346       34\n",
            "7.740461 7.533816       131072       131072.0   1.0000   0.1307       34\n",
            "7.754146 7.767832       262144       262144.0   1.0000   0.0940       34\n",
            "7.727547 7.700948       524288       524288.0   1.0000   0.1904       34\n",
            "7.741559 7.755570      1048576      1048576.0   1.0000   0.0738       34\n",
            "7.719614 7.697669      2097152      2097152.0   1.0000   0.3643       34\n",
            "7.723614 7.727614      4194304      4194304.0   1.0000   0.1817       34\n",
            "7.726055 7.728496      8388608      8388608.0   1.0000   0.1655       34\n",
            "7.725762 7.725469     16777216     16777216.0   1.0000   0.4183       34\n",
            "\n",
            "finished run\n",
            "number of examples = 32225162\n",
            "weighted example sum = 32225162.000000\n",
            "weighted label sum = 32225162.000000\n",
            "average loss = 7.723667\n",
            "best constant = 1.000000\n",
            "best constant's loss = 0.000000\n",
            "total feature number = 1075812622\n",
            "CPU times: user 7.29 s, sys: 1.33 s, total: 8.62 s\n",
            "Wall time: 7min 55s\n"
          ]
        }
      ],
      "source": [
        "%%time\n",
        "\n",
        "! vw outbrain_test.vw \\\n",
        "    --link=logistic \\\n",
        "    --testonly \\\n",
        "    --initial_regressor outbrain_1.model.bin \\\n",
        "    --predictions outbrain_test_predictions_1.txt"
      ]
    },
    {
      "cell_type": "markdown",
      "source": [
        "## Experiment 2"
      ],
      "metadata": {
        "id": "aiJK6gh68093"
      }
    },
    {
      "cell_type": "code",
      "execution_count": null,
      "metadata": {
        "id": "4U51NRE2A8eO",
        "outputId": "5c2dc66d-065c-41a1-82bd-029c124febfc"
      },
      "outputs": [
        {
          "name": "stdout",
          "output_type": "stream",
          "text": [
            "creating features for following interactions: cd ce cf cg ch ci de df dg dh di ef eg eh ei fg fh fi gh gi hi \n",
            "using l1 regularization = 10\n",
            "final_regressor = outbrain_2.model.bin\n",
            "Enabling FTRL based optimization\n",
            "Algorithm used: Proximal-FTRL\n",
            "ftrl_alpha = 0.01\n",
            "ftrl_beta = 0.1\n",
            "Num weight bits = 28\n",
            "learning rate = 0.5\n",
            "initial_t = 0\n",
            "power_t = 0.5\n",
            "creating cache_file = outbrain_train.vw.cache\n",
            "Reading datafile = outbrain_train.vw\n",
            "num sources = 1\n",
            "average  since         example        example  current  current  current\n",
            "loss     last          counter         weight    label  predict features\n",
            "0.693147 0.693147            1            1.0  -1.0000   0.0000       26\n",
            "0.693147 0.693147            2            2.0   1.0000   0.0000       26\n",
            "0.693147 0.693147            4            4.0  -1.0000   0.0000       26\n",
            "0.693147 0.693147            8            8.0  -1.0000   0.0000       34\n",
            "0.693147 0.693147           16           16.0   1.0000   0.0000       33\n",
            "0.693147 0.693147           32           32.0  -1.0000   0.0000       34\n",
            "0.691109 0.689071           64           64.0  -1.0000  -0.0236       33\n",
            "0.683869 0.676629          128          128.0   1.0000  -0.1121       34\n",
            "0.663747 0.643625          256          256.0   1.0000  -0.2789       34\n",
            "0.636233 0.608719          512          512.0  -1.0000  -0.4454       34\n",
            "0.602383 0.568534         1024         1024.0   1.0000  -0.3698       33\n",
            "0.567860 0.533336         2048         2048.0  -1.0000  -0.9099       34\n",
            "0.542100 0.516340         4096         4096.0  -1.0000  -1.1718       34\n",
            "0.519146 0.496193         8192         8192.0   1.0000  -1.3882       34\n",
            "0.506903 0.494660        16384        16384.0  -1.0000  -1.4126       34\n",
            "0.502856 0.498810        32768        32768.0  -1.0000  -0.8251       33\n",
            "0.497861 0.492867        65536        65536.0   1.0000  -1.5240       34\n",
            "0.487755 0.477648       131072       131072.0  -1.0000  -2.2925       34\n",
            "0.474387 0.461018       262144       262144.0   1.0000  -1.5326       34\n",
            "0.467771 0.461155       524288       524288.0   1.0000  -1.0693       34\n",
            "0.459453 0.451135      1048576      1048576.0  -1.0000  -1.6719       34\n",
            "0.456016 0.452580      2097152      2097152.0  -1.0000  -1.9140       34\n",
            "0.451000 0.445983      4194304      4194304.0   1.0000  -0.7712       34\n",
            "0.447140 0.443280      8388608      8388608.0  -1.0000  -1.6035       34\n",
            "0.443792 0.440444     16777216     16777216.0  -1.0000  -1.0263       34\n",
            "0.440729 0.437666     33554432     33554432.0   1.0000  -0.8981       34\n",
            "0.437809 0.434889     67108864     67108864.0  -1.0000  -0.2607       34\n",
            "\n",
            "finished run\n",
            "number of examples = 82780979\n",
            "weighted example sum = 82780979.000000\n",
            "weighted label sum = -50722113.000000\n",
            "average loss = 0.436976\n",
            "best constant = -1.426551\n",
            "best constant's loss = 0.491453\n",
            "total feature number = 2765520438\n",
            "CPU times: user 19.9 s, sys: 3.35 s, total: 23.2 s\n",
            "Wall time: 21min 58s\n"
          ]
        }
      ],
      "source": [
        "%%time\n",
        "\n",
        "! vw --final_regressor outbrain_2.model.bin outbrain_train.vw \\\n",
        "    --loss_function logistic \\\n",
        "    --bit_precision 28 \\\n",
        "    --ftrl --ftrl_alpha 0.01 --ftrl_beta 0.1 \\\n",
        "    --passes 1 \\\n",
        "    --l1 10 --l2 0 \\\n",
        "    --interactions cd ce cf cg ch ci de df dg dh di ef eg eh ei fg fh fi gh gi hi \\\n",
        "    --cache -k"
      ]
    },
    {
      "cell_type": "code",
      "execution_count": null,
      "metadata": {
        "id": "i3zya0g4A8eO",
        "outputId": "6934f613-bdfc-4646-85c1-43ba37f1112e"
      },
      "outputs": [
        {
          "name": "stdout",
          "output_type": "stream",
          "text": [
            "creating features for following interactions: cd ce cf cg ch ci de df dg dh di ef eg eh ei fg fh fi gh gi hi \n",
            "only testing\n",
            "predictions = outbrain_prob_predictions_2.txt\n",
            "Enabling FTRL based optimization\n",
            "Algorithm used: Proximal-FTRL\n",
            "ftrl_alpha = 0.005\n",
            "ftrl_beta = 0.1\n",
            "Num weight bits = 28\n",
            "learning rate = 0.5\n",
            "initial_t = 0\n",
            "power_t = 0.5\n",
            "using no cache\n",
            "Reading datafile = outbrain_val.vw\n",
            "num sources = 1\n",
            "average  since         example        example  current  current  current\n",
            "loss     last          counter         weight    label  predict features\n",
            "11.009099 11.009099            1            1.0   1.0000   0.0896       34\n",
            "5.591307 0.173516            2            2.0  -1.0000   0.1952       34\n",
            "3.066768 0.542229            4            4.0  -1.0000   0.1150       33\n",
            "2.474378 1.881988            8            8.0  -1.0000   0.0538       34\n",
            "1.785876 1.097374           16           16.0  -1.0000   0.1063       33\n",
            "1.594443 1.403010           32           32.0  -1.0000   0.1564       33\n",
            "1.864343 2.134243           64           64.0  -1.0000   0.1464       34\n",
            "1.933794 2.003245          128          128.0  -1.0000   0.1317       34\n",
            "1.764849 1.595904          256          256.0  -1.0000   0.2368       33\n",
            "2.032224 2.299598          512          512.0   1.0000   0.1441       34\n",
            "1.932305 1.832386         1024         1024.0  -1.0000   0.1835       33\n",
            "1.893349 1.854393         2048         2048.0  -1.0000   0.2203       34\n",
            "1.936823 1.980298         4096         4096.0  -1.0000   0.0536       34\n",
            "2.020685 2.104547         8192         8192.0  -1.0000   0.1089       34\n",
            "2.080744 2.140803        16384        16384.0   1.0000   0.4705       34\n",
            "2.038025 1.995306        32768        32768.0  -1.0000   0.2003       34\n",
            "2.068650 2.099275        65536        65536.0  -1.0000   0.2214       34\n",
            "2.061235 2.053821       131072       131072.0  -1.0000   0.0944       34\n",
            "2.064918 2.068600       262144       262144.0  -1.0000   0.1141       34\n",
            "2.066178 2.067439       524288       524288.0  -1.0000   0.0590       34\n",
            "2.064190 2.062201      1048576      1048576.0   1.0000   0.2201       34\n",
            "2.064076 2.063962      2097152      2097152.0  -1.0000   0.4107       26\n",
            "2.064678 2.065280      4194304      4194304.0  -1.0000   0.0680       33\n",
            "\n",
            "finished run\n",
            "number of examples = 4360752\n",
            "weighted example sum = 4360752.000000\n",
            "weighted label sum = -2670432.000000\n",
            "average loss = 2.065537\n",
            "best constant = -0.612379\n",
            "best constant's loss = 0.624992\n",
            "total feature number = 145674933\n",
            "CPU times: user 367 ms, sys: 72.6 ms, total: 439 ms\n",
            "Wall time: 20.8 s\n"
          ]
        }
      ],
      "source": [
        "%%time\n",
        "\n",
        "! vw outbrain_val.vw \\\n",
        "    --link=logistic \\\n",
        "    --testonly \\\n",
        "    --initial_regressor outbrain_2.model.bin \\\n",
        "    --predictions outbrain_prob_predictions_2.txt"
      ]
    },
    {
      "cell_type": "code",
      "execution_count": null,
      "metadata": {
        "id": "WE5tuxoIA8eO",
        "outputId": "cfaa5dcf-98bd-4b3f-e8bf-815dd2250c86"
      },
      "outputs": [
        {
          "data": {
            "text/plain": [
              "(0.8137321269359047, 0.6134128680780636, 0.10524752709546122)"
            ]
          },
          "execution_count": 280,
          "metadata": {},
          "output_type": "execute_result"
        }
      ],
      "source": [
        "calc_class_metrics('outbrain_prob_predictions_2.txt', 'outbrain_val.vw')"
      ]
    },
    {
      "cell_type": "code",
      "execution_count": null,
      "metadata": {
        "id": "tDkcNAdtA8eP",
        "outputId": "d84a39aa-724a-4609-bf83-a6baac58eedb"
      },
      "outputs": [
        {
          "data": {
            "text/plain": [
              "0.43312041973262994"
            ]
          },
          "execution_count": 281,
          "metadata": {},
          "output_type": "execute_result"
        }
      ],
      "source": [
        "calc_log_loss('outbrain_prob_predictions_2.txt', 'outbrain_val.vw')"
      ]
    },
    {
      "cell_type": "code",
      "execution_count": null,
      "metadata": {
        "id": "_z1iy-6TA8eP",
        "outputId": "25329687-0c2a-4a73-c3d7-b8c1de818332"
      },
      "outputs": [
        {
          "data": {
            "text/plain": [
              "0.7366324342298908"
            ]
          },
          "execution_count": 282,
          "metadata": {},
          "output_type": "execute_result"
        }
      ],
      "source": [
        "calc_roc_auc_score('outbrain_prob_predictions_2.txt', 'outbrain_val.vw')"
      ]
    },
    {
      "cell_type": "code",
      "execution_count": null,
      "metadata": {
        "id": "lVl-YZyMA8eP",
        "outputId": "c3649fec-7a90-47d0-ab54-ac21b770c758"
      },
      "outputs": [
        {
          "data": {
            "text/plain": [
              "0.4150338278581397"
            ]
          },
          "execution_count": 283,
          "metadata": {},
          "output_type": "execute_result"
        }
      ],
      "source": [
        "calc_average_precision_score('outbrain_prob_predictions_2.txt', 'outbrain_val.vw')"
      ]
    },
    {
      "cell_type": "code",
      "execution_count": null,
      "metadata": {
        "id": "Z-RkGNVGA8eP",
        "outputId": "f15c7f70-1e97-4cad-e390-4f59f9e96ef8"
      },
      "outputs": [
        {
          "name": "stdout",
          "output_type": "stream",
          "text": [
            "creating features for following interactions: cd ce cf cg ch ci de df dg dh di ef eg eh ei fg fh fi gh gi hi \n",
            "only testing\n",
            "predictions = outbrain_test_predictions_2.txt\n",
            "Enabling FTRL based optimization\n",
            "Algorithm used: Proximal-FTRL\n",
            "ftrl_alpha = 0.005\n",
            "ftrl_beta = 0.1\n",
            "Num weight bits = 28\n",
            "learning rate = 0.5\n",
            "initial_t = 0\n",
            "power_t = 0.5\n",
            "using no cache\n",
            "Reading datafile = outbrain_test.vw\n",
            "num sources = 1\n",
            "average  since         example        example  current  current  current\n",
            "loss     last          counter         weight    label  predict features\n",
            "17.857462 17.857462            1            1.0   1.0000   0.0382       34\n",
            "14.619121 11.380779            2            2.0   1.0000   0.0852       34\n",
            "12.349457 10.079792            4            4.0   1.0000   0.0893       34\n",
            "8.084302 3.819147            8            8.0   1.0000   0.2558       34\n",
            "10.080663 12.077024           16           16.0   1.0000   0.2122       34\n",
            "9.037485 7.994307           32           32.0   1.0000   0.1245       34\n",
            "8.327806 7.618126           64           64.0   1.0000   0.1222       34\n",
            "8.392729 8.457652          128          128.0   1.0000   0.1116       26\n",
            "7.836362 7.279995          256          256.0   1.0000   0.2947       34\n",
            "7.308812 6.781262          512          512.0   1.0000   0.2771       26\n",
            "7.154241 6.999671         1024         1024.0   1.0000   0.2347       34\n",
            "7.419458 7.684674         2048         2048.0   1.0000   0.1275       34\n",
            "7.654414 7.889371         4096         4096.0   1.0000   0.2584       34\n",
            "7.615283 7.576152         8192         8192.0   1.0000   0.0518       33\n",
            "7.735098 7.854913        16384        16384.0   1.0000   0.0718       34\n",
            "7.749817 7.764536        32768        32768.0   1.0000   0.1395       34\n",
            "7.802186 7.854554        65536        65536.0   1.0000   0.5141       34\n",
            "7.681959 7.561732       131072       131072.0   1.0000   0.1533       34\n",
            "7.696917 7.711875       262144       262144.0   1.0000   0.0863       34\n",
            "7.691781 7.686645       524288       524288.0   1.0000   0.2207       34\n",
            "7.707067 7.722353      1048576      1048576.0   1.0000   0.0653       34\n",
            "7.691304 7.675541      2097152      2097152.0   1.0000   0.3352       34\n",
            "7.695738 7.700172      4194304      4194304.0   1.0000   0.1701       34\n",
            "7.698553 7.701368      8388608      8388608.0   1.0000   0.1685       34\n",
            "7.698882 7.699210     16777216     16777216.0   1.0000   0.3876       34\n",
            "\n",
            "finished run\n",
            "number of examples = 32225162\n",
            "weighted example sum = 32225162.000000\n",
            "weighted label sum = 32225162.000000\n",
            "average loss = 7.697222\n",
            "best constant = 1.000000\n",
            "best constant's loss = 0.000000\n",
            "total feature number = 1075812622\n",
            "CPU times: user 10.1 s, sys: 1.58 s, total: 11.7 s\n",
            "Wall time: 10min 57s\n"
          ]
        }
      ],
      "source": [
        "%%time\n",
        "\n",
        "! vw outbrain_test.vw \\\n",
        "    --link=logistic \\\n",
        "    --testonly \\\n",
        "    --initial_regressor outbrain_2.model.bin \\\n",
        "    --predictions outbrain_test_predictions_2.txt"
      ]
    },
    {
      "cell_type": "markdown",
      "source": [
        "## Experiment 3"
      ],
      "metadata": {
        "id": "AvPrwfPe84Jt"
      }
    },
    {
      "cell_type": "code",
      "execution_count": null,
      "metadata": {
        "id": "oeC61GbMA8eP",
        "outputId": "e5633f0b-5b57-4361-9b0f-1b5fd48691e7"
      },
      "outputs": [
        {
          "name": "stdout",
          "output_type": "stream",
          "text": [
            "creating features for following interactions: cd ce cf cg ch ci de df dg dh di ef eg eh ei fg fh fi gh gi hi \n",
            "using l1 regularization = 10\n",
            "final_regressor = outbrain_3.model.bin\n",
            "Enabling FTRL based optimization\n",
            "Algorithm used: Proximal-FTRL\n",
            "ftrl_alpha = 0.05\n",
            "ftrl_beta = 0.5\n",
            "Num weight bits = 28\n",
            "learning rate = 0.5\n",
            "initial_t = 0\n",
            "power_t = 0.5\n",
            "creating cache_file = outbrain_train.vw.cache\n",
            "Reading datafile = outbrain_train.vw\n",
            "num sources = 1\n",
            "average  since         example        example  current  current  current\n",
            "loss     last          counter         weight    label  predict features\n",
            "0.693147 0.693147            1            1.0  -1.0000   0.0000       26\n",
            "0.693147 0.693147            2            2.0   1.0000   0.0000       26\n",
            "0.693147 0.693147            4            4.0  -1.0000   0.0000       26\n",
            "0.693147 0.693147            8            8.0  -1.0000   0.0000       34\n",
            "0.693147 0.693147           16           16.0   1.0000   0.0000       33\n",
            "0.693147 0.693147           32           32.0  -1.0000   0.0000       34\n",
            "0.684700 0.676253           64           64.0  -1.0000  -0.1015       33\n",
            "0.658316 0.631932          128          128.0   1.0000  -0.4227       34\n",
            "0.605780 0.553245          256          256.0   1.0000  -0.9185       34\n",
            "0.563056 0.520332          512          512.0  -1.0000  -1.1109       34\n",
            "0.532480 0.501903         1024         1024.0   1.0000  -0.8566       33\n",
            "0.510726 0.488973         2048         2048.0  -1.0000  -1.5830       34\n",
            "0.504679 0.498632         4096         4096.0  -1.0000  -1.5994       34\n",
            "0.494760 0.484841         8192         8192.0   1.0000  -1.6456       34\n",
            "0.490566 0.486372        16384        16384.0  -1.0000  -1.2663       34\n",
            "0.490182 0.489799        32768        32768.0  -1.0000  -1.0790       33\n",
            "0.487459 0.484735        65536        65536.0   1.0000  -1.4561       34\n",
            "0.477047 0.466635       131072       131072.0  -1.0000  -3.3430       34\n",
            "0.463299 0.449551       262144       262144.0   1.0000  -1.6630       34\n",
            "0.457867 0.452435       524288       524288.0   1.0000  -0.8130       34\n",
            "0.450974 0.444080      1048576      1048576.0  -1.0000  -1.9343       34\n",
            "0.448887 0.446799      2097152      2097152.0  -1.0000  -2.0457       34\n",
            "0.444755 0.440623      4194304      4194304.0   1.0000  -0.6270       34\n",
            "0.441648 0.438541      8388608      8388608.0  -1.0000  -1.6133       34\n",
            "0.438709 0.435770     16777216     16777216.0  -1.0000  -1.0012       34\n",
            "0.435835 0.432962     33554432     33554432.0   1.0000  -0.7692       34\n",
            "0.432966 0.430097     67108864     67108864.0  -1.0000  -0.2768       34\n",
            "\n",
            "finished run\n",
            "number of examples = 82780979\n",
            "weighted example sum = 82780979.000000\n",
            "weighted label sum = -50722113.000000\n",
            "average loss = 0.432130\n",
            "best constant = -1.426551\n",
            "best constant's loss = 0.491453\n",
            "total feature number = 2765520438\n",
            "CPU times: user 19.3 s, sys: 3.43 s, total: 22.7 s\n",
            "Wall time: 21min 33s\n"
          ]
        }
      ],
      "source": [
        "%%time\n",
        "\n",
        "! vw --final_regressor outbrain_3.model.bin outbrain_train.vw \\\n",
        "    --loss_function logistic \\\n",
        "    --bit_precision 28 \\\n",
        "    --ftrl --ftrl_alpha 0.05 --ftrl_beta 0.5 \\\n",
        "    --passes 1 \\\n",
        "    --l1 10 --l2 0 \\\n",
        "    --interactions cd ce cf cg ch ci de df dg dh di ef eg eh ei fg fh fi gh gi hi \\\n",
        "    --cache -k"
      ]
    },
    {
      "cell_type": "code",
      "execution_count": null,
      "metadata": {
        "id": "S5oi4gnwA8eP",
        "outputId": "07900c7d-6f59-4524-d8f8-c09d430a9704"
      },
      "outputs": [
        {
          "name": "stdout",
          "output_type": "stream",
          "text": [
            "creating features for following interactions: cd ce cf cg ch ci de df dg dh di ef eg eh ei fg fh fi gh gi hi \n",
            "only testing\n",
            "predictions = outbrain_prob_predictions_3.txt\n",
            "Enabling FTRL based optimization\n",
            "Algorithm used: Proximal-FTRL\n",
            "ftrl_alpha = 0.005\n",
            "ftrl_beta = 0.1\n",
            "Num weight bits = 28\n",
            "learning rate = 0.5\n",
            "initial_t = 0\n",
            "power_t = 0.5\n",
            "using no cache\n",
            "Reading datafile = outbrain_val.vw\n",
            "num sources = 1\n",
            "average  since         example        example  current  current  current\n",
            "loss     last          counter         weight    label  predict features\n",
            "10.453407 10.453407            1            1.0   1.0000   0.0968       34\n",
            "5.351131 0.248856            2            2.0  -1.0000   0.1826       34\n",
            "2.846267 0.341402            4            4.0  -1.0000   0.1391       33\n",
            "2.493590 2.140914            8            8.0  -1.0000   0.0559       34\n",
            "1.877450 1.261311           16           16.0  -1.0000   0.1125       33\n",
            "1.795096 1.712742           32           32.0  -1.0000   0.1591       33\n",
            "2.006547 2.217998           64           64.0  -1.0000   0.1518       34\n",
            "2.070264 2.133982          128          128.0  -1.0000   0.1349       34\n",
            "1.922692 1.775119          256          256.0  -1.0000   0.2354       33\n",
            "2.209934 2.497177          512          512.0   1.0000   0.1500       34\n",
            "2.105784 2.001633         1024         1024.0  -1.0000   0.1568       33\n",
            "2.063439 2.021094         2048         2048.0  -1.0000   0.2049       34\n",
            "2.126137 2.188834         4096         4096.0  -1.0000   0.0472       34\n",
            "2.198570 2.271003         8192         8192.0  -1.0000   0.1131       34\n",
            "2.243762 2.288954        16384        16384.0   1.0000   0.4741       34\n",
            "2.188411 2.133060        32768        32768.0  -1.0000   0.1769       34\n",
            "2.215804 2.243196        65536        65536.0  -1.0000   0.2190       34\n",
            "2.209674 2.203543       131072       131072.0  -1.0000   0.0528       34\n",
            "2.217099 2.224525       262144       262144.0  -1.0000   0.1394       34\n",
            "2.219672 2.222245       524288       524288.0  -1.0000   0.0359       34\n",
            "2.215518 2.211364      1048576      1048576.0   1.0000   0.2401       34\n",
            "2.215635 2.215753      2097152      2097152.0  -1.0000   0.4124       26\n",
            "2.217296 2.218957      4194304      4194304.0  -1.0000   0.0688       33\n",
            "\n",
            "finished run\n",
            "number of examples = 4360752\n",
            "weighted example sum = 4360752.000000\n",
            "weighted label sum = -2670432.000000\n",
            "average loss = 2.218305\n",
            "best constant = -0.612379\n",
            "best constant's loss = 0.624992\n",
            "total feature number = 145674933\n",
            "CPU times: user 1.5 s, sys: 254 ms, total: 1.75 s\n",
            "Wall time: 1min 37s\n"
          ]
        }
      ],
      "source": [
        "%%time\n",
        "\n",
        "! vw outbrain_val.vw \\\n",
        "    --link=logistic \\\n",
        "    --testonly \\\n",
        "    --initial_regressor outbrain_3.model.bin \\\n",
        "    --predictions outbrain_prob_predictions_3.txt"
      ]
    },
    {
      "cell_type": "code",
      "execution_count": null,
      "metadata": {
        "id": "4-9XdMeEA8eP",
        "outputId": "cf6fe24e-1189-4d74-d289-20e9cb3838e0"
      },
      "outputs": [
        {
          "data": {
            "text/plain": [
              "(0.8156434945165421, 0.6115563829614517, 0.1337072270339344)"
            ]
          },
          "execution_count": 273,
          "metadata": {},
          "output_type": "execute_result"
        }
      ],
      "source": [
        "calc_class_metrics('outbrain_prob_predictions_3.txt', 'outbrain_val.vw')"
      ]
    },
    {
      "cell_type": "code",
      "execution_count": null,
      "metadata": {
        "id": "uGHMH51oA8eP",
        "outputId": "25ad23ad-9312-4cc0-d722-2fe1ea6bcbdb"
      },
      "outputs": [
        {
          "data": {
            "text/plain": [
              "0.42859707630738353"
            ]
          },
          "execution_count": 274,
          "metadata": {},
          "output_type": "execute_result"
        }
      ],
      "source": [
        "calc_log_loss('outbrain_prob_predictions_3.txt', 'outbrain_val.vw')"
      ]
    },
    {
      "cell_type": "code",
      "execution_count": null,
      "metadata": {
        "id": "5FYxDWrJA8eP",
        "outputId": "f61673a7-897a-4c0f-cfe6-e6915fa9da00"
      },
      "outputs": [
        {
          "data": {
            "text/plain": [
              "0.7441805292967816"
            ]
          },
          "execution_count": 275,
          "metadata": {},
          "output_type": "execute_result"
        }
      ],
      "source": [
        "calc_roc_auc_score('outbrain_prob_predictions_3.txt', 'outbrain_val.vw')"
      ]
    },
    {
      "cell_type": "code",
      "execution_count": null,
      "metadata": {
        "id": "IeU89DX-A8eP",
        "outputId": "8132d6f2-d54b-428f-adac-a9be014f43b5"
      },
      "outputs": [
        {
          "data": {
            "text/plain": [
              "0.42844821567152863"
            ]
          },
          "execution_count": 276,
          "metadata": {},
          "output_type": "execute_result"
        }
      ],
      "source": [
        "calc_average_precision_score('outbrain_prob_predictions_3.txt', 'outbrain_val.vw')"
      ]
    },
    {
      "cell_type": "code",
      "execution_count": null,
      "metadata": {
        "id": "qNmvM0D0A8eQ",
        "outputId": "e154fe2f-c205-4b21-dbbe-f4a1508a899d"
      },
      "outputs": [
        {
          "name": "stdout",
          "output_type": "stream",
          "text": [
            "creating features for following interactions: cd ce cf cg ch ci de df dg dh di ef eg eh ei fg fh fi gh gi hi \n",
            "only testing\n",
            "predictions = outbrain_test_predictions_3.txt\n",
            "Enabling FTRL based optimization\n",
            "Algorithm used: Proximal-FTRL\n",
            "ftrl_alpha = 0.005\n",
            "ftrl_beta = 0.1\n",
            "Num weight bits = 28\n",
            "learning rate = 0.5\n",
            "initial_t = 0\n",
            "power_t = 0.5\n",
            "using no cache\n",
            "Reading datafile = outbrain_test.vw\n",
            "num sources = 1\n",
            "average  since         example        example  current  current  current\n",
            "loss     last          counter         weight    label  predict features\n",
            "18.774296 18.774296            1            1.0   1.0000   0.0345       34\n",
            "15.211390 11.648483            2            2.0   1.0000   0.0822       34\n",
            "12.723682 10.235974            4            4.0   1.0000   0.0846       34\n",
            "8.268193 3.812705            8            8.0   1.0000   0.2458       34\n",
            "10.491043 12.713893           16           16.0   1.0000   0.1645       34\n",
            "9.214967 7.938891           32           32.0   1.0000   0.1192       34\n",
            "8.353489 7.492011           64           64.0   1.0000   0.1169       34\n",
            "8.479803 8.606118          128          128.0   1.0000   0.0987       26\n",
            "7.930923 7.382044          256          256.0   1.0000   0.3184       34\n",
            "7.503088 7.075253          512          512.0   1.0000   0.4180       26\n",
            "7.396050 7.289011         1024         1024.0   1.0000   0.1527       34\n",
            "7.745837 8.095624         2048         2048.0   1.0000   0.1269       34\n",
            "8.028601 8.311364         4096         4096.0   1.0000   0.2086       34\n",
            "7.938098 7.847595         8192         8192.0   1.0000   0.0516       33\n",
            "8.022676 8.107254        16384        16384.0   1.0000   0.0570       34\n",
            "8.037827 8.052977        32768        32768.0   1.0000   0.1513       34\n",
            "8.105704 8.173581        65536        65536.0   1.0000   0.5204       34\n",
            "7.958595 7.811486       131072       131072.0   1.0000   0.0914       34\n",
            "7.970848 7.983101       262144       262144.0   1.0000   0.0584       34\n",
            "7.961249 7.951649       524288       524288.0   1.0000   0.1787       34\n",
            "7.977843 7.994437      1048576      1048576.0   1.0000   0.0761       34\n",
            "7.960736 7.943629      2097152      2097152.0   1.0000   0.3538       34\n",
            "7.964292 7.967848      4194304      4194304.0   1.0000   0.1581       34\n",
            "7.967121 7.969950      8388608      8388608.0   1.0000   0.1650       34\n",
            "7.967197 7.967272     16777216     16777216.0   1.0000   0.3812       34\n",
            "\n",
            "finished run\n",
            "number of examples = 32225162\n",
            "weighted example sum = 32225162.000000\n",
            "weighted label sum = 32225162.000000\n",
            "average loss = 7.965539\n",
            "best constant = 1.000000\n",
            "best constant's loss = 0.000000\n",
            "total feature number = 1075812622\n",
            "CPU times: user 9.89 s, sys: 1.76 s, total: 11.6 s\n",
            "Wall time: 10min 56s\n"
          ]
        }
      ],
      "source": [
        "%%time\n",
        "\n",
        "! vw outbrain_test.vw \\\n",
        "    --link=logistic \\\n",
        "    --testonly \\\n",
        "    --initial_regressor outbrain_3.model.bin \\\n",
        "    --predictions outbrain_test_predictions_3.txt"
      ]
    },
    {
      "cell_type": "markdown",
      "source": [
        "# Submit the predictions to Kaggle"
      ],
      "metadata": {
        "id": "uVxNjcTg9NJu"
      }
    },
    {
      "cell_type": "code",
      "execution_count": null,
      "metadata": {
        "id": "2OuezGQ_A8eQ"
      },
      "outputs": [],
      "source": [
        "! cat outbrain_test.vw | cut -d' ' -f3,5 > outbrain_test_ids.txt"
      ]
    },
    {
      "cell_type": "code",
      "execution_count": null,
      "metadata": {
        "id": "I67Re8VDA8eQ"
      },
      "outputs": [],
      "source": [
        "from tqdm import tqdm\n",
        "\n",
        "def write_test_predictions_as_table(predictions_filename, data_filename, answers_filename):\n",
        "    with open(predictions_filename, 'r') as f:\n",
        "        pred = [value[:-1] for value in tqdm(f.readlines())]\n",
        "\n",
        "    with open(data_filename, 'r') as f:\n",
        "        ids = [value[:-1] for value in tqdm(f.readlines())]\n",
        "\n",
        "    with open(answers_filename, 'w') as f:\n",
        "        for i in tqdm(range(len(pred))):\n",
        "            f.write(ids[i] + ' ' + pred[i] + '\\n')"
      ]
    },
    {
      "cell_type": "code",
      "execution_count": null,
      "metadata": {
        "id": "xZOQyf3wA8eQ",
        "outputId": "efe752f8-36be-4bf9-da1f-b33344e167a5"
      },
      "outputs": [
        {
          "name": "stderr",
          "output_type": "stream",
          "text": [
            "100%|██████████| 32225162/32225162 [00:07<00:00, 4338217.12it/s]\n",
            "100%|██████████| 32225162/32225162 [00:07<00:00, 4252368.70it/s]\n",
            "100%|██████████| 32225162/32225162 [00:13<00:00, 2309775.89it/s]\n"
          ]
        }
      ],
      "source": [
        "write_test_predictions_as_table('outbrain_test_predictions_1.txt', 'outbrain_test_ids.txt', 'outbrain_test_predictions_as_table_1.txt')"
      ]
    },
    {
      "cell_type": "code",
      "execution_count": null,
      "metadata": {
        "id": "gWqLEbyJA8eQ",
        "outputId": "538e0f28-5f07-4fca-fe5c-80389d23c067"
      },
      "outputs": [
        {
          "name": "stderr",
          "output_type": "stream",
          "text": [
            "100%|██████████| 32225162/32225162 [00:07<00:00, 4290702.18it/s]\n",
            "100%|██████████| 32225162/32225162 [00:07<00:00, 4207146.54it/s]\n",
            "100%|██████████| 32225162/32225162 [00:13<00:00, 2451703.61it/s]\n"
          ]
        }
      ],
      "source": [
        "write_test_predictions_as_table('outbrain_test_predictions_2.txt', 'outbrain_test_ids.txt', 'outbrain_test_predictions_as_table_2.txt')"
      ]
    },
    {
      "cell_type": "code",
      "execution_count": null,
      "metadata": {
        "id": "9pQLPq8QA8eQ",
        "outputId": "7fdf9e82-e347-4768-e406-21872ebac96a"
      },
      "outputs": [
        {
          "name": "stderr",
          "output_type": "stream",
          "text": [
            "100%|██████████| 32225162/32225162 [00:07<00:00, 4333984.14it/s]\n",
            "100%|██████████| 32225162/32225162 [00:07<00:00, 4260025.18it/s]\n",
            "100%|██████████| 32225162/32225162 [00:13<00:00, 2393516.80it/s]\n"
          ]
        }
      ],
      "source": [
        "write_test_predictions_as_table('outbrain_test_predictions_3.txt', 'outbrain_test_ids.txt', 'outbrain_test_predictions_as_table_3.txt')"
      ]
    },
    {
      "cell_type": "code",
      "execution_count": null,
      "metadata": {
        "id": "Gg4WNa5rA8eQ"
      },
      "outputs": [],
      "source": [
        "import pandas as pd\n",
        "\n",
        "def write_test_predictions_as_sorted_list(predictions_filename, answers_filename):\n",
        "    pred = pd.read_csv(predictions_filename, names=[\"display_id\", \"ad_id\", \"proba\"], sep=' ', dtype={\"display_id\": np.int32, \"ad_id\": np.int32, \"proba\": np.float64})\n",
        "    pred = pred.sort_values(['display_id', 'proba'], ascending=False).groupby('display_id').agg({'ad_id': list})\n",
        "    pred['ad_id'] = pred['ad_id'].apply(lambda x: ' '.join(map(str, x)))\n",
        "    pred.to_csv(answers_filename)"
      ]
    },
    {
      "cell_type": "code",
      "execution_count": null,
      "metadata": {
        "id": "qmBWv699A8eQ"
      },
      "outputs": [],
      "source": [
        "write_test_predictions_as_sorted_list('outbrain_test_predictions_as_table_1.txt', 'outbrain_test_predictions_as_sorted_list_1.txt')"
      ]
    },
    {
      "cell_type": "code",
      "execution_count": null,
      "metadata": {
        "id": "63MpEitTA8eQ"
      },
      "outputs": [],
      "source": [
        "write_test_predictions_as_sorted_list('outbrain_test_predictions_as_table_2.txt', 'outbrain_test_predictions_as_sorted_list_2.txt')"
      ]
    },
    {
      "cell_type": "code",
      "execution_count": null,
      "metadata": {
        "id": "AZx2jpo8A8eQ"
      },
      "outputs": [],
      "source": [
        "write_test_predictions_as_sorted_list('outbrain_test_predictions_as_table_3.txt', 'outbrain_test_predictions_as_sorted_list_3.txt')"
      ]
    },
    {
      "cell_type": "code",
      "execution_count": null,
      "metadata": {
        "id": "ERu3vClZA8eR",
        "outputId": "f4598304-9238-4dea-b8a4-7fdf08d3a1cc"
      },
      "outputs": [
        {
          "name": "stdout",
          "output_type": "stream",
          "text": [
            "Warning: Looks like you're using an outdated API Version, please consider updating (server 1.6.7 / client 1.6.6)\n",
            "100%|████████████████████████████████████████| 260M/260M [00:08<00:00, 31.3MB/s]\n",
            "Successfully submitted to Outbrain Click Prediction"
          ]
        }
      ],
      "source": [
        "!kaggle competitions submit -c outbrain-click-prediction -f outbrain_test_predictions_as_sorted_list_1.txt -m \"1\""
      ]
    },
    {
      "cell_type": "code",
      "execution_count": null,
      "metadata": {
        "id": "evoYWM4vA8eR",
        "outputId": "bb0043d6-3973-4e0d-98a6-6badcc33dadb"
      },
      "outputs": [
        {
          "name": "stdout",
          "output_type": "stream",
          "text": [
            "Warning: Looks like you're using an outdated API Version, please consider updating (server 1.6.7 / client 1.6.6)\n",
            "100%|████████████████████████████████████████| 260M/260M [00:08<00:00, 31.8MB/s]\n",
            "Successfully submitted to Outbrain Click Prediction"
          ]
        }
      ],
      "source": [
        "!kaggle competitions submit -c outbrain-click-prediction -f outbrain_test_predictions_as_sorted_list_2.txt -m \"2\""
      ]
    },
    {
      "cell_type": "code",
      "execution_count": null,
      "metadata": {
        "id": "ZfrK2C4xA8eR",
        "outputId": "2945db5e-ae93-45da-c1cc-f617fc4783aa"
      },
      "outputs": [
        {
          "name": "stdout",
          "output_type": "stream",
          "text": [
            "Warning: Looks like you're using an outdated API Version, please consider updating (server 1.6.7 / client 1.6.6)\n",
            "100%|████████████████████████████████████████| 260M/260M [00:14<00:00, 19.5MB/s]\n",
            "Successfully submitted to Outbrain Click Prediction"
          ]
        }
      ],
      "source": [
        "!kaggle competitions submit -c outbrain-click-prediction -f outbrain_test_predictions_as_sorted_list_3.txt -m \"3\""
      ]
    },
    {
      "cell_type": "markdown",
      "metadata": {
        "id": "z8V-UorTA8eR"
      },
      "source": [
        "Based on test results, the best of these submissions is the first one, it achieves a score of 0.653. The third submission achieves almost the same score in half the number of iterations.\n",
        "\n",
        "https://drive.google.com/file/d/16fjt4J8wGD8UwnC0Xwfc2XnkxyyuGUxo/view?usp=sharing"
      ]
    },
    {
      "cell_type": "markdown",
      "metadata": {
        "id": "thYg8ibxA8eR"
      },
      "source": [
        "For the next experiments I decided to include information from **page_views.csv**: all the documents viewed by each user and the number of views. I also decided to include the date of content viewing from events.csv (the data in the dataset was collected over two weeks)."
      ]
    },
    {
      "cell_type": "markdown",
      "source": [
        "# Extract new features using SQL"
      ],
      "metadata": {
        "id": "7GS7kcc5-sna"
      }
    },
    {
      "cell_type": "code",
      "execution_count": null,
      "metadata": {
        "id": "Q831SyQ_A8eR",
        "outputId": "936f5b9e-49e0-4640-f851-db22b9256816"
      },
      "outputs": [
        {
          "data": {
            "text/html": [
              "<div>\n",
              "<style scoped>\n",
              "    .dataframe tbody tr th:only-of-type {\n",
              "        vertical-align: middle;\n",
              "    }\n",
              "\n",
              "    .dataframe tbody tr th {\n",
              "        vertical-align: top;\n",
              "    }\n",
              "\n",
              "    .dataframe thead th {\n",
              "        text-align: right;\n",
              "    }\n",
              "</style>\n",
              "<table border=\"1\" class=\"dataframe\">\n",
              "  <thead>\n",
              "    <tr style=\"text-align: right;\">\n",
              "      <th></th>\n",
              "      <th>display_id</th>\n",
              "      <th>ad_id</th>\n",
              "      <th>clicked</th>\n",
              "      <th>train</th>\n",
              "      <th>promo_document_id</th>\n",
              "      <th>campaign_id</th>\n",
              "      <th>advertiser_id</th>\n",
              "      <th>uuid</th>\n",
              "      <th>document_id</th>\n",
              "      <th>platform</th>\n",
              "      <th>geo_location</th>\n",
              "      <th>country</th>\n",
              "      <th>state</th>\n",
              "      <th>dma</th>\n",
              "      <th>timestamp</th>\n",
              "      <th>day_of_week</th>\n",
              "      <th>hour</th>\n",
              "    </tr>\n",
              "  </thead>\n",
              "  <tbody>\n",
              "    <tr>\n",
              "      <th>0</th>\n",
              "      <td>148</td>\n",
              "      <td>89351</td>\n",
              "      <td>1</td>\n",
              "      <td>1</td>\n",
              "      <td>990613</td>\n",
              "      <td>7617</td>\n",
              "      <td>2181</td>\n",
              "      <td>9adce6a5363308</td>\n",
              "      <td>1205772</td>\n",
              "      <td>2</td>\n",
              "      <td>US&gt;LA&gt;612</td>\n",
              "      <td>US</td>\n",
              "      <td>LA</td>\n",
              "      <td>612</td>\n",
              "      <td>11202</td>\n",
              "      <td>3</td>\n",
              "      <td>4</td>\n",
              "    </tr>\n",
              "    <tr>\n",
              "      <th>1</th>\n",
              "      <td>148</td>\n",
              "      <td>152140</td>\n",
              "      <td>0</td>\n",
              "      <td>1</td>\n",
              "      <td>1060089</td>\n",
              "      <td>19032</td>\n",
              "      <td>1593</td>\n",
              "      <td>9adce6a5363308</td>\n",
              "      <td>1205772</td>\n",
              "      <td>2</td>\n",
              "      <td>US&gt;LA&gt;612</td>\n",
              "      <td>US</td>\n",
              "      <td>LA</td>\n",
              "      <td>612</td>\n",
              "      <td>11202</td>\n",
              "      <td>3</td>\n",
              "      <td>4</td>\n",
              "    </tr>\n",
              "    <tr>\n",
              "      <th>2</th>\n",
              "      <td>148</td>\n",
              "      <td>152656</td>\n",
              "      <td>0</td>\n",
              "      <td>1</td>\n",
              "      <td>1086755</td>\n",
              "      <td>10511</td>\n",
              "      <td>2151</td>\n",
              "      <td>9adce6a5363308</td>\n",
              "      <td>1205772</td>\n",
              "      <td>2</td>\n",
              "      <td>US&gt;LA&gt;612</td>\n",
              "      <td>US</td>\n",
              "      <td>LA</td>\n",
              "      <td>612</td>\n",
              "      <td>11202</td>\n",
              "      <td>3</td>\n",
              "      <td>4</td>\n",
              "    </tr>\n",
              "    <tr>\n",
              "      <th>3</th>\n",
              "      <td>148</td>\n",
              "      <td>326768</td>\n",
              "      <td>0</td>\n",
              "      <td>1</td>\n",
              "      <td>1379561</td>\n",
              "      <td>23374</td>\n",
              "      <td>2348</td>\n",
              "      <td>9adce6a5363308</td>\n",
              "      <td>1205772</td>\n",
              "      <td>2</td>\n",
              "      <td>US&gt;LA&gt;612</td>\n",
              "      <td>US</td>\n",
              "      <td>LA</td>\n",
              "      <td>612</td>\n",
              "      <td>11202</td>\n",
              "      <td>3</td>\n",
              "      <td>4</td>\n",
              "    </tr>\n",
              "    <tr>\n",
              "      <th>4</th>\n",
              "      <td>463</td>\n",
              "      <td>28270</td>\n",
              "      <td>0</td>\n",
              "      <td>1</td>\n",
              "      <td>845272</td>\n",
              "      <td>4346</td>\n",
              "      <td>1913</td>\n",
              "      <td>85d999a1dd5483</td>\n",
              "      <td>1787133</td>\n",
              "      <td>1</td>\n",
              "      <td>US&gt;SD&gt;764</td>\n",
              "      <td>US</td>\n",
              "      <td>SD</td>\n",
              "      <td>764</td>\n",
              "      <td>34492</td>\n",
              "      <td>3</td>\n",
              "      <td>4</td>\n",
              "    </tr>\n",
              "  </tbody>\n",
              "</table>\n",
              "</div>"
            ],
            "text/plain": [
              "   display_id   ad_id  clicked  train  promo_document_id  campaign_id  \\\n",
              "0         148   89351        1      1             990613         7617   \n",
              "1         148  152140        0      1            1060089        19032   \n",
              "2         148  152656        0      1            1086755        10511   \n",
              "3         148  326768        0      1            1379561        23374   \n",
              "4         463   28270        0      1             845272         4346   \n",
              "\n",
              "   advertiser_id            uuid  document_id platform geo_location country  \\\n",
              "0           2181  9adce6a5363308      1205772        2    US>LA>612      US   \n",
              "1           1593  9adce6a5363308      1205772        2    US>LA>612      US   \n",
              "2           2151  9adce6a5363308      1205772        2    US>LA>612      US   \n",
              "3           2348  9adce6a5363308      1205772        2    US>LA>612      US   \n",
              "4           1913  85d999a1dd5483      1787133        1    US>SD>764      US   \n",
              "\n",
              "  state  dma  timestamp  day_of_week  hour  \n",
              "0    LA  612      11202            3     4  \n",
              "1    LA  612      11202            3     4  \n",
              "2    LA  612      11202            3     4  \n",
              "3    LA  612      11202            3     4  \n",
              "4    SD  764      34492            3     4  "
            ]
          },
          "execution_count": 330,
          "metadata": {},
          "output_type": "execute_result"
        }
      ],
      "source": [
        "all_data_new = se.sql(\"\"\"\n",
        "    SELECT\n",
        "        clicks.display_id as display_id,\n",
        "        clicks.ad_id as ad_id,\n",
        "        clicks.clicked as clicked,\n",
        "        clicks.train as train,\n",
        "        IFNULL(promoted_content.document_id, -1) as promo_document_id,\n",
        "        IFNULL(promoted_content.campaign_id, -1) as campaign_id,\n",
        "        IFNULL(promoted_content.advertiser_id, -1) as advertiser_id,\n",
        "        IFNULL(events.uuid, -1) as uuid,\n",
        "        IFNULL(events.document_id, -1) as document_id,\n",
        "        IFNULL(events.platform, -1) as platform,\n",
        "        IFNULL(events.geo_location, \"\") as geo_location,\n",
        "        to_country(events.geo_location) as country,\n",
        "        to_state(events.geo_location) as state,\n",
        "        to_dma(events.geo_location) as dma,\n",
        "        IFNULL(events.timestamp, 0) as timestamp,\n",
        "        DAYOFWEEK(FROM_UNIXTIME((IFNULL(events.timestamp, 0) + 1465876799998) * 0.001)) as day_of_week,\n",
        "        HOUR(FROM_UNIXTIME((IFNULL(events.timestamp, 0) + 1465876799998) * 0.001)) as hour\n",
        "    FROM clicks\n",
        "    INNER JOIN promoted_content ON clicks.ad_id = promoted_content.ad_id\n",
        "    INNER JOIN events ON clicks.display_id = events.display_id\n",
        "\"\"\")\n",
        "all_data_new.registerTempTable('all_data_new')\n",
        "all_data_new.limit(5).toPandas()"
      ]
    },
    {
      "cell_type": "code",
      "execution_count": null,
      "metadata": {
        "id": "Zi598J5ZA8eR",
        "outputId": "6742ce18-3c60-4e61-e5dc-9de3f7242a7e"
      },
      "outputs": [
        {
          "data": {
            "text/html": [
              "<div>\n",
              "<style scoped>\n",
              "    .dataframe tbody tr th:only-of-type {\n",
              "        vertical-align: middle;\n",
              "    }\n",
              "\n",
              "    .dataframe tbody tr th {\n",
              "        vertical-align: top;\n",
              "    }\n",
              "\n",
              "    .dataframe thead th {\n",
              "        text-align: right;\n",
              "    }\n",
              "</style>\n",
              "<table border=\"1\" class=\"dataframe\">\n",
              "  <thead>\n",
              "    <tr style=\"text-align: right;\">\n",
              "      <th></th>\n",
              "      <th>uuid</th>\n",
              "      <th>document_id</th>\n",
              "    </tr>\n",
              "  </thead>\n",
              "  <tbody>\n",
              "    <tr>\n",
              "      <th>0</th>\n",
              "      <td>68fb8eb72c49c4</td>\n",
              "      <td>1201414</td>\n",
              "    </tr>\n",
              "    <tr>\n",
              "      <th>1</th>\n",
              "      <td>a88f8816ca5830</td>\n",
              "      <td>1201414</td>\n",
              "    </tr>\n",
              "    <tr>\n",
              "      <th>2</th>\n",
              "      <td>fe8feabea9f4dc</td>\n",
              "      <td>1201414</td>\n",
              "    </tr>\n",
              "    <tr>\n",
              "      <th>3</th>\n",
              "      <td>23dd0b38da6247</td>\n",
              "      <td>1201414</td>\n",
              "    </tr>\n",
              "    <tr>\n",
              "      <th>4</th>\n",
              "      <td>cb7d81b02f4c1b</td>\n",
              "      <td>1201414</td>\n",
              "    </tr>\n",
              "  </tbody>\n",
              "</table>\n",
              "</div>"
            ],
            "text/plain": [
              "             uuid  document_id\n",
              "0  68fb8eb72c49c4      1201414\n",
              "1  a88f8816ca5830      1201414\n",
              "2  fe8feabea9f4dc      1201414\n",
              "3  23dd0b38da6247      1201414\n",
              "4  cb7d81b02f4c1b      1201414"
            ]
          },
          "execution_count": 334,
          "metadata": {},
          "output_type": "execute_result"
        }
      ],
      "source": [
        "user_viewed_documents = se.sql(\"\"\"\n",
        "    SELECT\n",
        "        uuid,\n",
        "        document_id\n",
        "    FROM page_views\n",
        "\"\"\")\n",
        "user_viewed_documents.registerTempTable('user_viewed_documents')\n",
        "user_viewed_documents.limit(5).toPandas()"
      ]
    },
    {
      "cell_type": "code",
      "execution_count": null,
      "metadata": {
        "id": "-TQY9l6eA8eR"
      },
      "outputs": [],
      "source": [
        "import pyspark.sql.functions as F\n",
        "\n",
        "page_views_grouped = user_viewed_documents.groupBy(\"uuid\").agg(\n",
        "    F.concat_ws(\" \", F.collect_list(F.col(\"document_id\").cast(\"string\"))).alias(\"viewed_documents\"),\n",
        "    F.size(F.collect_list(F.col(\"document_id\"))).alias(\"cnt_viewed_documents\")\n",
        ")"
      ]
    },
    {
      "cell_type": "code",
      "execution_count": null,
      "metadata": {
        "id": "IbK2f96rA8eS"
      },
      "outputs": [],
      "source": [
        "page_views_grouped.write.parquet(\"/user/outbrain-click-prediction/parquet/page_views_grouped.parquet\")"
      ]
    },
    {
      "cell_type": "code",
      "execution_count": null,
      "metadata": {
        "id": "CeueT2ZCA8eS"
      },
      "outputs": [],
      "source": [
        "page_views_grouped.registerTempTable('page_views_grouped')"
      ]
    },
    {
      "cell_type": "code",
      "execution_count": null,
      "metadata": {
        "id": "_GuiNi93A8eS"
      },
      "outputs": [],
      "source": [
        "all_data_with_page_views = se.sql(\"\"\"\n",
        "    SELECT\n",
        "        all_data_new.display_id as display_id,\n",
        "        all_data_new.ad_id as ad_id,\n",
        "        all_data_new.clicked as clicked,\n",
        "        all_data_new.train as train,\n",
        "        all_data_new.promo_document_id as promo_document_id,\n",
        "        all_data_new.campaign_id as campaign_id,\n",
        "        all_data_new.advertiser_id as advertiser_id,\n",
        "        all_data_new.uuid as uuid,\n",
        "        all_data_new.document_id as document_id,\n",
        "        all_data_new.platform as platform,\n",
        "        all_data_new.geo_location as geo_location,\n",
        "        all_data_new.country as country,\n",
        "        all_data_new.state as state,\n",
        "        all_data_new.dma as dma,\n",
        "        all_data_new.timestamp as timestamp,\n",
        "        all_data_new.day_of_week as day_of_week,\n",
        "        all_data_new.hour as hour,\n",
        "        page_views_grouped.viewed_documents as viewed_documents,\n",
        "        page_views_grouped.cnt_viewed_documents as cnt_viewed_documents\n",
        "    FROM all_data_new\n",
        "    INNER JOIN page_views_grouped\n",
        "    ON all_data_new.uuid = page_views_grouped.uuid\n",
        "\"\"\")"
      ]
    },
    {
      "cell_type": "code",
      "execution_count": null,
      "metadata": {
        "id": "Vo3AJWR0A8eS"
      },
      "outputs": [],
      "source": [
        "!hdfs dfs -rm -f -r /user/outbrain-click-prediction/parquet/all_data_with_page_views.parquet"
      ]
    },
    {
      "cell_type": "code",
      "execution_count": null,
      "metadata": {
        "id": "T04pMlw-A8eS"
      },
      "outputs": [],
      "source": [
        "all_data_with_page_views.write.parquet(\"/user/outbrain-click-prediction/parquet/all_data_with_page_views.parquet\")"
      ]
    },
    {
      "cell_type": "code",
      "execution_count": null,
      "metadata": {
        "id": "ikJRYLwcA8eS",
        "outputId": "bafa1f02-df1f-4bb6-96ba-04e5bb8eba4e"
      },
      "outputs": [
        {
          "data": {
            "text/html": [
              "<div>\n",
              "<style scoped>\n",
              "    .dataframe tbody tr th:only-of-type {\n",
              "        vertical-align: middle;\n",
              "    }\n",
              "\n",
              "    .dataframe tbody tr th {\n",
              "        vertical-align: top;\n",
              "    }\n",
              "\n",
              "    .dataframe thead th {\n",
              "        text-align: right;\n",
              "    }\n",
              "</style>\n",
              "<table border=\"1\" class=\"dataframe\">\n",
              "  <thead>\n",
              "    <tr style=\"text-align: right;\">\n",
              "      <th></th>\n",
              "      <th>display_id</th>\n",
              "      <th>ad_id</th>\n",
              "      <th>clicked</th>\n",
              "      <th>train</th>\n",
              "      <th>promo_document_id</th>\n",
              "      <th>campaign_id</th>\n",
              "      <th>advertiser_id</th>\n",
              "      <th>uuid</th>\n",
              "      <th>document_id</th>\n",
              "      <th>platform</th>\n",
              "      <th>geo_location</th>\n",
              "      <th>country</th>\n",
              "      <th>state</th>\n",
              "      <th>dma</th>\n",
              "      <th>timestamp</th>\n",
              "      <th>day_of_week</th>\n",
              "      <th>hour</th>\n",
              "      <th>viewed_documents</th>\n",
              "      <th>cnt_viewed_documents</th>\n",
              "    </tr>\n",
              "  </thead>\n",
              "  <tbody>\n",
              "    <tr>\n",
              "      <th>0</th>\n",
              "      <td>16757900</td>\n",
              "      <td>7033</td>\n",
              "      <td>0</td>\n",
              "      <td>1</td>\n",
              "      <td>393333</td>\n",
              "      <td>530</td>\n",
              "      <td>386</td>\n",
              "      <td>100013af048bbf</td>\n",
              "      <td>38915</td>\n",
              "      <td>3</td>\n",
              "      <td>US&gt;CA&gt;807</td>\n",
              "      <td>US</td>\n",
              "      <td>CA</td>\n",
              "      <td>807</td>\n",
              "      <td>1116182031</td>\n",
              "      <td>2</td>\n",
              "      <td>2</td>\n",
              "      <td>2450863 2436405 2441484 2441597 2442318 244402...</td>\n",
              "      <td>46</td>\n",
              "    </tr>\n",
              "    <tr>\n",
              "      <th>1</th>\n",
              "      <td>16757900</td>\n",
              "      <td>147242</td>\n",
              "      <td>0</td>\n",
              "      <td>1</td>\n",
              "      <td>1108162</td>\n",
              "      <td>15428</td>\n",
              "      <td>2241</td>\n",
              "      <td>100013af048bbf</td>\n",
              "      <td>38915</td>\n",
              "      <td>3</td>\n",
              "      <td>US&gt;CA&gt;807</td>\n",
              "      <td>US</td>\n",
              "      <td>CA</td>\n",
              "      <td>807</td>\n",
              "      <td>1116182031</td>\n",
              "      <td>2</td>\n",
              "      <td>2</td>\n",
              "      <td>2450863 2436405 2441484 2441597 2442318 244402...</td>\n",
              "      <td>46</td>\n",
              "    </tr>\n",
              "    <tr>\n",
              "      <th>2</th>\n",
              "      <td>16757900</td>\n",
              "      <td>156270</td>\n",
              "      <td>1</td>\n",
              "      <td>1</td>\n",
              "      <td>1388416</td>\n",
              "      <td>18892</td>\n",
              "      <td>2623</td>\n",
              "      <td>100013af048bbf</td>\n",
              "      <td>38915</td>\n",
              "      <td>3</td>\n",
              "      <td>US&gt;CA&gt;807</td>\n",
              "      <td>US</td>\n",
              "      <td>CA</td>\n",
              "      <td>807</td>\n",
              "      <td>1116182031</td>\n",
              "      <td>2</td>\n",
              "      <td>2</td>\n",
              "      <td>2450863 2436405 2441484 2441597 2442318 244402...</td>\n",
              "      <td>46</td>\n",
              "    </tr>\n",
              "    <tr>\n",
              "      <th>3</th>\n",
              "      <td>22991705</td>\n",
              "      <td>85274</td>\n",
              "      <td>0</td>\n",
              "      <td>0</td>\n",
              "      <td>961909</td>\n",
              "      <td>9947</td>\n",
              "      <td>2238</td>\n",
              "      <td>1000615e760786</td>\n",
              "      <td>2959725</td>\n",
              "      <td>3</td>\n",
              "      <td>US&gt;IL&gt;602</td>\n",
              "      <td>US</td>\n",
              "      <td>IL</td>\n",
              "      <td>602</td>\n",
              "      <td>1288970662</td>\n",
              "      <td>4</td>\n",
              "      <td>2</td>\n",
              "      <td>2730005 2730005 2959725</td>\n",
              "      <td>3</td>\n",
              "    </tr>\n",
              "    <tr>\n",
              "      <th>4</th>\n",
              "      <td>22991705</td>\n",
              "      <td>118016</td>\n",
              "      <td>0</td>\n",
              "      <td>0</td>\n",
              "      <td>1193086</td>\n",
              "      <td>15059</td>\n",
              "      <td>2238</td>\n",
              "      <td>1000615e760786</td>\n",
              "      <td>2959725</td>\n",
              "      <td>3</td>\n",
              "      <td>US&gt;IL&gt;602</td>\n",
              "      <td>US</td>\n",
              "      <td>IL</td>\n",
              "      <td>602</td>\n",
              "      <td>1288970662</td>\n",
              "      <td>4</td>\n",
              "      <td>2</td>\n",
              "      <td>2730005 2730005 2959725</td>\n",
              "      <td>3</td>\n",
              "    </tr>\n",
              "  </tbody>\n",
              "</table>\n",
              "</div>"
            ],
            "text/plain": [
              "   display_id   ad_id  clicked  train  promo_document_id  campaign_id  \\\n",
              "0    16757900    7033        0      1             393333          530   \n",
              "1    16757900  147242        0      1            1108162        15428   \n",
              "2    16757900  156270        1      1            1388416        18892   \n",
              "3    22991705   85274        0      0             961909         9947   \n",
              "4    22991705  118016        0      0            1193086        15059   \n",
              "\n",
              "   advertiser_id            uuid  document_id platform geo_location country  \\\n",
              "0            386  100013af048bbf        38915        3    US>CA>807      US   \n",
              "1           2241  100013af048bbf        38915        3    US>CA>807      US   \n",
              "2           2623  100013af048bbf        38915        3    US>CA>807      US   \n",
              "3           2238  1000615e760786      2959725        3    US>IL>602      US   \n",
              "4           2238  1000615e760786      2959725        3    US>IL>602      US   \n",
              "\n",
              "  state  dma   timestamp  day_of_week  hour  \\\n",
              "0    CA  807  1116182031            2     2   \n",
              "1    CA  807  1116182031            2     2   \n",
              "2    CA  807  1116182031            2     2   \n",
              "3    IL  602  1288970662            4     2   \n",
              "4    IL  602  1288970662            4     2   \n",
              "\n",
              "                                    viewed_documents  cnt_viewed_documents  \n",
              "0  2450863 2436405 2441484 2441597 2442318 244402...                    46  \n",
              "1  2450863 2436405 2441484 2441597 2442318 244402...                    46  \n",
              "2  2450863 2436405 2441484 2441597 2442318 244402...                    46  \n",
              "3                            2730005 2730005 2959725                     3  \n",
              "4                            2730005 2730005 2959725                     3  "
            ]
          },
          "execution_count": 342,
          "metadata": {},
          "output_type": "execute_result"
        }
      ],
      "source": [
        "all_data_with_page_views.registerTempTable('all_data_with_page_views')\n",
        "all_data_with_page_views.limit(5).toPandas()"
      ]
    },
    {
      "cell_type": "code",
      "execution_count": null,
      "metadata": {
        "id": "CYmA3kk1A8eS"
      },
      "outputs": [],
      "source": [
        "train_data_with_page_views = se.sql(\"\"\"\n",
        "    SELECT\n",
        "        *\n",
        "    FROM all_data_with_page_views\n",
        "    WHERE train = 1\n",
        "\"\"\")"
      ]
    },
    {
      "cell_type": "code",
      "execution_count": null,
      "metadata": {
        "id": "HXx0DTGbA8eS"
      },
      "outputs": [],
      "source": [
        "test_data_with_page_views = se.sql(\"\"\"\n",
        "    SELECT\n",
        "        *\n",
        "    FROM all_data_with_page_views\n",
        "    WHERE train = 0\n",
        "\"\"\")"
      ]
    },
    {
      "cell_type": "code",
      "execution_count": null,
      "metadata": {
        "id": "sVQ8v56RA8eT"
      },
      "outputs": [],
      "source": [
        "train_data_with_page_views.write.parquet(\"/user/outbrain-click-prediction/parquet/train_data_with_page_views.parquet\")"
      ]
    },
    {
      "cell_type": "code",
      "execution_count": null,
      "metadata": {
        "id": "6_F9wmo1A8eT"
      },
      "outputs": [],
      "source": [
        "test_data_with_page_views.write.parquet(\"/user/outbrain-click-prediction/parquet/test_data_with_page_views.parquet\")"
      ]
    },
    {
      "cell_type": "code",
      "execution_count": null,
      "metadata": {
        "id": "sE7_S1a4A8eT"
      },
      "outputs": [],
      "source": [
        "train_data_parquet = se.read.parquet(\"/user/outbrain-click-prediction/parquet/train_data_with_page_views.parquet\")"
      ]
    },
    {
      "cell_type": "code",
      "execution_count": null,
      "metadata": {
        "id": "KVBOKbw4A8eT"
      },
      "outputs": [],
      "source": [
        "test_data_parquet = se.read.parquet(\"/user/outbrain-click-prediction/parquet/test_data_with_page_views.parquet\")"
      ]
    },
    {
      "cell_type": "code",
      "execution_count": null,
      "metadata": {
        "id": "xW-WuqhqA8eT"
      },
      "outputs": [],
      "source": [
        "# df = train_data_parquet"
      ]
    },
    {
      "cell_type": "code",
      "execution_count": null,
      "metadata": {
        "id": "tYwZ7KXNA8eT"
      },
      "outputs": [],
      "source": [
        "df_train = train_data_parquet"
      ]
    },
    {
      "cell_type": "code",
      "execution_count": null,
      "metadata": {
        "id": "Rz-kVAxTA8eU"
      },
      "outputs": [],
      "source": [
        "df_test = test_data_parquet"
      ]
    },
    {
      "cell_type": "code",
      "execution_count": null,
      "metadata": {
        "id": "gggBR4DwA8eU"
      },
      "outputs": [],
      "source": [
        "# df_train, df_val = df.randomSplit([0.95, 0.05], seed=42)"
      ]
    },
    {
      "cell_type": "markdown",
      "source": [
        "# Convert to Vowpal Wabbit format"
      ],
      "metadata": {
        "id": "cVSSGYz3-82G"
      }
    },
    {
      "cell_type": "code",
      "execution_count": null,
      "metadata": {
        "id": "vgXZxwyzA8eU"
      },
      "outputs": [],
      "source": [
        "def convert_to_vw_train(data):\n",
        "    target = data['clicked'] * 2 - 1\n",
        "    display_id = data['display_id']\n",
        "    ad_id = data['ad_id']\n",
        "    promo_document_id = data['promo_document_id']\n",
        "    campaign_id = data['campaign_id']\n",
        "    advertiser_id = data['advertiser_id']\n",
        "    document_id = data['document_id']\n",
        "    platform = data['platform']\n",
        "    geo_location = data['geo_location']\n",
        "    country = data['country']\n",
        "    state = data['state']\n",
        "    dma = data['dma']\n",
        "    uuid = data['uuid']\n",
        "    timestamp = data['timestamp']\n",
        "    day_of_week = data['day_of_week']\n",
        "    hour = data['hour']\n",
        "    print(timestamp, day_of_week, hour)\n",
        "    viewed_documents = data['viewed_documents']\n",
        "    cnt_viewed_documents = data['cnt_viewed_documents']\n",
        "\n",
        "    template = f\"{target} |a {display_id} |b {ad_id} |c {promo_document_id} |d {campaign_id} |e {advertiser_id} |f {document_id} |g {platform} |h {country} |i {state} |j {dma} |k {uuid} |l {geo_location} |m timestamp:{timestamp} |n {day_of_week} |o {hour} |p {viewed_documents} |q cnt_viewed_documents:{cnt_viewed_documents}\"\n",
        "    return template\n",
        "\n",
        "def convert_to_vw_test(data):\n",
        "    display_id = data['display_id']\n",
        "    ad_id = data['ad_id']\n",
        "    promo_document_id = data['promo_document_id']\n",
        "    campaign_id = data['campaign_id']\n",
        "    advertiser_id = data['advertiser_id']\n",
        "    document_id = data['document_id']\n",
        "    platform = data['platform']\n",
        "    geo_location = data['geo_location']\n",
        "    country = data['country']\n",
        "    state = data['state']\n",
        "    dma = data['dma']\n",
        "    uuid = data['uuid']\n",
        "    timestamp = data['timestamp']\n",
        "    day_of_week = data['day_of_week']\n",
        "    hour = data['hour']\n",
        "    viewed_documents = data['viewed_documents']\n",
        "    cnt_viewed_documents = data['cnt_viewed_documents']\n",
        "\n",
        "    template = f\"1 |a {display_id} |b {ad_id} |c {promo_document_id} |d {campaign_id} |e {advertiser_id} |f {document_id} |g {platform} |h {country} |i {state} |j {dma} |k {uuid} |l {geo_location} |m timestamp:{timestamp} |n {day_of_week} |o {hour} |p {viewed_documents} |q cnt_viewed_documents:{cnt_viewed_documents}\"\n",
        "    return template"
      ]
    },
    {
      "cell_type": "code",
      "execution_count": null,
      "metadata": {
        "id": "1nR5NuZSA8eU",
        "outputId": "e4573ff0-847d-4565-ba04-92c989ca98c5"
      },
      "outputs": [
        {
          "data": {
            "text/plain": [
              "Row(display_id=5686397, ad_id=61941, clicked=1, train=1, promo_document_id=1017869, campaign_id=8267, advertiser_id=2413, uuid='10005a0add15f6', document_id=2135921, platform='2', geo_location='US>IL', country='US', state='IL', dma='', timestamp=379230128, day_of_week=7, hour=13, viewed_documents='2135921', cnt_viewed_documents=1)"
            ]
          },
          "execution_count": 379,
          "metadata": {},
          "output_type": "execute_result"
        }
      ],
      "source": [
        "example = df_train.first()\n",
        "example"
      ]
    },
    {
      "cell_type": "code",
      "execution_count": null,
      "metadata": {
        "id": "pXt6HDK0A8eV",
        "outputId": "d39552d5-7b38-4419-8d47-38cc9c8276a6"
      },
      "outputs": [
        {
          "name": "stdout",
          "output_type": "stream",
          "text": [
            "379230128 7 13\n"
          ]
        },
        {
          "data": {
            "text/plain": [
              "'1 |a 5686397 |b 61941 |c 1017869 |d 8267 |e 2413 |f 2135921 |g 2 |h US |i IL |j  |k 10005a0add15f6 |l US>IL |m timestamp:379230128 |n 7 |o 13 |p 2135921 |q cnt_viewed_documents:1'"
            ]
          },
          "execution_count": 380,
          "metadata": {},
          "output_type": "execute_result"
        }
      ],
      "source": [
        "convert_to_vw_train(example)"
      ]
    },
    {
      "cell_type": "code",
      "execution_count": null,
      "metadata": {
        "id": "3x_F8gNTA8eV",
        "outputId": "3a629ded-1901-4dc8-ff5c-23865ff479a6"
      },
      "outputs": [
        {
          "data": {
            "text/plain": [
              "'1 |a 5686397 |b 61941 |c 1017869 |d 8267 |e 2413 |f 2135921 |g 2 |h US |i IL |j  |k 10005a0add15f6 |l US>IL |m timestamp:379230128 |n 7 |o 13 |p 2135921 |q cnt_viewed_documents:1'"
            ]
          },
          "execution_count": 381,
          "metadata": {},
          "output_type": "execute_result"
        }
      ],
      "source": [
        "convert_to_vw_test(example)"
      ]
    },
    {
      "cell_type": "code",
      "execution_count": null,
      "metadata": {
        "id": "N1VyHLJ6A8eV",
        "outputId": "4daf7eb8-0d59-4f65-b502-633bb86232e0"
      },
      "outputs": [
        {
          "name": "stdout",
          "output_type": "stream",
          "text": [
            "Deleted /user/outbrain-click-prediction/vw/train.vw\r\n"
          ]
        }
      ],
      "source": [
        "!hdfs dfs -rm -f -r /user/outbrain-click-prediction/vw/train.vw"
      ]
    },
    {
      "cell_type": "code",
      "execution_count": null,
      "metadata": {
        "id": "cbHKqOTkA8eV"
      },
      "outputs": [],
      "source": [
        "df_train.rdd.map(convert_to_vw_train).saveAsTextFile('/user/outbrain-click-prediction/vw/train.vw')\n",
        "# df_val.rdd.map(convert_to_vw_train).saveAsTextFile('/user/outbrain-click-prediction/vw/val.vw')"
      ]
    },
    {
      "cell_type": "code",
      "execution_count": null,
      "metadata": {
        "id": "EPt_6XM_A8eV",
        "outputId": "1ec08223-56d9-4fb4-d99e-4641ff709016"
      },
      "outputs": [
        {
          "name": "stdout",
          "output_type": "stream",
          "text": [
            "Deleted /user/outbrain-click-prediction/vw/test.vw\r\n"
          ]
        }
      ],
      "source": [
        "!hdfs dfs -rm -f -r /user/outbrain-click-prediction/vw/test.vw"
      ]
    },
    {
      "cell_type": "code",
      "execution_count": null,
      "metadata": {
        "id": "9ru2vO3mA8eW"
      },
      "outputs": [],
      "source": [
        "df_test.rdd.map(convert_to_vw_test).saveAsTextFile('/user/outbrain-click-prediction/vw/test.vw')"
      ]
    },
    {
      "cell_type": "code",
      "execution_count": null,
      "metadata": {
        "id": "bVWjySa5A8eW"
      },
      "outputs": [],
      "source": [
        "! hdfs dfs -cat /user/outbrain-click-prediction/vw/train.vw/* > outbrain_train.vw\n",
        "# ! hdfs dfs -cat /user/outbrain-click-prediction/vw/val.vw/* > outbrain_val.vw"
      ]
    },
    {
      "cell_type": "code",
      "execution_count": null,
      "metadata": {
        "id": "WAIFAWlTA8eW"
      },
      "outputs": [],
      "source": [
        "! hdfs dfs -cat /user/outbrain-click-prediction/vw/test.vw/* > outbrain_test.vw"
      ]
    },
    {
      "cell_type": "code",
      "execution_count": null,
      "metadata": {
        "id": "ZC0O_ywXA8eW",
        "outputId": "b51c58e7-4036-4250-9c1d-bb45e0aeec9b"
      },
      "outputs": [
        {
          "name": "stdout",
          "output_type": "stream",
          "text": [
            "1 |a 5686397 |b 61941 |c 1017869 |d 8267 |e 2413 |f 2135921 |g 2 |h US |i IL |j  |k 10005a0add15f6 |l US>IL |m timestamp:379230128 |n 7 |o 13 |p 2135921 |q cnt_viewed_documents:1\r\n",
            "-1 |a 5686397 |b 174547 |c 1439845 |d 21331 |e 2151 |f 2135921 |g 2 |h US |i IL |j  |k 10005a0add15f6 |l US>IL |m timestamp:379230128 |n 7 |o 13 |p 2135921 |q cnt_viewed_documents:1\r\n",
            "-1 |a 7188489 |b 198594 |c 850547 |d 23173 |e 1955 |f 17491 |g 2 |h US |i NY |j 501 |k 100134f49b890b |l US>NY>501 |m timestamp:493623162 |n 1 |o 21 |p 17491 |q cnt_viewed_documents:1\r\n",
            "-1 |a 7188489 |b 258127 |c 1129399 |d 21159 |e 3425 |f 17491 |g 2 |h US |i NY |j 501 |k 100134f49b890b |l US>NY>501 |m timestamp:493623162 |n 1 |o 21 |p 17491 |q cnt_viewed_documents:1\r\n",
            "1 |a 7188489 |b 280410 |c 1672654 |d 27607 |e 522 |f 17491 |g 2 |h US |i NY |j 501 |k 100134f49b890b |l US>NY>501 |m timestamp:493623162 |n 1 |o 21 |p 17491 |q cnt_viewed_documents:1\r\n",
            "-1 |a 7188489 |b 450855 |c 1280592 |d 77 |e 53 |f 17491 |g 2 |h US |i NY |j 501 |k 100134f49b890b |l US>NY>501 |m timestamp:493623162 |n 1 |o 21 |p 17491 |q cnt_viewed_documents:1\r\n",
            "-1 |a 9819835 |b 130952 |c 1286844 |d 16563 |e 131 |f 26699 |g 2 |h US |i NC |j 560 |k 100280ea1f513d |l US>NC>560 |m timestamp:660073832 |n 3 |o 19 |p 512610 2003715 26699 |q cnt_viewed_documents:3\r\n",
            "1 |a 9819835 |b 242774 |c 1576085 |d 25927 |e 3570 |f 26699 |g 2 |h US |i NC |j 560 |k 100280ea1f513d |l US>NC>560 |m timestamp:660073832 |n 3 |o 19 |p 512610 2003715 26699 |q cnt_viewed_documents:3\r\n",
            "-1 |a 9819835 |b 359443 |c 1829138 |d 29655 |e 3980 |f 26699 |g 2 |h US |i NC |j 560 |k 100280ea1f513d |l US>NC>560 |m timestamp:660073832 |n 3 |o 19 |p 512610 2003715 26699 |q cnt_viewed_documents:3\r\n",
            "-1 |a 9819835 |b 383436 |c 1387594 |d 21143 |e 2876 |f 26699 |g 2 |h US |i NC |j 560 |k 100280ea1f513d |l US>NC>560 |m timestamp:660073832 |n 3 |o 19 |p 512610 2003715 26699 |q cnt_viewed_documents:3\r\n"
          ]
        }
      ],
      "source": [
        "! head outbrain_train.vw"
      ]
    },
    {
      "cell_type": "code",
      "execution_count": null,
      "metadata": {
        "id": "m--wqXgAA8eW",
        "outputId": "2fca6f65-fc97-4a94-e4db-b941321a772a"
      },
      "outputs": [
        {
          "name": "stdout",
          "output_type": "stream",
          "text": [
            "1 |a 19699080 |b 115739 |c 931995 |d 14875 |e 2927 |f 2600023 |g 2 |h US |i CA |j 807 |k 10027eb4edc080 |l US>CA>807 |m timestamp:1070965379 |n 1 |o 13 |p 2918991 2600023 1517493 |q cnt_viewed_documents:3\r\n",
            "1 |a 19699080 |b 131410 |c 1272015 |d 16861 |e 3049 |f 2600023 |g 2 |h US |i CA |j 807 |k 10027eb4edc080 |l US>CA>807 |m timestamp:1070965379 |n 1 |o 13 |p 2918991 2600023 1517493 |q cnt_viewed_documents:3\r\n",
            "1 |a 19699080 |b 137287 |c 1143325 |d 17639 |e 2807 |f 2600023 |g 2 |h US |i CA |j 807 |k 10027eb4edc080 |l US>CA>807 |m timestamp:1070965379 |n 1 |o 13 |p 2918991 2600023 1517493 |q cnt_viewed_documents:3\r\n",
            "1 |a 19699080 |b 508614 |c 2513363 |d 17873 |e 176 |f 2600023 |g 2 |h US |i CA |j 807 |k 10027eb4edc080 |l US>CA>807 |m timestamp:1070965379 |n 1 |o 13 |p 2918991 2600023 1517493 |q cnt_viewed_documents:3\r\n",
            "1 |a 19699080 |b 516612 |c 2565239 |d 33488 |e 3464 |f 2600023 |g 2 |h US |i CA |j 807 |k 10027eb4edc080 |l US>CA>807 |m timestamp:1070965379 |n 1 |o 13 |p 2918991 2600023 1517493 |q cnt_viewed_documents:3\r\n",
            "1 |a 18696018 |b 82377 |c 1063364 |d 10792 |e 210 |f 2446821 |g 1 |h US |i NY |j 514 |k 100373454e99f7 |l US>NY>514 |m timestamp:687705368 |n 4 |o 3 |p 2831520 86256 2260827 2269441 2242315 2214636 2214791 2242369 2214699 2254612 2213239 2269524 2660718 2214359 2450746 2086154 2090949 2214076 2733365 2555045 2843275 2085850 2831520 2085954 2886508 2450953 2450634 86256 2242145 2242220 257628 2640664 2647848 2554971 86256 1241470 257628 257628 86256 257628 86256 2214269 2843408 2450774 2640504 2451261 1143672 2242326 2242306 257628 257628 86256 2269297 2450647 2214622 2214466 2085748 257628 2713234 2713421 2639116 257628 2886263 86256 86256 2214198 2214189 86256 257628 2225086 257628 2085625 2450865 420219 2446821 86256 2468963 2449532 2455710 |q cnt_viewed_documents:79\r\n",
            "1 |a 18696018 |b 147548 |c 1227536 |d 18763 |e 1309 |f 2446821 |g 1 |h US |i NY |j 514 |k 100373454e99f7 |l US>NY>514 |m timestamp:687705368 |n 4 |o 3 |p 2831520 86256 2260827 2269441 2242315 2214636 2214791 2242369 2214699 2254612 2213239 2269524 2660718 2214359 2450746 2086154 2090949 2214076 2733365 2555045 2843275 2085850 2831520 2085954 2886508 2450953 2450634 86256 2242145 2242220 257628 2640664 2647848 2554971 86256 1241470 257628 257628 86256 257628 86256 2214269 2843408 2450774 2640504 2451261 1143672 2242326 2242306 257628 257628 86256 2269297 2450647 2214622 2214466 2085748 257628 2713234 2713421 2639116 257628 2886263 86256 86256 2214198 2214189 86256 257628 2225086 257628 2085625 2450865 420219 2446821 86256 2468963 2449532 2455710 |q cnt_viewed_documents:79\r\n",
            "1 |a 18696018 |b 195292 |c 1108820 |d 22893 |e 2690 |f 2446821 |g 1 |h US |i NY |j 514 |k 100373454e99f7 |l US>NY>514 |m timestamp:687705368 |n 4 |o 3 |p 2831520 86256 2260827 2269441 2242315 2214636 2214791 2242369 2214699 2254612 2213239 2269524 2660718 2214359 2450746 2086154 2090949 2214076 2733365 2555045 2843275 2085850 2831520 2085954 2886508 2450953 2450634 86256 2242145 2242220 257628 2640664 2647848 2554971 86256 1241470 257628 257628 86256 257628 86256 2214269 2843408 2450774 2640504 2451261 1143672 2242326 2242306 257628 257628 86256 2269297 2450647 2214622 2214466 2085748 257628 2713234 2713421 2639116 257628 2886263 86256 86256 2214198 2214189 86256 257628 2225086 257628 2085625 2450865 420219 2446821 86256 2468963 2449532 2455710 |q cnt_viewed_documents:79\r\n",
            "1 |a 18696018 |b 246975 |c 1100702 |d 26058 |e 2146 |f 2446821 |g 1 |h US |i NY |j 514 |k 100373454e99f7 |l US>NY>514 |m timestamp:687705368 |n 4 |o 3 |p 2831520 86256 2260827 2269441 2242315 2214636 2214791 2242369 2214699 2254612 2213239 2269524 2660718 2214359 2450746 2086154 2090949 2214076 2733365 2555045 2843275 2085850 2831520 2085954 2886508 2450953 2450634 86256 2242145 2242220 257628 2640664 2647848 2554971 86256 1241470 257628 257628 86256 257628 86256 2214269 2843408 2450774 2640504 2451261 1143672 2242326 2242306 257628 257628 86256 2269297 2450647 2214622 2214466 2085748 257628 2713234 2713421 2639116 257628 2886263 86256 86256 2214198 2214189 86256 257628 2225086 257628 2085625 2450865 420219 2446821 86256 2468963 2449532 2455710 |q cnt_viewed_documents:79\r\n",
            "1 |a 21327580 |b 44460 |c 944343 |d 6200 |e 83 |f 2510293 |g 2 |h CA |i ON |j  |k 1004eaf02aae5c |l CA>ON |m timestamp:1199813358 |n 3 |o 1 |p 1823841 1921353 1950634 2021106 1588338 1837837 2087649 1398946 788984 2292448 1589056 1916705 430025 1880270 1788832 395852 1767047 1969755 1849105 1975307 1949589 2705793 1764591 2510293 2064641 430573 436847 2528982 1199743 1588338 431133 1569669 1096220 421553 1977729 1086476 1096220 2298269 2620790 |q cnt_viewed_documents:39\r\n"
          ]
        }
      ],
      "source": [
        "! head outbrain_test.vw"
      ]
    },
    {
      "cell_type": "markdown",
      "source": [
        "# Model training using Vowpal Wabbit library"
      ],
      "metadata": {
        "id": "MADkuxztBUuQ"
      }
    },
    {
      "cell_type": "markdown",
      "source": [
        "## Experiment 4"
      ],
      "metadata": {
        "id": "v5RJJFJE_R_h"
      }
    },
    {
      "cell_type": "code",
      "execution_count": null,
      "metadata": {
        "id": "zkFXSKcBA8eX",
        "outputId": "5c6750eb-ac19-4fda-fa76-f4471736b025"
      },
      "outputs": [
        {
          "name": "stdout",
          "output_type": "stream",
          "text": [
            "creating quadratic features for pairs: :: \n",
            "creating cubic features for triples: dep \n",
            "WARNING: duplicate namespace interactions were found. Removed: 4278.\n",
            "You can use --leave_duplicate_interactions to disable this behaviour.\n",
            "ignoring namespaces beginning with: m q \n",
            "using l1 regularization = 10\n",
            "final_regressor = outbrain_4.model.bin\n",
            "Enabling FTRL based optimization\n",
            "Algorithm used: Proximal-FTRL\n",
            "ftrl_alpha = 0.05\n",
            "ftrl_beta = 0.5\n",
            "Num weight bits = 28\n",
            "learning rate = 0.5\n",
            "initial_t = 0\n",
            "power_t = 0.5\n",
            "creating cache_file = outbrain_train.vw.cache\n",
            "Reading datafile = outbrain_train.vw\n",
            "num sources = 1\n",
            "average  since         example        example  current  current  current\n",
            "loss     last          counter         weight    label  predict features\n",
            "0.693147 0.693147            1            1.0   1.0000   0.0000      121\n",
            "0.693147 0.693147            2            2.0  -1.0000   0.0000      121\n",
            "0.693147 0.693147            4            4.0  -1.0000   0.0000      137\n",
            "0.693147 0.693147            8            8.0   1.0000   0.0000      174\n",
            "0.693147 0.693147           16           16.0  -1.0000   0.0000      137\n",
            "0.693147 0.693147           32           32.0  -1.0000   0.0000      480\n",
            "0.699717 0.706286           64           64.0   1.0000  -0.1021     1415\n",
            "0.656814 0.613912          128          128.0  -1.0000  -0.6224      174\n",
            "0.605471 0.554127          256          256.0  -1.0000  -0.7661      121\n",
            "0.587200 0.568929          512          512.0   1.0000  -1.3437      194\n",
            "0.544762 0.502324         1024         1024.0  -1.0000  -1.3158      137\n",
            "0.530809 0.516856         2048         2048.0  -1.0000  -0.7818      310\n",
            "0.574505 0.618201         4096         4096.0  -1.0000  -1.5956      449\n",
            "0.542246 0.509986         8192         8192.0  -1.0000  -1.5172      137\n",
            "0.525422 0.508599        16384        16384.0   1.0000  -1.5309      419\n",
            "0.520157 0.514892        32768        32768.0  -1.0000  -1.4363      215\n",
            "0.527748 0.535339        65536        65536.0  -1.0000  -1.3478      155\n",
            "0.516962 0.506176       131072       131072.0  -1.0000  -0.9280      480\n",
            "0.502562 0.488163       262144       262144.0  -1.0000  -3.8405      215\n",
            "0.491547 0.480531       524288       524288.0  -1.0000  -2.9038      215\n",
            "0.482506 0.473465      1048576      1048576.0  -1.0000  -3.1613      137\n",
            "0.473690 0.464875      2097152      2097152.0  -1.0000  -3.6410      237\n",
            "0.466491 0.459292      4194304      4194304.0  -1.0000  -1.3522      155\n",
            "0.458669 0.450847      8388608      8388608.0  -1.0000  -1.9169      155\n",
            "0.450804 0.442939     16777216     16777216.0  -1.0000  -2.2988      121\n",
            "0.443611 0.436419     33554432     33554432.0  -1.0000  -3.7200      194\n",
            "0.437283 0.430955     67108864     67108864.0   1.0000   5.2975      194\n",
            "\n",
            "finished run\n",
            "number of examples = 87141731\n",
            "weighted example sum = 87141731.000000\n",
            "weighted label sum = -53392545.000000\n",
            "average loss = 0.435141\n",
            "best constant = -1.426495\n",
            "best constant's loss = 0.491466\n",
            "total feature number = 53703070155\n",
            "CPU times: user 1min 39s, sys: 16.4 s, total: 1min 55s\n",
            "Wall time: 1h 39min\n"
          ]
        }
      ],
      "source": [
        "%%time\n",
        "\n",
        "! vw --final_regressor outbrain_4.model.bin outbrain_train.vw \\\n",
        "    --loss_function logistic \\\n",
        "    --bit_precision 28 \\\n",
        "    --ftrl --ftrl_alpha 0.05 --ftrl_beta 0.5 \\\n",
        "    --passes 1 \\\n",
        "    --l1 10 --l2 0 \\\n",
        "    --quadratic :: \\\n",
        "    --cubic dep \\\n",
        "    --ignore m --ignore q \\\n",
        "    --cache -k"
      ]
    },
    {
      "cell_type": "code",
      "execution_count": null,
      "metadata": {
        "id": "s8iRUS0EA8eX",
        "outputId": "e27c3176-9753-4af2-a884-012170e0cb86"
      },
      "outputs": [
        {
          "name": "stdout",
          "output_type": "stream",
          "text": [
            "creating quadratic features for pairs: :: \n",
            "creating cubic features for triples: dep \n",
            "WARNING: duplicate namespace interactions were found. Removed: 4278.\n",
            "You can use --leave_duplicate_interactions to disable this behaviour.\n",
            "ignoring namespaces beginning with: m q \n",
            "only testing\n",
            "predictions = outbrain_test_predictions_4.txt\n",
            "Enabling FTRL based optimization\n",
            "Algorithm used: Proximal-FTRL\n",
            "ftrl_alpha = 0.005\n",
            "ftrl_beta = 0.1\n",
            "Num weight bits = 28\n",
            "learning rate = 0.5\n",
            "initial_t = 0\n",
            "power_t = 0.5\n",
            "using no cache\n",
            "Reading datafile = outbrain_test.vw\n",
            "num sources = 1\n",
            "average  since         example        example  current  current  current\n",
            "loss     last          counter         weight    label  predict features\n",
            "6.788429 6.788429            1            1.0   1.0000   0.1672      174\n",
            "7.039639 7.290849            2            2.0   1.0000   0.1544      174\n",
            "8.862558 10.685477            4            4.0   1.0000   0.0510      174\n",
            "32.037350 55.212142            8            8.0   1.0000   0.0286     4544\n",
            "21.094091 10.150832           16           16.0   1.0000   0.2239      309\n",
            "13.473428 5.852765           32           32.0   1.0000   0.2652      106\n",
            "11.802540 10.131652           64           64.0   1.0000   0.1612      106\n",
            "11.040810 10.279080          128          128.0   1.0000   0.0476     1524\n",
            "9.977903 8.914995          256          256.0   1.0000   0.1879      156\n",
            "9.216221 8.454539          512          512.0   1.0000   0.5293      237\n",
            "9.197543 9.178865         1024         1024.0   1.0000   0.0676      764\n",
            "9.135895 9.074246         2048         2048.0   1.0000   0.0166      175\n",
            "9.039191 8.942488         4096         4096.0   1.0000   0.0955      175\n",
            "10.572693 12.106194         8192         8192.0   1.0000   0.1001      175\n",
            "9.825012 9.077331        16384        16384.0   1.0000   0.6133     2540\n",
            "9.595039 9.365067        32768        32768.0   1.0000   0.0482      137\n",
            "9.551886 9.508732        65536        65536.0   1.0000   0.2836      237\n",
            "9.616501 9.681117       131072       131072.0   1.0000   0.0510     1209\n",
            "9.592754 9.569006       262144       262144.0   1.0000   0.0434      174\n",
            "9.771458 9.950163       524288       524288.0   1.0000   0.0713      545\n",
            "9.715158 9.658858      1048576      1048576.0   1.0000   0.1061      121\n",
            "9.593785 9.472411      2097152      2097152.0   1.0000   0.1912      155\n",
            "9.620274 9.646763      4194304      4194304.0   1.0000   0.0460      614\n",
            "9.610885 9.601497      8388608      8388608.0   1.0000   0.3109      194\n",
            "9.576896 9.542907     16777216     16777216.0   1.0000   0.0870      284\n",
            "\n",
            "finished run\n",
            "number of examples = 32225162\n",
            "weighted example sum = 32225162.000000\n",
            "weighted label sum = 32225162.000000\n",
            "average loss = 9.564098\n",
            "best constant = 1.000000\n",
            "best constant's loss = 0.000000\n",
            "total feature number = 18644856817\n",
            "CPU times: user 21.9 s, sys: 3.82 s, total: 25.7 s\n",
            "Wall time: 21min 34s\n"
          ]
        }
      ],
      "source": [
        "%%time\n",
        "\n",
        "! vw outbrain_test.vw \\\n",
        "    --link=logistic \\\n",
        "    --testonly \\\n",
        "    --initial_regressor outbrain_4.model.bin \\\n",
        "    --predictions outbrain_test_predictions_4.txt"
      ]
    },
    {
      "cell_type": "code",
      "execution_count": null,
      "metadata": {
        "id": "vRr7mjVYA8eX"
      },
      "outputs": [],
      "source": [
        "! cat outbrain_test.vw | cut -d' ' -f3,5 > outbrain_test_ids_new.txt"
      ]
    },
    {
      "cell_type": "code",
      "execution_count": null,
      "metadata": {
        "id": "4eRQCyX3A8eX",
        "outputId": "0a47dd89-280d-483b-fe13-08f5382a18c4"
      },
      "outputs": [
        {
          "name": "stderr",
          "output_type": "stream",
          "text": [
            "100%|██████████| 32225162/32225162 [00:07<00:00, 4261263.35it/s]\n",
            "100%|██████████| 32225162/32225162 [00:07<00:00, 4273073.35it/s]\n",
            "100%|██████████| 32225162/32225162 [00:13<00:00, 2303646.39it/s]\n"
          ]
        }
      ],
      "source": [
        "write_test_predictions_as_table('outbrain_test_predictions_4.txt', 'outbrain_test_ids_new.txt', 'outbrain_test_predictions_as_table_4.txt')"
      ]
    },
    {
      "cell_type": "code",
      "execution_count": null,
      "metadata": {
        "id": "-ATb2AefA8eX"
      },
      "outputs": [],
      "source": [
        "write_test_predictions_as_sorted_list('outbrain_test_predictions_as_table_4.txt', 'outbrain_test_predictions_as_sorted_list_4.txt')"
      ]
    },
    {
      "cell_type": "code",
      "execution_count": null,
      "metadata": {
        "id": "rdNzSjBIA8eX",
        "outputId": "7d05d0ac-0bf0-4dda-a1cb-790eba426874"
      },
      "outputs": [
        {
          "name": "stdout",
          "output_type": "stream",
          "text": [
            "Warning: Looks like you're using an outdated API Version, please consider updating (server 1.6.7 / client 1.6.6)\n",
            "100%|████████████████████████████████████████| 260M/260M [00:09<00:00, 29.6MB/s]\n",
            "Successfully submitted to Outbrain Click Prediction"
          ]
        }
      ],
      "source": [
        "!kaggle competitions submit -c outbrain-click-prediction -f outbrain_test_predictions_as_sorted_list_4.txt -m \"4\""
      ]
    },
    {
      "cell_type": "markdown",
      "source": [
        "## Experiment 5"
      ],
      "metadata": {
        "id": "u2WMYztU_W7N"
      }
    },
    {
      "cell_type": "code",
      "execution_count": null,
      "metadata": {
        "id": "vKCSb8uWA8eY",
        "outputId": "a9be09be-0b0b-4f63-d5f8-af9ec684c1ec"
      },
      "outputs": [
        {
          "name": "stdout",
          "output_type": "stream",
          "text": [
            "creating quadratic features for pairs: :: \n",
            "creating cubic features for triples: dep \n",
            "WARNING: duplicate namespace interactions were found. Removed: 4278.\n",
            "You can use --leave_duplicate_interactions to disable this behaviour.\n",
            "ignoring namespaces beginning with: m q \n",
            "using l1 regularization = 10\n",
            "final_regressor = outbrain_5.model.bin\n",
            "Enabling FTRL based optimization\n",
            "Algorithm used: Proximal-FTRL\n",
            "ftrl_alpha = 0.01\n",
            "ftrl_beta = 0.1\n",
            "Num weight bits = 28\n",
            "learning rate = 0.5\n",
            "initial_t = 0\n",
            "power_t = 0.5\n",
            "using cache_file = outbrain_train.vw.cache\n",
            "ignoring text input in favor of cache input\n",
            "num sources = 1\n",
            "average  since         example        example  current  current  current\n",
            "loss     last          counter         weight    label  predict features\n",
            "0.693147 0.693147            1            1.0   1.0000   0.0000      121\n",
            "0.693147 0.693147            2            2.0  -1.0000   0.0000      121\n",
            "0.693147 0.693147            4            4.0  -1.0000   0.0000      137\n",
            "0.693147 0.693147            8            8.0   1.0000   0.0000      174\n",
            "0.693147 0.693147           16           16.0  -1.0000   0.0000      137\n",
            "0.693147 0.693147           32           32.0  -1.0000   0.0000      480\n",
            "0.693374 0.693601           64           64.0   1.0000  -0.0252     1415\n",
            "0.680568 0.667762          128          128.0  -1.0000  -0.1877      174\n",
            "0.655352 0.630136          256          256.0  -1.0000  -0.2900      121\n",
            "0.635656 0.615960          512          512.0   1.0000  -0.6091      194\n",
            "0.588250 0.540844         1024         1024.0  -1.0000  -0.8673      137\n",
            "0.548676 0.509102         2048         2048.0  -1.0000  -0.5846      310\n",
            "0.540724 0.532773         4096         4096.0  -1.0000  -1.5236      449\n",
            "0.521212 0.501699         8192         8192.0  -1.0000  -1.3268      137\n",
            "0.510894 0.500576        16384        16384.0   1.0000  -1.4488      419\n",
            "0.501234 0.491574        32768        32768.0  -1.0000  -1.5514      215\n",
            "0.501073 0.500912        65536        65536.0  -1.0000  -1.4485      155\n",
            "0.491845 0.482617       131072       131072.0  -1.0000  -1.0979      480\n",
            "0.481480 0.471116       262144       262144.0  -1.0000  -3.2835      215\n",
            "0.472616 0.463751       524288       524288.0  -1.0000  -2.3460      215\n",
            "0.464444 0.456272      1048576      1048576.0  -1.0000  -3.1052      137\n",
            "0.457305 0.450167      2097152      2097152.0  -1.0000  -3.2516      237\n",
            "0.450960 0.444615      4194304      4194304.0  -1.0000  -1.2048      155\n",
            "0.444666 0.438371      8388608      8388608.0  -1.0000  -1.8930      155\n",
            "0.438469 0.432273     16777216     16777216.0  -1.0000  -1.9407      121\n",
            "0.432405 0.426341     33554432     33554432.0  -1.0000  -3.6106      194\n",
            "0.426631 0.420857     67108864     67108864.0   1.0000   2.6571      194\n",
            "\n",
            "finished run\n",
            "number of examples = 87141731\n",
            "weighted example sum = 87141731.000000\n",
            "weighted label sum = -53392545.000000\n",
            "average loss = 0.424554\n",
            "best constant = -1.426495\n",
            "best constant's loss = 0.491466\n",
            "total feature number = 53703070155\n",
            "CPU times: user 1min 31s, sys: 15.3 s, total: 1min 47s\n",
            "Wall time: 1h 31min 55s\n"
          ]
        }
      ],
      "source": [
        "%%time\n",
        "\n",
        "! vw --final_regressor outbrain_5.model.bin outbrain_train.vw \\\n",
        "    --loss_function logistic \\\n",
        "    --bit_precision 28 \\\n",
        "    --ftrl --ftrl_alpha 0.01 --ftrl_beta 0.1 \\\n",
        "    --passes 1 \\\n",
        "    --l1 10 --l2 0 \\\n",
        "    --quadratic :: \\\n",
        "    --cubic dep \\\n",
        "    --ignore m --ignore q \\\n",
        "    --cache"
      ]
    },
    {
      "cell_type": "code",
      "execution_count": null,
      "metadata": {
        "id": "rXsgFTRLA8eY",
        "outputId": "db2c8163-f9de-4797-f6d9-aa635e0b15aa"
      },
      "outputs": [
        {
          "name": "stdout",
          "output_type": "stream",
          "text": [
            "creating quadratic features for pairs: :: \n",
            "creating cubic features for triples: dep \n",
            "WARNING: duplicate namespace interactions were found. Removed: 4278.\n",
            "You can use --leave_duplicate_interactions to disable this behaviour.\n",
            "ignoring namespaces beginning with: m q \n",
            "only testing\n",
            "predictions = outbrain_test_predictions_5.txt\n",
            "Enabling FTRL based optimization\n",
            "Algorithm used: Proximal-FTRL\n",
            "ftrl_alpha = 0.005\n",
            "ftrl_beta = 0.1\n",
            "Num weight bits = 28\n",
            "learning rate = 0.5\n",
            "initial_t = 0\n",
            "power_t = 0.5\n",
            "using no cache\n",
            "Reading datafile = outbrain_test.vw\n",
            "num sources = 1\n",
            "average  since         example        example  current  current  current\n",
            "loss     last          counter         weight    label  predict features\n",
            "5.187839 5.187839            1            1.0   1.0000   0.2179      174\n",
            "4.841689 4.495540            2            2.0   1.0000   0.2460      174\n",
            "7.113295 9.384901            4            4.0   1.0000   0.0627      174\n",
            "10.848000 14.582705            8            8.0   1.0000   0.1034     4544\n",
            "9.684070 8.520139           16           16.0   1.0000   0.2138      309\n",
            "7.552181 5.420293           32           32.0   1.0000   0.2468      106\n",
            "8.062231 8.572280           64           64.0   1.0000   0.1811      106\n",
            "8.778432 9.494634          128          128.0   1.0000   0.0775     1524\n",
            "8.485332 8.192231          256          256.0   1.0000   0.1758      156\n",
            "8.107073 7.728815          512          512.0   1.0000   0.3663      237\n",
            "8.235650 8.364227         1024         1024.0   1.0000   0.0672      764\n",
            "8.176364 8.117079         2048         2048.0   1.0000   0.0253      175\n",
            "8.134876 8.093387         4096         4096.0   1.0000   0.1012      175\n",
            "8.340004 8.545133         8192         8192.0   1.0000   0.1064      175\n",
            "8.250807 8.161610        16384        16384.0   1.0000   0.5100     2540\n",
            "8.270226 8.289646        32768        32768.0   1.0000   0.0417      137\n",
            "8.239214 8.208201        65536        65536.0   1.0000   0.3145      237\n",
            "8.354389 8.469564       131072       131072.0   1.0000   0.0574     1209\n",
            "8.332600 8.310811       262144       262144.0   1.0000   0.0462      174\n",
            "8.364292 8.395983       524288       524288.0   1.0000   0.0616      545\n",
            "8.334355 8.304419      1048576      1048576.0   1.0000   0.1250      121\n",
            "8.336443 8.338531      2097152      2097152.0   1.0000   0.2063      155\n",
            "8.313212 8.289980      4194304      4194304.0   1.0000   0.0449      614\n",
            "8.297505 8.281798      8388608      8388608.0   1.0000   0.2782      194\n",
            "8.289137 8.280769     16777216     16777216.0   1.0000   0.0838      284\n",
            "\n",
            "finished run\n",
            "number of examples = 32225162\n",
            "weighted example sum = 32225162.000000\n",
            "weighted label sum = 32225162.000000\n",
            "average loss = 8.281999\n",
            "best constant = 1.000000\n",
            "best constant's loss = 0.000000\n",
            "total feature number = 18644856817\n",
            "CPU times: user 19.2 s, sys: 3.2 s, total: 22.4 s\n",
            "Wall time: 18min 38s\n"
          ]
        }
      ],
      "source": [
        "%%time\n",
        "\n",
        "! vw outbrain_test.vw \\\n",
        "    --link=logistic \\\n",
        "    --testonly \\\n",
        "    --initial_regressor outbrain_5.model.bin \\\n",
        "    --predictions outbrain_test_predictions_5.txt"
      ]
    },
    {
      "cell_type": "code",
      "execution_count": null,
      "metadata": {
        "id": "R5vClRxCA8eY",
        "outputId": "a833e77d-9f02-41b1-c546-6af84f017e2e"
      },
      "outputs": [
        {
          "name": "stderr",
          "output_type": "stream",
          "text": [
            "100%|██████████| 32225162/32225162 [00:07<00:00, 4363855.14it/s]\n",
            "100%|██████████| 32225162/32225162 [00:07<00:00, 4288072.67it/s]\n",
            "100%|██████████| 32225162/32225162 [00:13<00:00, 2468268.27it/s]\n"
          ]
        }
      ],
      "source": [
        "write_test_predictions_as_table('outbrain_test_predictions_5.txt', 'outbrain_test_ids_new.txt', 'outbrain_test_predictions_as_table_5.txt')"
      ]
    },
    {
      "cell_type": "code",
      "execution_count": null,
      "metadata": {
        "id": "PAWfA30uA8eY"
      },
      "outputs": [],
      "source": [
        "write_test_predictions_as_sorted_list('outbrain_test_predictions_as_table_5.txt', 'outbrain_test_predictions_as_sorted_list_5.txt')"
      ]
    },
    {
      "cell_type": "code",
      "execution_count": null,
      "metadata": {
        "id": "VFIenS2lA8eY",
        "outputId": "60e71d37-089f-4286-a127-c1f3c2617556"
      },
      "outputs": [
        {
          "name": "stdout",
          "output_type": "stream",
          "text": [
            "Warning: Looks like you're using an outdated API Version, please consider updating (server 1.6.7 / client 1.6.6)\n",
            "100%|████████████████████████████████████████| 260M/260M [00:08<00:00, 31.1MB/s]\n",
            "Successfully submitted to Outbrain Click Prediction"
          ]
        }
      ],
      "source": [
        "!kaggle competitions submit -c outbrain-click-prediction -f outbrain_test_predictions_as_sorted_list_5.txt -m \"5\""
      ]
    },
    {
      "cell_type": "markdown",
      "source": [
        "## Experiment 6"
      ],
      "metadata": {
        "id": "GwRsGPaU_bJn"
      }
    },
    {
      "cell_type": "code",
      "execution_count": null,
      "metadata": {
        "id": "JX_bocxWA8eY",
        "outputId": "1cb5ad85-14b7-4d60-c877-2537d7c42ab4"
      },
      "outputs": [
        {
          "name": "stdout",
          "output_type": "stream",
          "text": [
            "creating quadratic features for pairs: :: \n",
            "WARNING: duplicate namespace interactions were found. Removed: 4278.\n",
            "You can use --leave_duplicate_interactions to disable this behaviour.\n",
            "ignoring namespaces beginning with: m q \n",
            "using l1 regularization = 10\n",
            "final_regressor = outbrain_6.model.bin\n",
            "Enabling FTRL based optimization\n",
            "Algorithm used: Proximal-FTRL\n",
            "ftrl_alpha = 0.05\n",
            "ftrl_beta = 0.5\n",
            "Num weight bits = 28\n",
            "learning rate = 0.5\n",
            "initial_t = 0\n",
            "power_t = 0.5\n",
            "using cache_file = outbrain_train.vw.cache\n",
            "ignoring text input in favor of cache input\n",
            "num sources = 1\n",
            "average  since         example        example  current  current  current\n",
            "loss     last          counter         weight    label  predict features\n",
            "0.693147 0.693147            1            1.0   1.0000   0.0000      120\n",
            "0.693147 0.693147            2            2.0  -1.0000   0.0000      120\n",
            "0.693147 0.693147            4            4.0  -1.0000   0.0000      136\n",
            "0.693147 0.693147            8            8.0   1.0000   0.0000      171\n",
            "0.693147 0.693147           16           16.0  -1.0000   0.0000      136\n",
            "0.693147 0.693147           32           32.0  -1.0000   0.0000      465\n",
            "0.699717 0.706286           64           64.0   1.0000  -0.1021     1378\n",
            "0.656814 0.613912          128          128.0  -1.0000  -0.6224      171\n",
            "0.605471 0.554127          256          256.0  -1.0000  -0.7661      120\n",
            "0.587200 0.568929          512          512.0   1.0000  -1.3437      190\n",
            "0.544762 0.502324         1024         1024.0  -1.0000  -1.3158      136\n",
            "0.530809 0.516856         2048         2048.0  -1.0000  -0.7818      300\n",
            "0.574505 0.618201         4096         4096.0  -1.0000  -1.5956      435\n",
            "0.542246 0.509986         8192         8192.0  -1.0000  -1.5172      136\n",
            "0.525422 0.508599        16384        16384.0   1.0000  -1.5309      406\n",
            "0.520061 0.514700        32768        32768.0  -1.0000  -1.4354      210\n",
            "0.527848 0.535635        65536        65536.0  -1.0000  -1.3476      153\n",
            "0.517021 0.506194       131072       131072.0  -1.0000  -0.9277      465\n",
            "0.502534 0.488047       262144       262144.0  -1.0000  -3.8424      210\n",
            "0.491554 0.480575       524288       524288.0  -1.0000  -2.9071      210\n",
            "0.482571 0.473587      1048576      1048576.0  -1.0000  -3.1629      136\n",
            "0.473821 0.465070      2097152      2097152.0  -1.0000  -3.6241      231\n",
            "0.466708 0.459595      4194304      4194304.0  -1.0000  -1.3627      153\n",
            "0.458913 0.451119      8388608      8388608.0  -1.0000  -1.9165      153\n",
            "0.451017 0.443121     16777216     16777216.0  -1.0000  -2.2967      120\n",
            "0.443776 0.436535     33554432     33554432.0  -1.0000  -3.7291      190\n",
            "0.437306 0.430837     67108864     67108864.0   1.0000   4.9104      190\n",
            "\n",
            "finished run\n",
            "number of examples = 87141731\n",
            "weighted example sum = 87141731.000000\n",
            "weighted label sum = -53392545.000000\n",
            "average loss = 0.435108\n",
            "best constant = -1.426495\n",
            "best constant's loss = 0.491466\n",
            "total feature number = 52583646854\n",
            "CPU times: user 1min 33s, sys: 15.7 s, total: 1min 49s\n",
            "Wall time: 1h 33min 28s\n"
          ]
        }
      ],
      "source": [
        "%%time\n",
        "\n",
        "! vw --final_regressor outbrain_6.model.bin outbrain_train.vw \\\n",
        "    --loss_function logistic \\\n",
        "    --bit_precision 28 \\\n",
        "    --ftrl --ftrl_alpha 0.05 --ftrl_beta 0.5 \\\n",
        "    --passes 1 \\\n",
        "    --l1 10 --l2 0 \\\n",
        "    --quadratic :: \\\n",
        "    --ignore m --ignore q \\\n",
        "    --cache"
      ]
    },
    {
      "cell_type": "code",
      "execution_count": null,
      "metadata": {
        "id": "cDgu3odUA8eY",
        "outputId": "ed8b50d5-21e8-40f7-e08f-802c23e911ba"
      },
      "outputs": [
        {
          "name": "stdout",
          "output_type": "stream",
          "text": [
            "creating quadratic features for pairs: :: \n",
            "WARNING: duplicate namespace interactions were found. Removed: 4278.\n",
            "You can use --leave_duplicate_interactions to disable this behaviour.\n",
            "ignoring namespaces beginning with: m q \n",
            "only testing\n",
            "predictions = outbrain_test_predictions_6.txt\n",
            "Enabling FTRL based optimization\n",
            "Algorithm used: Proximal-FTRL\n",
            "ftrl_alpha = 0.005\n",
            "ftrl_beta = 0.1\n",
            "Num weight bits = 28\n",
            "learning rate = 0.5\n",
            "initial_t = 0\n",
            "power_t = 0.5\n",
            "using no cache\n",
            "Reading datafile = outbrain_test.vw\n",
            "num sources = 1\n",
            "average  since         example        example  current  current  current\n",
            "loss     last          counter         weight    label  predict features\n",
            "6.481907 6.481907            1            1.0   1.0000   0.1757      171\n",
            "6.655912 6.829917            2            2.0   1.0000   0.1661      171\n",
            "8.443560 10.231208            4            4.0   1.0000   0.0544      171\n",
            "28.769686 49.095811            8            8.0   1.0000   0.0532     4465\n",
            "19.592614 10.415543           16           16.0   1.0000   0.2297      300\n",
            "12.701757 5.810900           32           32.0   1.0000   0.2641      105\n",
            "11.383251 10.064746           64           64.0   1.0000   0.1666      105\n",
            "10.821020 10.258788          128          128.0   1.0000   0.0481     1485\n",
            "9.814703 8.808386          256          256.0   1.0000   0.1842      153\n",
            "9.091802 8.368901          512          512.0   1.0000   0.5237      231\n",
            "9.110595 9.129387         1024         1024.0   1.0000   0.0652      741\n",
            "9.058957 9.007320         2048         2048.0   1.0000   0.0166      171\n",
            "8.990590 8.922223         4096         4096.0   1.0000   0.0961      171\n",
            "10.478524 11.966458         8192         8192.0   1.0000   0.0994      171\n",
            "9.724434 8.970343        16384        16384.0   1.0000   0.5881     2485\n",
            "9.586820 9.449207        32768        32768.0   1.0000   0.0478      136\n",
            "9.371540 9.156260        65536        65536.0   1.0000   0.2871      231\n",
            "9.458491 9.545443       131072       131072.0   1.0000   0.0577     1176\n",
            "9.478073 9.497655       262144       262144.0   1.0000   0.0422      171\n",
            "9.665381 9.852689       524288       524288.0   1.0000   0.0660      528\n",
            "9.589794 9.514208      1048576      1048576.0   1.0000   0.1008      120\n",
            "9.503555 9.417315      2097152      2097152.0   1.0000   0.1906      153\n",
            "9.513935 9.524315      4194304      4194304.0   1.0000   0.0457      595\n",
            "9.508605 9.503276      8388608      8388608.0   1.0000   0.3037      190\n",
            "9.477011 9.445416     16777216     16777216.0   1.0000   0.0847      276\n",
            "\n",
            "finished run\n",
            "number of examples = 32225162\n",
            "weighted example sum = 32225162.000000\n",
            "weighted label sum = 32225162.000000\n",
            "average loss = 9.466766\n",
            "best constant = 1.000000\n",
            "best constant's loss = 0.000000\n",
            "total feature number = 18255570048\n",
            "CPU times: user 21.6 s, sys: 3.67 s, total: 25.3 s\n",
            "Wall time: 20min 47s\n"
          ]
        }
      ],
      "source": [
        "%%time\n",
        "\n",
        "! vw outbrain_test.vw \\\n",
        "    --link=logistic \\\n",
        "    --testonly \\\n",
        "    --initial_regressor outbrain_6.model.bin \\\n",
        "    --predictions outbrain_test_predictions_6.txt"
      ]
    },
    {
      "cell_type": "code",
      "execution_count": null,
      "metadata": {
        "id": "_xtdncE5A8eZ",
        "outputId": "0b04c482-0b8a-4c8a-f13d-fa12bdb3fda2"
      },
      "outputs": [
        {
          "name": "stderr",
          "output_type": "stream",
          "text": [
            "100%|██████████| 32225162/32225162 [00:07<00:00, 4284130.29it/s]\n",
            "100%|██████████| 32225162/32225162 [00:07<00:00, 4219620.68it/s]\n",
            "100%|██████████| 32225162/32225162 [00:13<00:00, 2318420.63it/s]\n"
          ]
        }
      ],
      "source": [
        "write_test_predictions_as_table('outbrain_test_predictions_6.txt', 'outbrain_test_ids_new.txt', 'outbrain_test_predictions_as_table_6.txt')"
      ]
    },
    {
      "cell_type": "code",
      "execution_count": null,
      "metadata": {
        "id": "vV9T95ChA8eZ"
      },
      "outputs": [],
      "source": [
        "write_test_predictions_as_sorted_list('outbrain_test_predictions_as_table_6.txt', 'outbrain_test_predictions_as_sorted_list_6.txt')"
      ]
    },
    {
      "cell_type": "code",
      "execution_count": null,
      "metadata": {
        "id": "8Czte5N9A8eZ",
        "outputId": "1f32a9e8-9805-46a4-d733-2ee05724183d"
      },
      "outputs": [
        {
          "name": "stdout",
          "output_type": "stream",
          "text": [
            "Warning: Looks like you're using an outdated API Version, please consider updating (server 1.6.7 / client 1.6.6)\n",
            "100%|████████████████████████████████████████| 260M/260M [00:09<00:00, 30.3MB/s]\n",
            "Successfully submitted to Outbrain Click Prediction"
          ]
        }
      ],
      "source": [
        "!kaggle competitions submit -c outbrain-click-prediction -f outbrain_test_predictions_as_sorted_list_6.txt -m \"6\""
      ]
    },
    {
      "cell_type": "markdown",
      "source": [
        "## Experiment 7"
      ],
      "metadata": {
        "id": "t8dAO2A2_eqa"
      }
    },
    {
      "cell_type": "code",
      "execution_count": null,
      "metadata": {
        "id": "RD5aUJPtA8eZ",
        "outputId": "7eecc315-b7be-48e2-8998-7a695559151b"
      },
      "outputs": [
        {
          "name": "stdout",
          "output_type": "stream",
          "text": [
            "creating quadratic features for pairs: :: \n",
            "WARNING: duplicate namespace interactions were found. Removed: 4278.\n",
            "You can use --leave_duplicate_interactions to disable this behaviour.\n",
            "ignoring namespaces beginning with: m q \n",
            "using l1 regularization = 10\n",
            "final_regressor = outbrain_7.model.bin\n",
            "Enabling FTRL based optimization\n",
            "Algorithm used: Proximal-FTRL\n",
            "ftrl_alpha = 0.01\n",
            "ftrl_beta = 0.1\n",
            "Num weight bits = 28\n",
            "learning rate = 0.5\n",
            "initial_t = 0\n",
            "power_t = 0.5\n",
            "using cache_file = outbrain_train.vw.cache\n",
            "ignoring text input in favor of cache input\n",
            "num sources = 1\n",
            "average  since         example        example  current  current  current\n",
            "loss     last          counter         weight    label  predict features\n",
            "0.693147 0.693147            1            1.0   1.0000   0.0000      120\n",
            "0.693147 0.693147            2            2.0  -1.0000   0.0000      120\n",
            "0.693147 0.693147            4            4.0  -1.0000   0.0000      136\n",
            "0.693147 0.693147            8            8.0   1.0000   0.0000      171\n",
            "0.693147 0.693147           16           16.0  -1.0000   0.0000      136\n",
            "0.693147 0.693147           32           32.0  -1.0000   0.0000      465\n",
            "0.693374 0.693601           64           64.0   1.0000  -0.0252     1378\n",
            "0.680568 0.667762          128          128.0  -1.0000  -0.1877      171\n",
            "0.655352 0.630136          256          256.0  -1.0000  -0.2900      120\n",
            "0.635656 0.615960          512          512.0   1.0000  -0.6091      190\n",
            "0.588250 0.540844         1024         1024.0  -1.0000  -0.8673      136\n",
            "0.548676 0.509102         2048         2048.0  -1.0000  -0.5846      300\n",
            "0.540724 0.532773         4096         4096.0  -1.0000  -1.5236      435\n",
            "0.521212 0.501699         8192         8192.0  -1.0000  -1.3268      136\n",
            "0.510894 0.500576        16384        16384.0   1.0000  -1.4488      406\n",
            "0.501229 0.491565        32768        32768.0  -1.0000  -1.5513      210\n",
            "0.501175 0.501120        65536        65536.0  -1.0000  -1.4484      153\n",
            "0.491914 0.482654       131072       131072.0  -1.0000  -1.0978      465\n",
            "0.481551 0.471189       262144       262144.0  -1.0000  -3.2833      210\n",
            "0.472734 0.463916       524288       524288.0  -1.0000  -2.3455      210\n",
            "0.464666 0.456598      1048576      1048576.0  -1.0000  -3.1051      136\n",
            "0.457620 0.450574      2097152      2097152.0  -1.0000  -3.2511      231\n",
            "0.451474 0.445328      4194304      4194304.0  -1.0000  -1.2038      153\n",
            "0.445374 0.439274      8388608      8388608.0  -1.0000  -1.8889      153\n",
            "0.439343 0.433311     16777216     16777216.0  -1.0000  -1.9402      120\n",
            "0.433410 0.427478     33554432     33554432.0  -1.0000  -3.6312      190\n",
            "0.427690 0.421969     67108864     67108864.0   1.0000   2.3777      190\n",
            "\n",
            "finished run\n",
            "number of examples = 87141731\n",
            "weighted example sum = 87141731.000000\n",
            "weighted label sum = -53392545.000000\n",
            "average loss = 0.425610\n",
            "best constant = -1.426495\n",
            "best constant's loss = 0.491466\n",
            "total feature number = 52583646854\n",
            "CPU times: user 1min 35s, sys: 15.9 s, total: 1min 51s\n",
            "Wall time: 1h 34min 25s\n"
          ]
        }
      ],
      "source": [
        "%%time\n",
        "\n",
        "! vw --final_regressor outbrain_7.model.bin outbrain_train.vw \\\n",
        "    --loss_function logistic \\\n",
        "    --bit_precision 28 \\\n",
        "    --ftrl --ftrl_alpha 0.01 --ftrl_beta 0.1 \\\n",
        "    --passes 1 \\\n",
        "    --l1 10 --l2 0 \\\n",
        "    --quadratic :: \\\n",
        "    --ignore m --ignore q \\\n",
        "    --cache"
      ]
    },
    {
      "cell_type": "code",
      "execution_count": null,
      "metadata": {
        "id": "kmkT6b2MA8eZ",
        "outputId": "ae7624c1-8916-4cd4-b910-adfa3275dc1b"
      },
      "outputs": [
        {
          "name": "stdout",
          "output_type": "stream",
          "text": [
            "creating quadratic features for pairs: :: \n",
            "WARNING: duplicate namespace interactions were found. Removed: 4278.\n",
            "You can use --leave_duplicate_interactions to disable this behaviour.\n",
            "ignoring namespaces beginning with: m q \n",
            "only testing\n",
            "predictions = outbrain_test_predictions_7.txt\n",
            "Enabling FTRL based optimization\n",
            "Algorithm used: Proximal-FTRL\n",
            "ftrl_alpha = 0.005\n",
            "ftrl_beta = 0.1\n",
            "Num weight bits = 28\n",
            "learning rate = 0.5\n",
            "initial_t = 0\n",
            "power_t = 0.5\n",
            "using no cache\n",
            "Reading datafile = outbrain_test.vw\n",
            "num sources = 1\n",
            "average  since         example        example  current  current  current\n",
            "loss     last          counter         weight    label  predict features\n",
            "5.287985 5.287985            1            1.0   1.0000   0.2142      171\n",
            "4.878045 4.468104            2            2.0   1.0000   0.2472      171\n",
            "7.145470 9.412895            4            4.0   1.0000   0.0624      171\n",
            "10.277657 13.409843            8            8.0   1.0000   0.1219     4465\n",
            "9.323302 8.368948           16           16.0   1.0000   0.2182      300\n",
            "7.357771 5.392241           32           32.0   1.0000   0.2466      105\n",
            "7.921456 8.485140           64           64.0   1.0000   0.1810      105\n",
            "8.676918 9.432381          128          128.0   1.0000   0.0772     1485\n",
            "8.367791 8.058664          256          256.0   1.0000   0.1754      153\n",
            "8.001196 7.634600          512          512.0   1.0000   0.3696      231\n",
            "8.153388 8.305580         1024         1024.0   1.0000   0.0655      741\n",
            "8.115588 8.077789         2048         2048.0   1.0000   0.0254      171\n",
            "8.081794 8.048000         4096         4096.0   1.0000   0.1020      171\n",
            "8.300815 8.519837         8192         8192.0   1.0000   0.1077      171\n",
            "8.204502 8.108189        16384        16384.0   1.0000   0.4917     2485\n",
            "8.222029 8.239555        32768        32768.0   1.0000   0.0416      136\n",
            "8.188314 8.154598        65536        65536.0   1.0000   0.3249      231\n",
            "8.311414 8.434514       131072       131072.0   1.0000   0.0601     1176\n",
            "8.284200 8.256985       262144       262144.0   1.0000   0.0458      171\n",
            "8.311484 8.338769       524288       524288.0   1.0000   0.0606      528\n",
            "8.280206 8.248928      1048576      1048576.0   1.0000   0.1243      120\n",
            "8.267863 8.255520      2097152      2097152.0   1.0000   0.2066      153\n",
            "8.251164 8.234465      4194304      4194304.0   1.0000   0.0428      595\n",
            "8.235959 8.220754      8388608      8388608.0   1.0000   0.2769      190\n",
            "8.228476 8.220993     16777216     16777216.0   1.0000   0.0814      276\n",
            "\n",
            "finished run\n",
            "number of examples = 32225162\n",
            "weighted example sum = 32225162.000000\n",
            "weighted label sum = 32225162.000000\n",
            "average loss = 8.224932\n",
            "best constant = 1.000000\n",
            "best constant's loss = 0.000000\n",
            "total feature number = 18255570048\n",
            "CPU times: user 19.4 s, sys: 3.19 s, total: 22.6 s\n",
            "Wall time: 18min 49s\n"
          ]
        }
      ],
      "source": [
        "%%time\n",
        "\n",
        "! vw outbrain_test.vw \\\n",
        "    --link=logistic \\\n",
        "    --testonly \\\n",
        "    --initial_regressor outbrain_7.model.bin \\\n",
        "    --predictions outbrain_test_predictions_7.txt"
      ]
    },
    {
      "cell_type": "code",
      "execution_count": null,
      "metadata": {
        "id": "I5DdELVZA8eZ",
        "outputId": "ab88f5bd-8c89-40ad-ef9a-f2ccafeb11b4"
      },
      "outputs": [
        {
          "name": "stderr",
          "output_type": "stream",
          "text": [
            "100%|██████████| 32225162/32225162 [00:07<00:00, 4368413.66it/s]\n",
            "100%|██████████| 32225162/32225162 [00:07<00:00, 4272102.95it/s]\n",
            "100%|██████████| 32225162/32225162 [00:14<00:00, 2207716.06it/s]\n"
          ]
        }
      ],
      "source": [
        "write_test_predictions_as_table('outbrain_test_predictions_7.txt', 'outbrain_test_ids_new.txt', 'outbrain_test_predictions_as_table_7.txt')"
      ]
    },
    {
      "cell_type": "code",
      "execution_count": null,
      "metadata": {
        "id": "TnFIQ757A8ea"
      },
      "outputs": [],
      "source": [
        "write_test_predictions_as_sorted_list('outbrain_test_predictions_as_table_7.txt', 'outbrain_test_predictions_as_sorted_list_7.txt')"
      ]
    },
    {
      "cell_type": "code",
      "execution_count": null,
      "metadata": {
        "id": "kiZi5UHrA8ea",
        "outputId": "f6201508-c39c-4a63-e59e-be2a91ae4a34"
      },
      "outputs": [
        {
          "name": "stdout",
          "output_type": "stream",
          "text": [
            "Warning: Looks like you're using an outdated API Version, please consider updating (server 1.6.7 / client 1.6.6)\n",
            "100%|████████████████████████████████████████| 260M/260M [00:08<00:00, 31.3MB/s]\n",
            "Successfully submitted to Outbrain Click Prediction"
          ]
        }
      ],
      "source": [
        "!kaggle competitions submit -c outbrain-click-prediction -f outbrain_test_predictions_as_sorted_list_7.txt -m \"7\""
      ]
    },
    {
      "cell_type": "markdown",
      "source": [
        "## Experiment 8"
      ],
      "metadata": {
        "id": "mhCewChF_iOv"
      }
    },
    {
      "cell_type": "code",
      "execution_count": null,
      "metadata": {
        "id": "_Wp5ptZwA8ea",
        "outputId": "421682c0-828b-4715-a7ce-46539777df30"
      },
      "outputs": [
        {
          "name": "stdout",
          "output_type": "stream",
          "text": [
            "creating quadratic features for pairs: :: \n",
            "WARNING: duplicate namespace interactions were found. Removed: 4278.\n",
            "You can use --leave_duplicate_interactions to disable this behaviour.\n",
            "ignoring namespaces beginning with: m q \n",
            "using l1 regularization = 1\n",
            "final_regressor = outbrain_8.model.bin\n",
            "Enabling FTRL based optimization\n",
            "Algorithm used: Proximal-FTRL\n",
            "ftrl_alpha = 0.05\n",
            "ftrl_beta = 0.5\n",
            "Num weight bits = 28\n",
            "learning rate = 0.5\n",
            "initial_t = 0\n",
            "power_t = 0.5\n",
            "using cache_file = outbrain_train.vw.cache\n",
            "ignoring text input in favor of cache input\n",
            "num sources = 1\n",
            "average  since         example        example  current  current  current\n",
            "loss     last          counter         weight    label  predict features\n",
            "0.693147 0.693147            1            1.0   1.0000   0.0000      120\n",
            "0.693147 0.693147            2            2.0  -1.0000   0.0000      120\n",
            "0.693147 0.693147            4            4.0  -1.0000   0.0000      136\n",
            "0.698396 0.703645            8            8.0   1.0000  -0.0823      171\n",
            "0.724496 0.750597           16           16.0  -1.0000  -0.2507      136\n",
            "0.746637 0.768777           32           32.0  -1.0000  -0.4494      465\n",
            "0.941231 1.135824           64           64.0   1.0000  -0.4887     1378\n",
            "0.767719 0.594207          128          128.0  -1.0000  -0.9937      171\n",
            "0.687492 0.607265          256          256.0  -1.0000  -0.8188      120\n",
            "1.249458 1.811424          512          512.0   1.0000  -1.2979      190\n",
            "0.944077 0.638695         1024         1024.0  -1.0000  -1.3530      136\n",
            "0.853832 0.763587         2048         2048.0  -1.0000  -0.9279      300\n",
            "0.893301 0.932770         4096         4096.0  -1.0000  -2.2468      435\n",
            "0.781273 0.669246         8192         8192.0  -1.0000  -1.4290      136\n",
            "0.731076 0.680878        16384        16384.0   1.0000  -1.5129      406\n",
            "0.702072 0.673067        32768        32768.0  -1.0000  -1.0776      210\n",
            "0.714333 0.726595        65536        65536.0  -1.0000  -1.6970      153\n",
            "0.716270 0.718207       131072       131072.0  -1.0000  -0.7413      465\n",
            "0.701893 0.687516       262144       262144.0  -1.0000  -4.0420      210\n",
            "0.688559 0.675225       524288       524288.0  -1.0000  -3.2491      210\n",
            "0.683922 0.679286      1048576      1048576.0  -1.0000  -3.1495      136\n",
            "0.683772 0.683621      2097152      2097152.0  -1.0000  -4.2655      231\n",
            "0.691470 0.699168      4194304      4194304.0  -1.0000  -0.7588      153\n",
            "0.699677 0.707884      8388608      8388608.0  -1.0000  -1.8665      153\n",
            "0.705734 0.711791     16777216     16777216.0  -1.0000  -2.1314      120\n",
            "0.702375 0.699017     33554432     33554432.0  -1.0000  -4.5485      190\n",
            "0.683697 0.665019     67108864     67108864.0   1.0000   5.4776      190\n",
            "\n",
            "finished run\n",
            "number of examples = 87141731\n",
            "weighted example sum = 87141731.000000\n",
            "weighted label sum = -53392545.000000\n",
            "average loss = 0.672452\n",
            "best constant = -1.426495\n",
            "best constant's loss = 0.491466\n",
            "total feature number = 52583646854\n",
            "CPU times: user 1min 40s, sys: 17 s, total: 1min 57s\n",
            "Wall time: 1h 42min 5s\n"
          ]
        }
      ],
      "source": [
        "%%time\n",
        "\n",
        "! vw --final_regressor outbrain_8.model.bin outbrain_train.vw \\\n",
        "    --loss_function logistic \\\n",
        "    --bit_precision 28 \\\n",
        "    --ftrl --ftrl_alpha 0.05 --ftrl_beta 0.5 \\\n",
        "    --passes 1 \\\n",
        "    --l1 1 \\\n",
        "    --quadratic :: \\\n",
        "    --ignore m --ignore q \\\n",
        "    --cache"
      ]
    },
    {
      "cell_type": "code",
      "execution_count": null,
      "metadata": {
        "id": "X9cFzCBCA8ea",
        "outputId": "b91e23b4-e593-4b2c-c0de-cb9aa196afff"
      },
      "outputs": [
        {
          "name": "stdout",
          "output_type": "stream",
          "text": [
            "creating quadratic features for pairs: :: \n",
            "WARNING: duplicate namespace interactions were found. Removed: 4278.\n",
            "You can use --leave_duplicate_interactions to disable this behaviour.\n",
            "ignoring namespaces beginning with: m q \n",
            "only testing\n",
            "predictions = outbrain_test_predictions_8.txt\n",
            "Enabling FTRL based optimization\n",
            "Algorithm used: Proximal-FTRL\n",
            "ftrl_alpha = 0.005\n",
            "ftrl_beta = 0.1\n",
            "Num weight bits = 28\n",
            "learning rate = 0.5\n",
            "initial_t = 0\n",
            "power_t = 0.5\n",
            "using no cache\n",
            "Reading datafile = outbrain_test.vw\n",
            "num sources = 1\n",
            "average  since         example        example  current  current  current\n",
            "loss     last          counter         weight    label  predict features\n",
            "6.306329 6.306329            1            1.0   1.0000   0.1808      171\n",
            "7.194345 8.082362            2            2.0   1.0000   0.1367      171\n",
            "9.303026 11.411706            4            4.0   1.0000   0.0431      171\n",
            "122.809522 236.316019            8            8.0   1.0000   0.0000     4465\n",
            "69.398231 15.986941           16           16.0   1.0000   0.2110      300\n",
            "37.357821 5.317410           32           32.0   1.0000   0.2831      105\n",
            "25.120396 12.882972           64           64.0   1.0000   0.2943      105\n",
            "19.075719 13.031042          128          128.0   1.0000   0.0117     1485\n",
            "21.010432 22.945144          256          256.0   1.0000   0.2564      153\n",
            "16.645560 12.280688          512          512.0   1.0000   0.5830      231\n",
            "19.475264 22.304969         1024         1024.0   1.0000   0.0050      741\n",
            "20.847043 22.218821         2048         2048.0   1.0000   0.0146      171\n",
            "17.994114 15.141186         4096         4096.0   1.0000   0.0629      171\n",
            "25.482673 32.971233         8192         8192.0   1.0000   0.0733      171\n",
            "20.603606 15.724538        16384        16384.0   1.0000   0.7275     2485\n",
            "19.598993 18.594380        32768        32768.0   1.0000   0.0575      136\n",
            "20.744832 21.890671        65536        65536.0   1.0000   0.2096      231\n",
            "20.235252 19.725671       131072       131072.0   1.0000   0.0035     1176\n",
            "19.982876 19.730501       262144       262144.0   1.0000   0.0394      171\n",
            "20.664369 21.345862       524288       524288.0   1.0000   0.0768      528\n",
            "21.356127 22.047885      1048576      1048576.0   1.0000   0.0990      120\n",
            "21.284711 21.213295      2097152      2097152.0   1.0000   0.2724      153\n",
            "20.958527 20.632343      4194304      4194304.0   1.0000   0.0022      595\n",
            "20.662893 20.367259      8388608      8388608.0   1.0000   0.4124      190\n",
            "20.287358 19.911823     16777216     16777216.0   1.0000   0.0899      276\n",
            "\n",
            "finished run\n",
            "number of examples = 32225162\n",
            "weighted example sum = 32225162.000000\n",
            "weighted label sum = 32225162.000000\n",
            "average loss = 20.012510\n",
            "best constant = 1.000000\n",
            "best constant's loss = 0.000000\n",
            "total feature number = 18255570048\n",
            "CPU times: user 20.9 s, sys: 3.58 s, total: 24.4 s\n",
            "Wall time: 20min 26s\n"
          ]
        }
      ],
      "source": [
        "%%time\n",
        "\n",
        "! vw outbrain_test.vw \\\n",
        "    --link=logistic \\\n",
        "    --testonly \\\n",
        "    --initial_regressor outbrain_8.model.bin \\\n",
        "    --predictions outbrain_test_predictions_8.txt"
      ]
    },
    {
      "cell_type": "code",
      "execution_count": null,
      "metadata": {
        "id": "9rF8pZmtA8ea",
        "outputId": "2eb29bee-13a1-4cd0-a286-5df07d1b267a"
      },
      "outputs": [
        {
          "name": "stderr",
          "output_type": "stream",
          "text": [
            "100%|██████████| 32225162/32225162 [00:07<00:00, 4315420.54it/s]\n",
            "100%|██████████| 32225162/32225162 [00:07<00:00, 4239099.58it/s]\n",
            "100%|██████████| 32225162/32225162 [00:14<00:00, 2291289.05it/s]\n"
          ]
        }
      ],
      "source": [
        "write_test_predictions_as_table('outbrain_test_predictions_8.txt', 'outbrain_test_ids_new.txt', 'outbrain_test_predictions_as_table_8.txt')"
      ]
    },
    {
      "cell_type": "code",
      "execution_count": null,
      "metadata": {
        "id": "_BNSqO3LA8ea"
      },
      "outputs": [],
      "source": [
        "write_test_predictions_as_sorted_list('outbrain_test_predictions_as_table_8.txt', 'outbrain_test_predictions_as_sorted_list_8.txt')"
      ]
    },
    {
      "cell_type": "code",
      "execution_count": null,
      "metadata": {
        "id": "BixnvgwrA8ea",
        "outputId": "18aaf57e-b47c-49fc-a595-b4d120709dc3"
      },
      "outputs": [
        {
          "name": "stdout",
          "output_type": "stream",
          "text": [
            "Warning: Looks like you're using an outdated API Version, please consider updating (server 1.6.7 / client 1.6.6)\n",
            "100%|████████████████████████████████████████| 260M/260M [00:08<00:00, 31.6MB/s]\n",
            "Successfully submitted to Outbrain Click Prediction"
          ]
        }
      ],
      "source": [
        "!kaggle competitions submit -c outbrain-click-prediction -f outbrain_test_predictions_as_sorted_list_8.txt -m \"8\""
      ]
    },
    {
      "cell_type": "markdown",
      "metadata": {
        "id": "t71Bh38mA8eb"
      },
      "source": [
        "\n",
        "The best model achieves a score of **0.679** on the test dataset, ranking in the **top 50 out of 1,000** participants in the online competition.\n",
        "\n",
        "https://drive.google.com/file/d/1dO-vsonTGtZXsR4xN3RTgyQtFhGP537z/view?usp=sharing"
      ]
    },
    {
      "cell_type": "code",
      "execution_count": null,
      "metadata": {
        "id": "X63PuzNQA8eb"
      },
      "outputs": [],
      "source": []
    }
  ],
  "metadata": {
    "kernelspec": {
      "display_name": "Python 3",
      "language": "python",
      "name": "python3"
    },
    "language_info": {
      "codemirror_mode": {
        "name": "ipython",
        "version": 3
      },
      "file_extension": ".py",
      "mimetype": "text/x-python",
      "name": "python",
      "nbconvert_exporter": "python",
      "pygments_lexer": "ipython3",
      "version": "3.8.10"
    },
    "colab": {
      "provenance": []
    }
  },
  "nbformat": 4,
  "nbformat_minor": 0
}